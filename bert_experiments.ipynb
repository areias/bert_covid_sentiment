{
  "nbformat": 4,
  "nbformat_minor": 0,
  "metadata": {
    "accelerator": "GPU",
    "colab": {
      "name": "bert_experiments.ipynb",
      "provenance": [],
      "authorship_tag": "ABX9TyMOvtfZrWZQcCgsiK10habf",
      "include_colab_link": true
    },
    "kernelspec": {
      "display_name": "Python 3",
      "name": "python3"
    },
    "language_info": {
      "name": "python"
    }
  },
  "cells": [
    {
      "cell_type": "markdown",
      "metadata": {
        "id": "view-in-github",
        "colab_type": "text"
      },
      "source": [
        "<a href=\"https://colab.research.google.com/github/areias/bert_covid_sentiment/blob/main/bert_experiments.ipynb\" target=\"_parent\"><img src=\"https://colab.research.google.com/assets/colab-badge.svg\" alt=\"Open In Colab\"/></a>"
      ]
    },
    {
      "cell_type": "code",
      "metadata": {
        "id": "tix-v4iDUQxM"
      },
      "source": [
        "\"\"\"requirements \n",
        "tensorflow==2.2.0\n",
        "tensorflow_addons==0.11.2\n",
        "\"\"\""
      ],
      "execution_count": null,
      "outputs": []
    },
    {
      "cell_type": "code",
      "metadata": {
        "colab": {
          "base_uri": "https://localhost:8080/",
          "height": 1000
        },
        "id": "UStuqQMKUabg",
        "outputId": "8737b125-0959-422a-dcb3-d428a170300b"
      },
      "source": [
        "!pip install tensorflow==2.2.0"
      ],
      "execution_count": 4,
      "outputs": [
        {
          "output_type": "stream",
          "name": "stdout",
          "text": [
            "Collecting tensorflow==2.2.0\n",
            "  Downloading tensorflow-2.2.0-cp37-cp37m-manylinux2010_x86_64.whl (516.2 MB)\n",
            "\u001b[K     |████████████████████████████████| 516.2 MB 802 bytes/s \n",
            "\u001b[?25hCollecting tensorflow-estimator<2.3.0,>=2.2.0\n",
            "  Downloading tensorflow_estimator-2.2.0-py2.py3-none-any.whl (454 kB)\n",
            "\u001b[K     |████████████████████████████████| 454 kB 71.9 MB/s \n",
            "\u001b[?25hRequirement already satisfied: wheel>=0.26 in /usr/local/lib/python3.7/dist-packages (from tensorflow==2.2.0) (0.37.0)\n",
            "Requirement already satisfied: six>=1.12.0 in /usr/local/lib/python3.7/dist-packages (from tensorflow==2.2.0) (1.15.0)\n",
            "Requirement already satisfied: termcolor>=1.1.0 in /usr/local/lib/python3.7/dist-packages (from tensorflow==2.2.0) (1.1.0)\n",
            "Requirement already satisfied: scipy==1.4.1 in /usr/local/lib/python3.7/dist-packages (from tensorflow==2.2.0) (1.4.1)\n",
            "Requirement already satisfied: protobuf>=3.8.0 in /usr/local/lib/python3.7/dist-packages (from tensorflow==2.2.0) (3.17.3)\n",
            "Requirement already satisfied: google-pasta>=0.1.8 in /usr/local/lib/python3.7/dist-packages (from tensorflow==2.2.0) (0.2.0)\n",
            "Requirement already satisfied: absl-py>=0.7.0 in /usr/local/lib/python3.7/dist-packages (from tensorflow==2.2.0) (0.12.0)\n",
            "Collecting tensorboard<2.3.0,>=2.2.0\n",
            "  Downloading tensorboard-2.2.2-py3-none-any.whl (3.0 MB)\n",
            "\u001b[K     |████████████████████████████████| 3.0 MB 59.6 MB/s \n",
            "\u001b[?25hRequirement already satisfied: numpy<2.0,>=1.16.0 in /usr/local/lib/python3.7/dist-packages (from tensorflow==2.2.0) (1.19.5)\n",
            "Requirement already satisfied: wrapt>=1.11.1 in /usr/local/lib/python3.7/dist-packages (from tensorflow==2.2.0) (1.13.3)\n",
            "Requirement already satisfied: grpcio>=1.8.6 in /usr/local/lib/python3.7/dist-packages (from tensorflow==2.2.0) (1.41.1)\n",
            "Requirement already satisfied: keras-preprocessing>=1.1.0 in /usr/local/lib/python3.7/dist-packages (from tensorflow==2.2.0) (1.1.2)\n",
            "Collecting gast==0.3.3\n",
            "  Downloading gast-0.3.3-py2.py3-none-any.whl (9.7 kB)\n",
            "Collecting h5py<2.11.0,>=2.10.0\n",
            "  Downloading h5py-2.10.0-cp37-cp37m-manylinux1_x86_64.whl (2.9 MB)\n",
            "\u001b[K     |████████████████████████████████| 2.9 MB 35.0 MB/s \n",
            "\u001b[?25hRequirement already satisfied: opt-einsum>=2.3.2 in /usr/local/lib/python3.7/dist-packages (from tensorflow==2.2.0) (3.3.0)\n",
            "Requirement already satisfied: astunparse==1.6.3 in /usr/local/lib/python3.7/dist-packages (from tensorflow==2.2.0) (1.6.3)\n",
            "Requirement already satisfied: tensorboard-plugin-wit>=1.6.0 in /usr/local/lib/python3.7/dist-packages (from tensorboard<2.3.0,>=2.2.0->tensorflow==2.2.0) (1.8.0)\n",
            "Requirement already satisfied: werkzeug>=0.11.15 in /usr/local/lib/python3.7/dist-packages (from tensorboard<2.3.0,>=2.2.0->tensorflow==2.2.0) (1.0.1)\n",
            "Requirement already satisfied: markdown>=2.6.8 in /usr/local/lib/python3.7/dist-packages (from tensorboard<2.3.0,>=2.2.0->tensorflow==2.2.0) (3.3.4)\n",
            "Requirement already satisfied: google-auth<2,>=1.6.3 in /usr/local/lib/python3.7/dist-packages (from tensorboard<2.3.0,>=2.2.0->tensorflow==2.2.0) (1.35.0)\n",
            "Requirement already satisfied: google-auth-oauthlib<0.5,>=0.4.1 in /usr/local/lib/python3.7/dist-packages (from tensorboard<2.3.0,>=2.2.0->tensorflow==2.2.0) (0.4.6)\n",
            "Requirement already satisfied: requests<3,>=2.21.0 in /usr/local/lib/python3.7/dist-packages (from tensorboard<2.3.0,>=2.2.0->tensorflow==2.2.0) (2.23.0)\n",
            "Requirement already satisfied: setuptools>=41.0.0 in /usr/local/lib/python3.7/dist-packages (from tensorboard<2.3.0,>=2.2.0->tensorflow==2.2.0) (57.4.0)\n",
            "Requirement already satisfied: rsa<5,>=3.1.4 in /usr/local/lib/python3.7/dist-packages (from google-auth<2,>=1.6.3->tensorboard<2.3.0,>=2.2.0->tensorflow==2.2.0) (4.7.2)\n",
            "Requirement already satisfied: pyasn1-modules>=0.2.1 in /usr/local/lib/python3.7/dist-packages (from google-auth<2,>=1.6.3->tensorboard<2.3.0,>=2.2.0->tensorflow==2.2.0) (0.2.8)\n",
            "Requirement already satisfied: cachetools<5.0,>=2.0.0 in /usr/local/lib/python3.7/dist-packages (from google-auth<2,>=1.6.3->tensorboard<2.3.0,>=2.2.0->tensorflow==2.2.0) (4.2.4)\n",
            "Requirement already satisfied: requests-oauthlib>=0.7.0 in /usr/local/lib/python3.7/dist-packages (from google-auth-oauthlib<0.5,>=0.4.1->tensorboard<2.3.0,>=2.2.0->tensorflow==2.2.0) (1.3.0)\n",
            "Requirement already satisfied: importlib-metadata in /usr/local/lib/python3.7/dist-packages (from markdown>=2.6.8->tensorboard<2.3.0,>=2.2.0->tensorflow==2.2.0) (4.8.2)\n",
            "Requirement already satisfied: pyasn1<0.5.0,>=0.4.6 in /usr/local/lib/python3.7/dist-packages (from pyasn1-modules>=0.2.1->google-auth<2,>=1.6.3->tensorboard<2.3.0,>=2.2.0->tensorflow==2.2.0) (0.4.8)\n",
            "Requirement already satisfied: urllib3!=1.25.0,!=1.25.1,<1.26,>=1.21.1 in /usr/local/lib/python3.7/dist-packages (from requests<3,>=2.21.0->tensorboard<2.3.0,>=2.2.0->tensorflow==2.2.0) (1.24.3)\n",
            "Requirement already satisfied: idna<3,>=2.5 in /usr/local/lib/python3.7/dist-packages (from requests<3,>=2.21.0->tensorboard<2.3.0,>=2.2.0->tensorflow==2.2.0) (2.10)\n",
            "Requirement already satisfied: chardet<4,>=3.0.2 in /usr/local/lib/python3.7/dist-packages (from requests<3,>=2.21.0->tensorboard<2.3.0,>=2.2.0->tensorflow==2.2.0) (3.0.4)\n",
            "Requirement already satisfied: certifi>=2017.4.17 in /usr/local/lib/python3.7/dist-packages (from requests<3,>=2.21.0->tensorboard<2.3.0,>=2.2.0->tensorflow==2.2.0) (2021.10.8)\n",
            "Requirement already satisfied: oauthlib>=3.0.0 in /usr/local/lib/python3.7/dist-packages (from requests-oauthlib>=0.7.0->google-auth-oauthlib<0.5,>=0.4.1->tensorboard<2.3.0,>=2.2.0->tensorflow==2.2.0) (3.1.1)\n",
            "Requirement already satisfied: typing-extensions>=3.6.4 in /usr/local/lib/python3.7/dist-packages (from importlib-metadata->markdown>=2.6.8->tensorboard<2.3.0,>=2.2.0->tensorflow==2.2.0) (3.10.0.2)\n",
            "Requirement already satisfied: zipp>=0.5 in /usr/local/lib/python3.7/dist-packages (from importlib-metadata->markdown>=2.6.8->tensorboard<2.3.0,>=2.2.0->tensorflow==2.2.0) (3.6.0)\n",
            "Installing collected packages: tensorflow-estimator, tensorboard, h5py, gast, tensorflow\n",
            "  Attempting uninstall: tensorflow-estimator\n",
            "    Found existing installation: tensorflow-estimator 2.7.0\n",
            "    Uninstalling tensorflow-estimator-2.7.0:\n",
            "      Successfully uninstalled tensorflow-estimator-2.7.0\n",
            "  Attempting uninstall: tensorboard\n",
            "    Found existing installation: tensorboard 2.7.0\n",
            "    Uninstalling tensorboard-2.7.0:\n",
            "      Successfully uninstalled tensorboard-2.7.0\n",
            "  Attempting uninstall: h5py\n",
            "    Found existing installation: h5py 3.1.0\n",
            "    Uninstalling h5py-3.1.0:\n",
            "      Successfully uninstalled h5py-3.1.0\n",
            "  Attempting uninstall: gast\n",
            "    Found existing installation: gast 0.4.0\n",
            "    Uninstalling gast-0.4.0:\n",
            "      Successfully uninstalled gast-0.4.0\n",
            "  Attempting uninstall: tensorflow\n",
            "    Found existing installation: tensorflow 2.7.0\n",
            "    Uninstalling tensorflow-2.7.0:\n",
            "      Successfully uninstalled tensorflow-2.7.0\n",
            "Successfully installed gast-0.3.3 h5py-2.10.0 tensorboard-2.2.2 tensorflow-2.2.0 tensorflow-estimator-2.2.0\n"
          ]
        },
        {
          "output_type": "display_data",
          "data": {
            "application/vnd.colab-display-data+json": {
              "pip_warning": {
                "packages": [
                  "gast",
                  "h5py",
                  "tensorboard",
                  "tensorflow"
                ]
              }
            }
          },
          "metadata": {}
        },
        {
          "output_type": "stream",
          "name": "stdout",
          "text": [
            "2.7.0\n"
          ]
        }
      ]
    },
    {
      "cell_type": "code",
      "metadata": {
        "id": "R3VaKK1eVyor",
        "outputId": "47b56a58-bb17-4510-f8e4-7c193a965225",
        "colab": {
          "base_uri": "https://localhost:8080/"
        }
      },
      "source": [
        "import tensorflow\n",
        "print(tensorflow.__version__)"
      ],
      "execution_count": 2,
      "outputs": [
        {
          "output_type": "stream",
          "name": "stdout",
          "text": [
            "2.2.0\n"
          ]
        }
      ]
    },
    {
      "cell_type": "code",
      "metadata": {
        "colab": {
          "base_uri": "https://localhost:8080/"
        },
        "id": "ZYcDdydoVNQa",
        "outputId": "d00a67b5-c615-4c16-abd4-f7fc32b1f6b6"
      },
      "source": [
        "!pip install  tensorflow_addons==0.11.2\n"
      ],
      "execution_count": 2,
      "outputs": [
        {
          "output_type": "stream",
          "name": "stdout",
          "text": [
            "Collecting tensorflow_addons==0.11.2\n",
            "  Downloading tensorflow_addons-0.11.2-cp37-cp37m-manylinux2010_x86_64.whl (1.1 MB)\n",
            "\u001b[?25l\r\u001b[K     |▎                               | 10 kB 23.9 MB/s eta 0:00:01\r\u001b[K     |▋                               | 20 kB 30.8 MB/s eta 0:00:01\r\u001b[K     |█                               | 30 kB 12.4 MB/s eta 0:00:01\r\u001b[K     |█▏                              | 40 kB 9.4 MB/s eta 0:00:01\r\u001b[K     |█▌                              | 51 kB 5.0 MB/s eta 0:00:01\r\u001b[K     |█▉                              | 61 kB 5.3 MB/s eta 0:00:01\r\u001b[K     |██                              | 71 kB 5.6 MB/s eta 0:00:01\r\u001b[K     |██▍                             | 81 kB 6.3 MB/s eta 0:00:01\r\u001b[K     |██▊                             | 92 kB 4.7 MB/s eta 0:00:01\r\u001b[K     |███                             | 102 kB 5.1 MB/s eta 0:00:01\r\u001b[K     |███▎                            | 112 kB 5.1 MB/s eta 0:00:01\r\u001b[K     |███▋                            | 122 kB 5.1 MB/s eta 0:00:01\r\u001b[K     |███▉                            | 133 kB 5.1 MB/s eta 0:00:01\r\u001b[K     |████▏                           | 143 kB 5.1 MB/s eta 0:00:01\r\u001b[K     |████▌                           | 153 kB 5.1 MB/s eta 0:00:01\r\u001b[K     |████▊                           | 163 kB 5.1 MB/s eta 0:00:01\r\u001b[K     |█████                           | 174 kB 5.1 MB/s eta 0:00:01\r\u001b[K     |█████▍                          | 184 kB 5.1 MB/s eta 0:00:01\r\u001b[K     |█████▋                          | 194 kB 5.1 MB/s eta 0:00:01\r\u001b[K     |██████                          | 204 kB 5.1 MB/s eta 0:00:01\r\u001b[K     |██████▎                         | 215 kB 5.1 MB/s eta 0:00:01\r\u001b[K     |██████▌                         | 225 kB 5.1 MB/s eta 0:00:01\r\u001b[K     |██████▉                         | 235 kB 5.1 MB/s eta 0:00:01\r\u001b[K     |███████▏                        | 245 kB 5.1 MB/s eta 0:00:01\r\u001b[K     |███████▌                        | 256 kB 5.1 MB/s eta 0:00:01\r\u001b[K     |███████▊                        | 266 kB 5.1 MB/s eta 0:00:01\r\u001b[K     |████████                        | 276 kB 5.1 MB/s eta 0:00:01\r\u001b[K     |████████▍                       | 286 kB 5.1 MB/s eta 0:00:01\r\u001b[K     |████████▋                       | 296 kB 5.1 MB/s eta 0:00:01\r\u001b[K     |█████████                       | 307 kB 5.1 MB/s eta 0:00:01\r\u001b[K     |█████████▎                      | 317 kB 5.1 MB/s eta 0:00:01\r\u001b[K     |█████████▌                      | 327 kB 5.1 MB/s eta 0:00:01\r\u001b[K     |█████████▉                      | 337 kB 5.1 MB/s eta 0:00:01\r\u001b[K     |██████████▏                     | 348 kB 5.1 MB/s eta 0:00:01\r\u001b[K     |██████████▍                     | 358 kB 5.1 MB/s eta 0:00:01\r\u001b[K     |██████████▊                     | 368 kB 5.1 MB/s eta 0:00:01\r\u001b[K     |███████████                     | 378 kB 5.1 MB/s eta 0:00:01\r\u001b[K     |███████████▎                    | 389 kB 5.1 MB/s eta 0:00:01\r\u001b[K     |███████████▋                    | 399 kB 5.1 MB/s eta 0:00:01\r\u001b[K     |████████████                    | 409 kB 5.1 MB/s eta 0:00:01\r\u001b[K     |████████████▏                   | 419 kB 5.1 MB/s eta 0:00:01\r\u001b[K     |████████████▌                   | 430 kB 5.1 MB/s eta 0:00:01\r\u001b[K     |████████████▉                   | 440 kB 5.1 MB/s eta 0:00:01\r\u001b[K     |█████████████                   | 450 kB 5.1 MB/s eta 0:00:01\r\u001b[K     |█████████████▍                  | 460 kB 5.1 MB/s eta 0:00:01\r\u001b[K     |█████████████▊                  | 471 kB 5.1 MB/s eta 0:00:01\r\u001b[K     |██████████████                  | 481 kB 5.1 MB/s eta 0:00:01\r\u001b[K     |██████████████▎                 | 491 kB 5.1 MB/s eta 0:00:01\r\u001b[K     |██████████████▋                 | 501 kB 5.1 MB/s eta 0:00:01\r\u001b[K     |███████████████                 | 512 kB 5.1 MB/s eta 0:00:01\r\u001b[K     |███████████████▏                | 522 kB 5.1 MB/s eta 0:00:01\r\u001b[K     |███████████████▌                | 532 kB 5.1 MB/s eta 0:00:01\r\u001b[K     |███████████████▉                | 542 kB 5.1 MB/s eta 0:00:01\r\u001b[K     |████████████████                | 552 kB 5.1 MB/s eta 0:00:01\r\u001b[K     |████████████████▍               | 563 kB 5.1 MB/s eta 0:00:01\r\u001b[K     |████████████████▊               | 573 kB 5.1 MB/s eta 0:00:01\r\u001b[K     |█████████████████               | 583 kB 5.1 MB/s eta 0:00:01\r\u001b[K     |█████████████████▎              | 593 kB 5.1 MB/s eta 0:00:01\r\u001b[K     |█████████████████▋              | 604 kB 5.1 MB/s eta 0:00:01\r\u001b[K     |█████████████████▉              | 614 kB 5.1 MB/s eta 0:00:01\r\u001b[K     |██████████████████▏             | 624 kB 5.1 MB/s eta 0:00:01\r\u001b[K     |██████████████████▌             | 634 kB 5.1 MB/s eta 0:00:01\r\u001b[K     |██████████████████▊             | 645 kB 5.1 MB/s eta 0:00:01\r\u001b[K     |███████████████████             | 655 kB 5.1 MB/s eta 0:00:01\r\u001b[K     |███████████████████▍            | 665 kB 5.1 MB/s eta 0:00:01\r\u001b[K     |███████████████████▋            | 675 kB 5.1 MB/s eta 0:00:01\r\u001b[K     |████████████████████            | 686 kB 5.1 MB/s eta 0:00:01\r\u001b[K     |████████████████████▎           | 696 kB 5.1 MB/s eta 0:00:01\r\u001b[K     |████████████████████▌           | 706 kB 5.1 MB/s eta 0:00:01\r\u001b[K     |████████████████████▉           | 716 kB 5.1 MB/s eta 0:00:01\r\u001b[K     |█████████████████████▏          | 727 kB 5.1 MB/s eta 0:00:01\r\u001b[K     |█████████████████████▍          | 737 kB 5.1 MB/s eta 0:00:01\r\u001b[K     |█████████████████████▊          | 747 kB 5.1 MB/s eta 0:00:01\r\u001b[K     |██████████████████████          | 757 kB 5.1 MB/s eta 0:00:01\r\u001b[K     |██████████████████████▍         | 768 kB 5.1 MB/s eta 0:00:01\r\u001b[K     |██████████████████████▋         | 778 kB 5.1 MB/s eta 0:00:01\r\u001b[K     |███████████████████████         | 788 kB 5.1 MB/s eta 0:00:01\r\u001b[K     |███████████████████████▎        | 798 kB 5.1 MB/s eta 0:00:01\r\u001b[K     |███████████████████████▌        | 808 kB 5.1 MB/s eta 0:00:01\r\u001b[K     |███████████████████████▉        | 819 kB 5.1 MB/s eta 0:00:01\r\u001b[K     |████████████████████████▏       | 829 kB 5.1 MB/s eta 0:00:01\r\u001b[K     |████████████████████████▍       | 839 kB 5.1 MB/s eta 0:00:01\r\u001b[K     |████████████████████████▊       | 849 kB 5.1 MB/s eta 0:00:01\r\u001b[K     |█████████████████████████       | 860 kB 5.1 MB/s eta 0:00:01\r\u001b[K     |█████████████████████████▎      | 870 kB 5.1 MB/s eta 0:00:01\r\u001b[K     |█████████████████████████▋      | 880 kB 5.1 MB/s eta 0:00:01\r\u001b[K     |██████████████████████████      | 890 kB 5.1 MB/s eta 0:00:01\r\u001b[K     |██████████████████████████▏     | 901 kB 5.1 MB/s eta 0:00:01\r\u001b[K     |██████████████████████████▌     | 911 kB 5.1 MB/s eta 0:00:01\r\u001b[K     |██████████████████████████▉     | 921 kB 5.1 MB/s eta 0:00:01\r\u001b[K     |███████████████████████████     | 931 kB 5.1 MB/s eta 0:00:01\r\u001b[K     |███████████████████████████▍    | 942 kB 5.1 MB/s eta 0:00:01\r\u001b[K     |███████████████████████████▊    | 952 kB 5.1 MB/s eta 0:00:01\r\u001b[K     |████████████████████████████    | 962 kB 5.1 MB/s eta 0:00:01\r\u001b[K     |████████████████████████████▎   | 972 kB 5.1 MB/s eta 0:00:01\r\u001b[K     |████████████████████████████▋   | 983 kB 5.1 MB/s eta 0:00:01\r\u001b[K     |████████████████████████████▉   | 993 kB 5.1 MB/s eta 0:00:01\r\u001b[K     |█████████████████████████████▏  | 1.0 MB 5.1 MB/s eta 0:00:01\r\u001b[K     |█████████████████████████████▌  | 1.0 MB 5.1 MB/s eta 0:00:01\r\u001b[K     |█████████████████████████████▉  | 1.0 MB 5.1 MB/s eta 0:00:01\r\u001b[K     |██████████████████████████████  | 1.0 MB 5.1 MB/s eta 0:00:01\r\u001b[K     |██████████████████████████████▍ | 1.0 MB 5.1 MB/s eta 0:00:01\r\u001b[K     |██████████████████████████████▊ | 1.1 MB 5.1 MB/s eta 0:00:01\r\u001b[K     |███████████████████████████████ | 1.1 MB 5.1 MB/s eta 0:00:01\r\u001b[K     |███████████████████████████████▎| 1.1 MB 5.1 MB/s eta 0:00:01\r\u001b[K     |███████████████████████████████▋| 1.1 MB 5.1 MB/s eta 0:00:01\r\u001b[K     |███████████████████████████████▉| 1.1 MB 5.1 MB/s eta 0:00:01\r\u001b[K     |████████████████████████████████| 1.1 MB 5.1 MB/s \n",
            "\u001b[?25hRequirement already satisfied: typeguard>=2.7 in /usr/local/lib/python3.7/dist-packages (from tensorflow_addons==0.11.2) (2.7.1)\n",
            "Installing collected packages: tensorflow-addons\n",
            "Successfully installed tensorflow-addons-0.11.2\n"
          ]
        }
      ]
    },
    {
      "cell_type": "code",
      "metadata": {
        "id": "idYJyLyUV3XI",
        "outputId": "c340311e-884e-4bf3-95be-a46e72c7634f",
        "colab": {
          "base_uri": "https://localhost:8080/"
        }
      },
      "source": [
        "import tensorflow_addons\n",
        "print(tensorflow_addons.__version__)"
      ],
      "execution_count": 3,
      "outputs": [
        {
          "output_type": "stream",
          "name": "stdout",
          "text": [
            "0.11.2\n"
          ]
        }
      ]
    },
    {
      "cell_type": "code",
      "metadata": {
        "colab": {
          "base_uri": "https://localhost:8080/"
        },
        "id": "8KQvJc2-NXfE",
        "outputId": "82a7abdd-abf8-44f8-a26d-0b7165d98fa2"
      },
      "source": [
        "\n",
        "!git clone -b master https://github.com/digitalepidemiologylab/covid-twitter-bert.git \n",
        "\n"
      ],
      "execution_count": 4,
      "outputs": [
        {
          "output_type": "stream",
          "name": "stdout",
          "text": [
            "Cloning into 'covid-twitter-bert'...\n",
            "remote: Enumerating objects: 1660, done.\u001b[K\n",
            "remote: Counting objects: 100% (222/222), done.\u001b[K\n",
            "remote: Compressing objects: 100% (133/133), done.\u001b[K\n",
            "remote: Total 1660 (delta 150), reused 140 (delta 88), pack-reused 1438\u001b[K\n",
            "Receiving objects: 100% (1660/1660), 3.48 MiB | 20.72 MiB/s, done.\n",
            "Resolving deltas: 100% (1050/1050), done.\n"
          ]
        }
      ]
    },
    {
      "cell_type": "code",
      "metadata": {
        "id": "ylIpaWrFuJJQ",
        "colab": {
          "base_uri": "https://localhost:8080/",
          "height": 784
        },
        "outputId": "7f988092-9c0b-4648-a916-9ace38c3c1e1"
      },
      "source": [
        "!pip install transformers"
      ],
      "execution_count": 5,
      "outputs": [
        {
          "output_type": "stream",
          "name": "stdout",
          "text": [
            "Collecting transformers\n",
            "  Downloading transformers-4.12.5-py3-none-any.whl (3.1 MB)\n",
            "\u001b[K     |████████████████████████████████| 3.1 MB 5.1 MB/s \n",
            "\u001b[?25hRequirement already satisfied: tqdm>=4.27 in /usr/local/lib/python3.7/dist-packages (from transformers) (4.62.3)\n",
            "Requirement already satisfied: filelock in /usr/local/lib/python3.7/dist-packages (from transformers) (3.3.2)\n",
            "Requirement already satisfied: packaging>=20.0 in /usr/local/lib/python3.7/dist-packages (from transformers) (21.2)\n",
            "Collecting huggingface-hub<1.0,>=0.1.0\n",
            "  Downloading huggingface_hub-0.1.2-py3-none-any.whl (59 kB)\n",
            "\u001b[K     |████████████████████████████████| 59 kB 6.5 MB/s \n",
            "\u001b[?25hRequirement already satisfied: numpy>=1.17 in /usr/local/lib/python3.7/dist-packages (from transformers) (1.19.5)\n",
            "Requirement already satisfied: regex!=2019.12.17 in /usr/local/lib/python3.7/dist-packages (from transformers) (2019.12.20)\n",
            "Requirement already satisfied: requests in /usr/local/lib/python3.7/dist-packages (from transformers) (2.23.0)\n",
            "Collecting pyyaml>=5.1\n",
            "  Downloading PyYAML-6.0-cp37-cp37m-manylinux_2_5_x86_64.manylinux1_x86_64.manylinux_2_12_x86_64.manylinux2010_x86_64.whl (596 kB)\n",
            "\u001b[K     |████████████████████████████████| 596 kB 69.6 MB/s \n",
            "\u001b[?25hRequirement already satisfied: importlib-metadata in /usr/local/lib/python3.7/dist-packages (from transformers) (4.8.2)\n",
            "Collecting sacremoses\n",
            "  Downloading sacremoses-0.0.46-py3-none-any.whl (895 kB)\n",
            "\u001b[K     |████████████████████████████████| 895 kB 29.2 MB/s \n",
            "\u001b[?25hCollecting tokenizers<0.11,>=0.10.1\n",
            "  Downloading tokenizers-0.10.3-cp37-cp37m-manylinux_2_5_x86_64.manylinux1_x86_64.manylinux_2_12_x86_64.manylinux2010_x86_64.whl (3.3 MB)\n",
            "\u001b[K     |████████████████████████████████| 3.3 MB 15.1 MB/s \n",
            "\u001b[?25hRequirement already satisfied: typing-extensions>=3.7.4.3 in /usr/local/lib/python3.7/dist-packages (from huggingface-hub<1.0,>=0.1.0->transformers) (3.10.0.2)\n",
            "Requirement already satisfied: pyparsing<3,>=2.0.2 in /usr/local/lib/python3.7/dist-packages (from packaging>=20.0->transformers) (2.4.7)\n",
            "Requirement already satisfied: zipp>=0.5 in /usr/local/lib/python3.7/dist-packages (from importlib-metadata->transformers) (3.6.0)\n",
            "Requirement already satisfied: urllib3!=1.25.0,!=1.25.1,<1.26,>=1.21.1 in /usr/local/lib/python3.7/dist-packages (from requests->transformers) (1.24.3)\n",
            "Requirement already satisfied: chardet<4,>=3.0.2 in /usr/local/lib/python3.7/dist-packages (from requests->transformers) (3.0.4)\n",
            "Requirement already satisfied: certifi>=2017.4.17 in /usr/local/lib/python3.7/dist-packages (from requests->transformers) (2021.10.8)\n",
            "Requirement already satisfied: idna<3,>=2.5 in /usr/local/lib/python3.7/dist-packages (from requests->transformers) (2.10)\n",
            "Requirement already satisfied: click in /usr/local/lib/python3.7/dist-packages (from sacremoses->transformers) (7.1.2)\n",
            "Requirement already satisfied: six in /usr/local/lib/python3.7/dist-packages (from sacremoses->transformers) (1.15.0)\n",
            "Requirement already satisfied: joblib in /usr/local/lib/python3.7/dist-packages (from sacremoses->transformers) (1.1.0)\n",
            "Installing collected packages: pyyaml, tokenizers, sacremoses, huggingface-hub, transformers\n",
            "  Attempting uninstall: pyyaml\n",
            "    Found existing installation: PyYAML 3.13\n",
            "    Uninstalling PyYAML-3.13:\n",
            "      Successfully uninstalled PyYAML-3.13\n",
            "Successfully installed huggingface-hub-0.1.2 pyyaml-6.0 sacremoses-0.0.46 tokenizers-0.10.3 transformers-4.12.5\n"
          ]
        },
        {
          "output_type": "display_data",
          "data": {
            "application/vnd.colab-display-data+json": {
              "pip_warning": {
                "packages": [
                  "yaml"
                ]
              }
            }
          },
          "metadata": {}
        }
      ]
    },
    {
      "cell_type": "code",
      "metadata": {
        "id": "WXGHQ4HUwEAt"
      },
      "source": [
        "from transformers import (\n",
        "   AutoConfig,\n",
        "   AutoTokenizer,\n",
        "   TFAutoModelForSequenceClassification,\n",
        "   AdamW,\n",
        "   glue_convert_examples_to_features\n",
        ")\n",
        "import tensorflow as tf\n",
        "import tensorflow_datasets as tfds\n",
        "import json"
      ],
      "execution_count": 4,
      "outputs": []
    },
    {
      "cell_type": "code",
      "metadata": {
        "id": "zxhnfxi3tw0_"
      },
      "source": [
        "import pandas as pd"
      ],
      "execution_count": 5,
      "outputs": []
    },
    {
      "cell_type": "code",
      "metadata": {
        "id": "-RMH5beNuEZv"
      },
      "source": [
        "df=pd.read_csv(\"train-4.csv\")"
      ],
      "execution_count": 7,
      "outputs": []
    },
    {
      "cell_type": "code",
      "metadata": {
        "colab": {
          "base_uri": "https://localhost:8080/",
          "height": 206
        },
        "id": "a89eqroYuG8S",
        "outputId": "61ff6619-242e-405b-add4-a7afae8a8768"
      },
      "source": [
        "df.head()"
      ],
      "execution_count": 9,
      "outputs": [
        {
          "output_type": "execute_result",
          "data": {
            "text/html": [
              "<div>\n",
              "<style scoped>\n",
              "    .dataframe tbody tr th:only-of-type {\n",
              "        vertical-align: middle;\n",
              "    }\n",
              "\n",
              "    .dataframe tbody tr th {\n",
              "        vertical-align: top;\n",
              "    }\n",
              "\n",
              "    .dataframe thead th {\n",
              "        text-align: right;\n",
              "    }\n",
              "</style>\n",
              "<table border=\"1\" class=\"dataframe\">\n",
              "  <thead>\n",
              "    <tr style=\"text-align: right;\">\n",
              "      <th></th>\n",
              "      <th>Unnamed: 0</th>\n",
              "      <th>tweet_id</th>\n",
              "      <th>text</th>\n",
              "      <th>label</th>\n",
              "    </tr>\n",
              "  </thead>\n",
              "  <tbody>\n",
              "    <tr>\n",
              "      <th>0</th>\n",
              "      <td>0</td>\n",
              "      <td>5.608318e+17</td>\n",
              "      <td>@GMA @GStephanopoulos #PalmDesert high school ...</td>\n",
              "      <td>0</td>\n",
              "    </tr>\n",
              "    <tr>\n",
              "      <th>1</th>\n",
              "      <td>1</td>\n",
              "      <td>7.720430e+17</td>\n",
              "      <td>SB121 [Passed] Meningococcal disease-pupils to...</td>\n",
              "      <td>0</td>\n",
              "    </tr>\n",
              "    <tr>\n",
              "      <th>2</th>\n",
              "      <td>2</td>\n",
              "      <td>5.262292e+17</td>\n",
              "      <td>@cabosetv @EvilGeniuses @EGiNcontroL @Razer th...</td>\n",
              "      <td>0</td>\n",
              "    </tr>\n",
              "    <tr>\n",
              "      <th>3</th>\n",
              "      <td>3</td>\n",
              "      <td>4.410094e+17</td>\n",
              "      <td>“@MizzTwerksum: All natural 😋🙌 squats not shot...</td>\n",
              "      <td>0</td>\n",
              "    </tr>\n",
              "    <tr>\n",
              "      <th>4</th>\n",
              "      <td>4</td>\n",
              "      <td>4.542856e+17</td>\n",
              "      <td>#travel #jobs Travel Immunization Nurse Specia...</td>\n",
              "      <td>0</td>\n",
              "    </tr>\n",
              "  </tbody>\n",
              "</table>\n",
              "</div>"
            ],
            "text/plain": [
              "   Unnamed: 0  ...  label\n",
              "0           0  ...      0\n",
              "1           1  ...      0\n",
              "2           2  ...      0\n",
              "3           3  ...      0\n",
              "4           4  ...      0\n",
              "\n",
              "[5 rows x 4 columns]"
            ]
          },
          "metadata": {},
          "execution_count": 9
        }
      ]
    },
    {
      "cell_type": "code",
      "metadata": {
        "colab": {
          "base_uri": "https://localhost:8080/"
        },
        "id": "K93H640euHfR",
        "outputId": "ddd08748-b6e1-455a-b4cb-0a2c155d92f2"
      },
      "source": [
        "df.label.value_counts()"
      ],
      "execution_count": 10,
      "outputs": [
        {
          "output_type": "execute_result",
          "data": {
            "text/plain": [
              " 1    1134\n",
              "-1    1134\n",
              " 0    1134\n",
              "Name: label, dtype: int64"
            ]
          },
          "metadata": {},
          "execution_count": 10
        }
      ]
    },
    {
      "cell_type": "code",
      "metadata": {
        "id": "iLy0rz2j0Uzt"
      },
      "source": [
        "# id,label,text\n",
        "df=df.loc[:,[\"tweet_id\",\"label\", \"text\"]]\n",
        "df.columns=['id','label', 'text']"
      ],
      "execution_count": 11,
      "outputs": []
    },
    {
      "cell_type": "code",
      "metadata": {
        "id": "OIcZ0ecAzZKn"
      },
      "source": [
        "import numpy as np"
      ],
      "execution_count": 12,
      "outputs": []
    },
    {
      "cell_type": "code",
      "metadata": {
        "id": "P7MmMFSczvip"
      },
      "source": [
        "\"\"\"\n",
        "    60% - train set,\n",
        "    20% - dev/validation set,\n",
        "    20% - test set\"\"\"\n",
        "\n",
        "train, dev, test = np.split(df.sample(frac=1, random_state=42), \n",
        "                       [int(.6*len(df)), int(.8*len(df))])"
      ],
      "execution_count": 14,
      "outputs": []
    },
    {
      "cell_type": "code",
      "metadata": {
        "colab": {
          "base_uri": "https://localhost:8080/"
        },
        "id": "xE93swEZz_Hg",
        "outputId": "313aa22d-01f9-42f7-ea4c-60023f638485"
      },
      "source": [
        "dev.info()"
      ],
      "execution_count": 15,
      "outputs": [
        {
          "output_type": "stream",
          "name": "stdout",
          "text": [
            "<class 'pandas.core.frame.DataFrame'>\n",
            "Int64Index: 680 entries, 2111 to 1140\n",
            "Data columns (total 3 columns):\n",
            " #   Column  Non-Null Count  Dtype  \n",
            "---  ------  --------------  -----  \n",
            " 0   id      680 non-null    float64\n",
            " 1   label   680 non-null    int64  \n",
            " 2   text    680 non-null    object \n",
            "dtypes: float64(1), int64(1), object(1)\n",
            "memory usage: 21.2+ KB\n"
          ]
        }
      ]
    },
    {
      "cell_type": "code",
      "metadata": {
        "id": "iwff5Ccg93CQ"
      },
      "source": [
        "import os \n",
        "os.makedirs(\"covid-twitter-bert/data/finetune/originals/crowdbreaks\")\n",
        "#os.makedirs(\"vocabs\")\n"
      ],
      "execution_count": 18,
      "outputs": []
    },
    {
      "cell_type": "code",
      "metadata": {
        "id": "2WR4qUmU0LO8"
      },
      "source": [
        "train.to_csv(\"covid-twitter-bert/data/finetune/originals/crowdbreaks/train.tsv\", sep=\"\\t\",index=False)\n",
        "dev.to_csv(\"covid-twitter-bert/data/finetune/originals/crowdbreaks/dev.tsv\", sep=\"\\t\",index=False)\n",
        "test.to_csv(\"covid-twitter-bert/data/finetune/originals/crowdbreaks/test.tsv\", sep=\"\\t\",index=False)\n"
      ],
      "execution_count": 108,
      "outputs": []
    },
    {
      "cell_type": "code",
      "metadata": {
        "id": "CGURJhWTxbnh"
      },
      "source": [
        "# from https://github.com/digitalepidemiologylab/covid-twitter-bert/blob/master/preprocess/create_finetune_data.py"
      ],
      "execution_count": 73,
      "outputs": []
    },
    {
      "cell_type": "code",
      "metadata": {
        "id": "lz1lepVq3Cry"
      },
      "source": [
        "# args\n",
        "\"\"\"\n",
        "cd preprocess\n",
        "python create_finetune_data.py \\\n",
        "  --run_prefix test_run \\\n",
        "  --finetune_datasets <dataset_name> \\\n",
        "  --model_class bert_large_uncased_wwm \\\n",
        "  --max_seq_length 96 \\\n",
        "  --asciify_emojis \\\n",
        "  --username_filler twitteruser \\\n",
        "  --url_filler twitterurl \\\n",
        "  --replace_multiple_usernames \\\n",
        "  --replace_multiple_urls \\\n",
        "  --remove_unicode_symbols\"\n",
        "\"\"\"\n",
        "\n",
        "args = {'run_prefix': \"test_run\",\n",
        "'finetune_datasets' : [\"crowdbreaks\"],\n",
        "'model_class' : \"covid-twitter-bert-2\",\n",
        "'max_seq_length' : 96,\n",
        "'asciify_emojis' : True,\n",
        "'username_filler' : \"twitteruser\",\n",
        "'url_filler' : \"twitterurl\", \n",
        "'replace_multiple_usernames' : True,\n",
        "'replace_multiple_urls' : True,\n",
        "'remove_unicode_symbols' : True}\n"
      ],
      "execution_count": 74,
      "outputs": []
    },
    {
      "cell_type": "code",
      "metadata": {
        "colab": {
          "base_uri": "https://localhost:8080/"
        },
        "id": "BNMEThu53TSH",
        "outputId": "fae3e1c5-b9b6-4e06-e393-ef3f43f00158"
      },
      "source": [
        "from collections import namedtuple\n",
        "arguments = namedtuple('arguments', ['run_prefix','finetune_datasets','model_class',\n",
        "                                     'max_seq_length', 'asciify_emojis','username_filler',\n",
        "                                    'url_filler', 'replace_multiple_usernames','replace_multiple_urls',\n",
        "                                      'remove_unicode_symbols','replace_usernames','replace_urls',\n",
        "                                     'standardize_punctuation','remove_accented_characters'])\n",
        "\n",
        "args = arguments(\"test_run\",[\"crowdbreaks\"],\"covid-twitter-bert-2\",\n",
        "                 96, True, \"twitteruser\", \n",
        "                 \"twitterurl\", True,True,\n",
        "                 True, True, True,\n",
        "                 True, True)\n",
        "args"
      ],
      "execution_count": 75,
      "outputs": [
        {
          "output_type": "execute_result",
          "data": {
            "text/plain": [
              "arguments(run_prefix='test_run', finetune_datasets=['crowdbreaks'], model_class='covid-twitter-bert-2', max_seq_length=96, asciify_emojis=True, username_filler='twitteruser', url_filler='twitterurl', replace_multiple_usernames=True, replace_multiple_urls=True, remove_unicode_symbols=True, replace_usernames=True, replace_urls=True, standardize_punctuation=True, remove_accented_characters=True)"
            ]
          },
          "metadata": {},
          "execution_count": 75
        }
      ]
    },
    {
      "cell_type": "code",
      "metadata": {
        "id": "YFJx97gV7Ej3"
      },
      "source": [
        "REQUIRED_COLUMNS = ['id', 'label', 'text']\n",
        "DATA_DIR = os.path.join('covid-twitter-bert/data')\n",
        "VOCAB_PATH = os.path.join('covid-twitter-bert/vocabs')\n"
      ],
      "execution_count": 76,
      "outputs": []
    },
    {
      "cell_type": "code",
      "metadata": {
        "id": "VYKnOS8iwa18"
      },
      "source": [
        "import datetime\n",
        "def get_run_name(args):\n",
        "    # Use timestamp to generate a unique run name\n",
        "    ts = datetime.datetime.now().strftime('%Y-%m-%d_%H-%M-%S_%f')\n",
        "    if args.run_prefix:\n",
        "        run_name = f'run_{ts}_{args.run_prefix}'\n",
        "    else:\n",
        "        run_name = f'run_{ts}'\n",
        "    return run_name"
      ],
      "execution_count": 77,
      "outputs": []
    },
    {
      "cell_type": "code",
      "metadata": {
        "colab": {
          "base_uri": "https://localhost:8080/",
          "height": 35
        },
        "id": "QCH78nBC8DqB",
        "outputId": "c6428cf9-0a22-49a5-b65b-931aa4f98df2"
      },
      "source": [
        "run_name = get_run_name(args)\n",
        "run_name"
      ],
      "execution_count": 78,
      "outputs": [
        {
          "output_type": "execute_result",
          "data": {
            "application/vnd.google.colaboratory.intrinsic+json": {
              "type": "string"
            },
            "text/plain": [
              "'run_2021-11-18_09-36-02_788194_test_run'"
            ]
          },
          "metadata": {},
          "execution_count": 78
        }
      ]
    },
    {
      "cell_type": "code",
      "metadata": {
        "colab": {
          "base_uri": "https://localhost:8080/",
          "height": 35
        },
        "id": "DHTAYs4_8Eo_",
        "outputId": "4c89d911-66b1-402f-ffcd-f0014ab5d53a"
      },
      "source": [
        "run_dir = os.path.join(DATA_DIR, 'finetune', run_name)\n",
        "run_dir"
      ],
      "execution_count": 79,
      "outputs": [
        {
          "output_type": "execute_result",
          "data": {
            "application/vnd.google.colaboratory.intrinsic+json": {
              "type": "string"
            },
            "text/plain": [
              "'covid-twitter-bert/data/finetune/run_2021-11-18_09-36-02_788194_test_run'"
            ]
          },
          "metadata": {},
          "execution_count": 79
        }
      ]
    },
    {
      "cell_type": "code",
      "metadata": {
        "id": "M4ZxTT_g9GCE"
      },
      "source": [
        "if not os.path.isdir(run_dir):\n",
        "  os.makedirs(run_dir)"
      ],
      "execution_count": 80,
      "outputs": []
    },
    {
      "cell_type": "code",
      "metadata": {
        "colab": {
          "base_uri": "https://localhost:8080/",
          "height": 35
        },
        "id": "6KTfKzqF9KWD",
        "outputId": "f37d7f70-ad02-40e8-9702-6bcfd357ded1"
      },
      "source": [
        "# find input data\n",
        "originals_dir = os.path.join(DATA_DIR, 'finetune', 'originals')\n",
        "originals_dir   "
      ],
      "execution_count": 81,
      "outputs": [
        {
          "output_type": "execute_result",
          "data": {
            "application/vnd.google.colaboratory.intrinsic+json": {
              "type": "string"
            },
            "text/plain": [
              "'covid-twitter-bert/data/finetune/originals'"
            ]
          },
          "metadata": {},
          "execution_count": 81
        }
      ]
    },
    {
      "cell_type": "code",
      "metadata": {
        "colab": {
          "base_uri": "https://localhost:8080/"
        },
        "id": "7NvQczFf9UBB",
        "outputId": "3ebe6e20-ffcc-49e5-b1e7-e0af66e858dc"
      },
      "source": [
        "if args.finetune_datasets is None or len(args.finetune_datasets) == 0:\n",
        "    finetune_datasets = os.listdir(originals_dir)\n",
        "else:\n",
        "    finetune_datasets = args.finetune_datasets\n",
        "finetune_datasets"
      ],
      "execution_count": 82,
      "outputs": [
        {
          "output_type": "execute_result",
          "data": {
            "text/plain": [
              "['crowdbreaks']"
            ]
          },
          "metadata": {},
          "execution_count": 82
        }
      ]
    },
    {
      "cell_type": "code",
      "metadata": {
        "id": "YFMpfHpc_O_F"
      },
      "source": [
        "# Pretrained models configuration, add model configuration here\n",
        "\n",
        "PRETRAINED_MODELS = {\n",
        "        'bert_large_uncased': {\n",
        "            'bucket_location': 'pretrained_models/bert/keras_bert/uncased_L-24_H-1024_A-16',\n",
        "            'hub_url': 'tensorflow/bert_en_uncased_L-24_H-1024_A-16/2',\n",
        "            'config': 'bert_config_large_uncased.json',\n",
        "            'is_tfhub_model': True,\n",
        "            'vocab_file': 'bert-large-uncased-vocab.txt',\n",
        "            'lower_case': True,\n",
        "            'do_whole_word_masking': False\n",
        "            },\n",
        "        'bert_multi_cased': {\n",
        "            'bucket_location': 'pretrained_models/bert/keras_bert/multi_cased_L-12_H-768_A-12',\n",
        "            'hub_url': 'tensorflow/bert_multi_cased_L-12_H-768_A-12/2',\n",
        "            'config': 'bert_config_multi_cased.json',\n",
        "            'is_tfhub_model': True,\n",
        "            'vocab_file': 'bert-multi-cased-vocab.txt',\n",
        "            'lower_case': False,\n",
        "            'do_whole_word_masking': False\n",
        "            },\n",
        "        'bert_large_uncased_wwm': {\n",
        "            'bucket_location': 'pretrained_models/bert/keras_bert/wwm_uncased_L-24_H-1024_A-16',\n",
        "            'hub_url': 'tensorflow/bert_en_wwm_uncased_L-24_H-1024_A-16/2',\n",
        "            'config': 'bert_config_large_uncased_wwm.json',\n",
        "            'is_tfhub_model': True,\n",
        "            'vocab_file': 'bert-large-uncased-whole-word-masking-vocab.txt',\n",
        "            'lower_case': True,\n",
        "            'do_whole_word_masking': True\n",
        "            },\n",
        "        'covid-twitter-bert': {\n",
        "            'hub_url': 'digitalepidemiologylab/covid-twitter-bert/1',\n",
        "            'is_tfhub_model': True,\n",
        "            'config': 'bert_config_covid_twitter_bert.json',\n",
        "            'vocab_file': 'bert-large-uncased-whole-word-masking-vocab.txt',\n",
        "            'lower_case': True,\n",
        "            'do_whole_word_masking': True\n",
        "            },\n",
        "        'covid-twitter-bert-2': {\n",
        "            'hub_url': 'digitalepidemiologylab/covid-twitter-bert/2',\n",
        "            'is_tfhub_model': True,\n",
        "            'config': 'bert_config_covid_twitter_bert.json',\n",
        "            'vocab_file': 'bert-large-uncased-whole-word-masking-vocab.txt',\n",
        "            'lower_case': True,\n",
        "            'do_whole_word_masking': True\n",
        "            }\n",
        "        }"
      ],
      "execution_count": 83,
      "outputs": []
    },
    {
      "cell_type": "code",
      "metadata": {
        "id": "LjjWFVOb_yIW"
      },
      "source": [
        "# https://tfhub.dev/digitalepidemiologylab/covid-twitter-bert/2\n",
        "\n",
        "\n"
      ],
      "execution_count": 84,
      "outputs": []
    },
    {
      "cell_type": "code",
      "metadata": {
        "colab": {
          "base_uri": "https://localhost:8080/"
        },
        "id": "vzdUiWRa9hXt",
        "outputId": "912aa4dc-63dd-4d78-fe6d-05e98b51424e"
      },
      "source": [
        "do_lower_case = PRETRAINED_MODELS[args.model_class]['lower_case']\n",
        "do_lower_case\n"
      ],
      "execution_count": 85,
      "outputs": [
        {
          "output_type": "execute_result",
          "data": {
            "text/plain": [
              "True"
            ]
          },
          "metadata": {},
          "execution_count": 85
        }
      ]
    },
    {
      "cell_type": "code",
      "metadata": {
        "id": "GTiP_gbIE4Mx"
      },
      "source": [
        "# compile regexes\n",
        "import re\n",
        "from html.parser import HTMLParser\n",
        "import unicodedata\n",
        "\n",
        "username_regex = re.compile(r'(^|[^@\\w])@(\\w{1,15})\\b')\n",
        "url_regex = re.compile(r'((www\\.[^\\s]+)|(https?://[^\\s]+)|(http?://[^\\s]+))')\n",
        "control_char_regex = re.compile(r'[\\r\\n\\t]+')\n",
        "# translate table for punctuation\n",
        "transl_table = dict([(ord(x), ord(y)) for x, y in zip(u\"‘’´“”–-\",  u\"'''\\\"\\\"--\")])\n",
        "# HTML parser\n",
        "html_parser = HTMLParser()"
      ],
      "execution_count": 86,
      "outputs": []
    },
    {
      "cell_type": "code",
      "metadata": {
        "id": "ApHemBTYEYfV"
      },
      "source": [
        "def standardize_text(text):\n",
        "    \"\"\"\n",
        "    1) Escape HTML\n",
        "    2) Replaces some non-standard punctuation with standard versions. \n",
        "    3) Replace \\r, \\n and \\t with white spaces\n",
        "    4) Removes all other control characters and the NULL byte\n",
        "    5) Removes duplicate white spaces\n",
        "    \"\"\"\n",
        "    html_parser = HTMLParser()\n",
        "\n",
        "    # escape HTML symbols\n",
        "    text = html_parser.unescape(text)\n",
        "    # standardize punctuation\n",
        "    text = text.translate(transl_table)\n",
        "    text = text.replace('…', '...')\n",
        "    # replace \\t, \\n and \\r characters by a whitespace\n",
        "    text = re.sub(control_char_regex, ' ', text)\n",
        "    # remove all remaining control characters\n",
        "    text = ''.join(ch for ch in text if unicodedata.category(ch)[0] != 'C')\n",
        "    # replace multiple spaces with single space\n",
        "    text = ' '.join(text.split())\n",
        "    return text.strip()"
      ],
      "execution_count": 87,
      "outputs": []
    },
    {
      "cell_type": "code",
      "metadata": {
        "id": "CY_x3-TwDjeJ"
      },
      "source": [
        "def replace_usernames(text, filler='user'):\n",
        "    # @<user> is a marker used internally. use filler instead\n",
        "    text = text.replace('@<user>', f'{filler}')\n",
        "    # replace other user handles by filler\n",
        "    text = re.sub(username_regex, filler, text)\n",
        "    # add spaces between, and remove double spaces again\n",
        "    text = text.replace(filler, f' {filler} ')\n",
        "    text = ' '.join(text.split())\n",
        "    return text"
      ],
      "execution_count": 88,
      "outputs": []
    },
    {
      "cell_type": "code",
      "metadata": {
        "id": "5RFtD1DWDjay"
      },
      "source": [
        "def replace_urls(text, filler='url'):\n",
        "    # <url> is a marker used internally. use filler instead\n",
        "    text = text.replace('<url>', filler)\n",
        "    # replace other urls by filler\n",
        "    text = re.sub(url_regex, filler, text)\n",
        "    # add spaces between, and remove double spaces again\n",
        "    text = text.replace(filler, f' {filler} ')\n",
        "    text = ' '.join(text.split())\n",
        "    return text"
      ],
      "execution_count": 89,
      "outputs": []
    },
    {
      "cell_type": "code",
      "metadata": {
        "colab": {
          "base_uri": "https://localhost:8080/"
        },
        "id": "kUVFtOqHDjYJ",
        "outputId": "7c1ee0a8-3c4b-4ae3-c395-fa560c24efa4"
      },
      "source": [
        "!pip install emoji\n",
        "import emoji\n",
        "def asciify_emojis(text):\n",
        "    \"\"\"\n",
        "    Converts emojis into text aliases. E.g. 👍 becomes :thumbs_up:\n",
        "    For a full list of text aliases see: https://www.webfx.com/tools/emoji-cheat-sheet/\n",
        "    \"\"\"\n",
        "    text = emoji.demojize(text)\n",
        "    return text"
      ],
      "execution_count": 90,
      "outputs": [
        {
          "output_type": "stream",
          "name": "stdout",
          "text": [
            "Requirement already satisfied: emoji in /usr/local/lib/python3.7/dist-packages (1.6.1)\n"
          ]
        }
      ]
    },
    {
      "cell_type": "code",
      "metadata": {
        "colab": {
          "base_uri": "https://localhost:8080/"
        },
        "id": "xnq6u040DjVy",
        "outputId": "a1bb22ae-ddc8-41d5-b9e9-08ff8f9a3c60"
      },
      "source": [
        "!pip install unidecode \n",
        "import unidecode\n",
        "def standardize_punctuation(text):\n",
        "    return ''.join([unidecode.unidecode(t) if unicodedata.category(t)[0] == 'P' else t for t in text])\n"
      ],
      "execution_count": 91,
      "outputs": [
        {
          "output_type": "stream",
          "name": "stdout",
          "text": [
            "Requirement already satisfied: unidecode in /usr/local/lib/python3.7/dist-packages (1.3.2)\n"
          ]
        }
      ]
    },
    {
      "cell_type": "code",
      "metadata": {
        "id": "ewtCFKJuDjTC"
      },
      "source": [
        "\n",
        "def replace_multi_occurrences(text, filler):\n",
        "    \"\"\"Replaces multiple occurrences of filler with n filler\"\"\"\n",
        "    # only run if we have multiple occurrences of filler\n",
        "    if text.count(filler) <= 1:\n",
        "        return text\n",
        "    # pad fillers with whitespace\n",
        "    text = text.replace(f'{filler}', f' {filler} ')\n",
        "    # remove introduced duplicate whitespaces\n",
        "    text = ' '.join(text.split())\n",
        "    # find indices of occurrences\n",
        "    indices = []\n",
        "    for m in re.finditer(r'{}'.format(filler), text):\n",
        "        index = m.start()\n",
        "        indices.append(index)\n",
        "    # collect merge list\n",
        "    merge_list = []\n",
        "    for i, index in enumerate(indices):\n",
        "        if i > 0 and index - old_index == len(filler) + 1:\n",
        "            # found two consecutive fillers\n",
        "            if len(merge_list) > 0 and merge_list[-1][1] == old_index:\n",
        "                # extend previous item\n",
        "                merge_list[-1][1] = index\n",
        "                merge_list[-1][2] += 1\n",
        "            else:\n",
        "                # create new item\n",
        "                merge_list.append([old_index, index, 2])\n",
        "        old_index = index\n",
        "    # merge occurrences\n",
        "    if len(merge_list) > 0:\n",
        "        new_text = ''\n",
        "        pos = 0\n",
        "        for (start, end, count) in merge_list:\n",
        "            new_text += text[pos:start]\n",
        "            new_text += f'{count} {filler}'\n",
        "            pos = end + len(filler)\n",
        "        new_text += text[pos:]\n",
        "        text = new_text\n",
        "    return text"
      ],
      "execution_count": 92,
      "outputs": []
    },
    {
      "cell_type": "code",
      "metadata": {
        "id": "vqsofBxWDjQk"
      },
      "source": [
        "def remove_unicode_symbols(text):\n",
        "    text = ''.join(ch for ch in text if unicodedata.category(ch)[0] != 'So')\n",
        "    return text\n"
      ],
      "execution_count": 93,
      "outputs": []
    },
    {
      "cell_type": "code",
      "metadata": {
        "id": "4kobMbMfDjNV"
      },
      "source": [
        "def remove_accented_characters(text):\n",
        "    text = unidecode.unidecode(text)\n",
        "    return text"
      ],
      "execution_count": 94,
      "outputs": []
    },
    {
      "cell_type": "code",
      "metadata": {
        "id": "VXQ1ZDbdDjK_",
        "colab": {
          "base_uri": "https://localhost:8080/"
        },
        "outputId": "b9db0605-3e85-436b-df17-63d0c4869964"
      },
      "source": [
        "!git clone https://github.com/tensorflow/models.git  covid-twitter-bert/tensorflow_models2 --depth=1\n",
        "\n"
      ],
      "execution_count": 95,
      "outputs": [
        {
          "output_type": "stream",
          "name": "stdout",
          "text": [
            "fatal: destination path 'covid-twitter-bert/tensorflow_models2' already exists and is not an empty directory.\n"
          ]
        }
      ]
    },
    {
      "cell_type": "code",
      "metadata": {
        "id": "tZj2heBoZLtF",
        "outputId": "ac85a81c-205c-4d07-e30f-cfbe03993fee",
        "colab": {
          "base_uri": "https://localhost:8080/"
        }
      },
      "source": [
        "!~"
      ],
      "execution_count": 96,
      "outputs": [
        {
          "output_type": "stream",
          "name": "stdout",
          "text": [
            "/bin/bash: /root: Is a directory\n"
          ]
        }
      ]
    },
    {
      "cell_type": "code",
      "metadata": {
        "id": "l-VhCkFCY0EJ",
        "outputId": "918f88d1-c934-40c6-d64f-998f465f22cc",
        "colab": {
          "base_uri": "https://localhost:8080/"
        }
      },
      "source": [
        "!git fetch https://github.com/tensorflow/models.git 9349003 "
      ],
      "execution_count": 97,
      "outputs": [
        {
          "output_type": "stream",
          "name": "stdout",
          "text": [
            "fatal: not a git repository (or any of the parent directories): .git\n"
          ]
        }
      ]
    },
    {
      "cell_type": "code",
      "metadata": {
        "id": "DelpGkNBDjIf"
      },
      "source": [
        "import sys\n",
        "sys.path.append('covid-twitter-bert/tensorflow_models')"
      ],
      "execution_count": 98,
      "outputs": []
    },
    {
      "cell_type": "code",
      "metadata": {
        "id": "syVbDod1YW2V",
        "outputId": "105b65eb-dfde-4c6a-d9fe-57fdc011596b",
        "colab": {
          "base_uri": "https://localhost:8080/"
        }
      },
      "source": [
        "!pip install sentencepiece"
      ],
      "execution_count": 99,
      "outputs": [
        {
          "output_type": "stream",
          "name": "stdout",
          "text": [
            "Requirement already satisfied: sentencepiece in /usr/local/lib/python3.7/dist-packages (0.1.96)\n"
          ]
        }
      ]
    },
    {
      "cell_type": "code",
      "metadata": {
        "id": "N6qDmUXdHB_7"
      },
      "source": [
        "from official.nlp.data.classifier_data_lib import DataProcessor, generate_tf_record_from_data_file, InputExample\n",
        "from official.nlp.bert import tokenization"
      ],
      "execution_count": 100,
      "outputs": []
    },
    {
      "cell_type": "code",
      "metadata": {
        "id": "ET0IQcqtEB8c"
      },
      "source": [
        "def preprocess_bert(text, args, do_lower_case=True):\n",
        "    \"\"\"Preprocesses tweet for BERT\"\"\"\n",
        "    # standardize\n",
        "    text = standardize_text(text)\n",
        "    # replace usernames/urls\n",
        "    if args.replace_usernames:\n",
        "        text = replace_usernames(text, filler=args.username_filler)\n",
        "    if args.replace_urls:\n",
        "        text = replace_urls(text, filler=args.url_filler)\n",
        "    if args.asciify_emojis:\n",
        "        text = asciify_emojis(text)\n",
        "    if args.standardize_punctuation:\n",
        "        text = standardize_punctuation(text)\n",
        "    if do_lower_case:\n",
        "        text = text.lower()\n",
        "    if args.replace_multiple_usernames:\n",
        "        text = replace_multi_occurrences(text, args.username_filler)\n",
        "    if args.replace_multiple_urls:\n",
        "        text = replace_multi_occurrences(text, args.url_filler)\n",
        "    if args.remove_unicode_symbols:\n",
        "        text = remove_unicode_symbols(text)\n",
        "    if args.remove_accented_characters:\n",
        "        text = remove_accented_characters(text)\n",
        "    return text"
      ],
      "execution_count": 101,
      "outputs": []
    },
    {
      "cell_type": "code",
      "metadata": {
        "id": "zFALnhN6GVDt"
      },
      "source": [
        "import logging\n",
        "logger = logging.getLogger(__name__)\n",
        "logging.basicConfig(level=logging.INFO, format='%(asctime)s [%(levelname)-5.5s] [%(name)-12.12s]: %(message)s')\n"
      ],
      "execution_count": 102,
      "outputs": []
    },
    {
      "cell_type": "code",
      "metadata": {
        "id": "yC5AXB7PGe7x"
      },
      "source": [
        "def generate_tfrecords(args, dataset_dir, labels):\n",
        "    \"\"\"Generates tfrecords from generated tsv files\"\"\"\n",
        "    processor = TextClassificationProcessor(labels)\n",
        "    # save label mapping\n",
        "    processor.save_label_mapping(dataset_dir)\n",
        "    # get tokenizer\n",
        "    tokenizer = get_tokenizer(args.model_class)\n",
        "    processor_text_fn = tokenization.convert_to_unicode\n",
        "    # generate tfrecords\n",
        "    input_dir = os.path.join(dataset_dir, 'preprocessed')\n",
        "    output_dir = os.path.join(dataset_dir, 'tfrecords')\n",
        "    if not os.path.isdir(output_dir):\n",
        "        os.makedirs(output_dir)\n",
        "    input_meta_data = generate_tf_record_from_data_file(\n",
        "        processor,\n",
        "        input_dir,\n",
        "        tokenizer,\n",
        "        train_data_output_path=os.path.join(output_dir, 'train.tfrecords'),\n",
        "        eval_data_output_path=os.path.join(output_dir, 'dev.tfrecords'),\n",
        "        max_seq_length=args.max_seq_length)\n",
        "    with tf.io.gfile.GFile(os.path.join(dataset_dir, 'meta.json'), 'w') as writer:\n",
        "        writer.write(json.dumps(input_meta_data, indent=4) + '\\n')\n",
        "    logger.info(f'Sucessfully wrote tfrecord files to {output_dir}')"
      ],
      "execution_count": 103,
      "outputs": []
    },
    {
      "cell_type": "code",
      "metadata": {
        "id": "z9hWodhSHeG0"
      },
      "source": [
        "class TextClassificationProcessor(DataProcessor):\n",
        "    \"\"\"Processor for arbitrary text classification data\"\"\"\n",
        "\n",
        "    def __init__(self, labels):\n",
        "        self.labels = labels\n",
        "\n",
        "    def save_label_mapping(self, data_dir):\n",
        "        with open(os.path.join(data_dir, 'label_mapping.json'), 'w') as f:\n",
        "            json.dump(self.labels, f)\n",
        "\n",
        "    def get_examples(self, data_dir, _type):\n",
        "        f_path = os.path.join(data_dir, f'{_type}.tsv')\n",
        "        lines = self._read_tsv(f_path)\n",
        "        return self._create_examples(lines, _type)\n",
        "\n",
        "    def get_train_examples(self, data_dir):\n",
        "        return self.get_examples(data_dir, 'train')\n",
        "\n",
        "    def get_dev_examples(self, data_dir):\n",
        "        return self.get_examples(data_dir, 'dev')\n",
        "\n",
        "    def get_test_examples(self, data_dir):\n",
        "        return self.get_examples(data_dir, 'test')\n",
        "\n",
        "    def get_labels(self):\n",
        "        return self.labels\n",
        "\n",
        "    @staticmethod\n",
        "    def get_processor_name():\n",
        "        return 'text-classification'\n",
        "\n",
        "    def _create_examples(self, lines, set_type):\n",
        "        \"\"\"Creates examples for the training and dev sets.\"\"\"\n",
        "        examples = []\n",
        "        for i, line in enumerate(lines):\n",
        "            guid = f'{set_type}-{i}'\n",
        "            text_a = tokenization.convert_to_unicode(line[REQUIRED_COLUMNS.index('text')])\n",
        "            if set_type == 'test':\n",
        "                label = '0'\n",
        "            else:\n",
        "                label = tokenization.convert_to_unicode(line[REQUIRED_COLUMNS.index('label')])\n",
        "            examples.append(InputExample(guid=guid, text_a=text_a, text_b=None, label=label))\n",
        "        return examples"
      ],
      "execution_count": 104,
      "outputs": []
    },
    {
      "cell_type": "code",
      "metadata": {
        "id": "lETtlgLKHq_9"
      },
      "source": [
        "#! wget https://raw.githubusercontent.com/digitalepidemiologylab/covid-twitter-bert/c87912b409659f40018e839c4124be5ae2486713/vocabs/bert-large-uncased-whole-word-masking-vocab.txt -P vocabs"
      ],
      "execution_count": 105,
      "outputs": []
    },
    {
      "cell_type": "code",
      "metadata": {
        "id": "iZVwDtaXHkrU"
      },
      "source": [
        "def get_tokenizer(model_class):\n",
        "    model = PRETRAINED_MODELS[model_class]\n",
        "    vocab_file = os.path.join(VOCAB_PATH, model['vocab_file'])\n",
        "    tokenizer = tokenization.FullTokenizer(vocab_file=vocab_file, do_lower_case=model['lower_case'])\n",
        "    return tokenizer"
      ],
      "execution_count": 106,
      "outputs": []
    },
    {
      "cell_type": "code",
      "metadata": {
        "id": "asl5fyWtAp4n",
        "colab": {
          "base_uri": "https://localhost:8080/",
          "height": 541
        },
        "outputId": "a91c3b86-4fcf-4893-af97-ed7cac1c0185"
      },
      "source": [
        "for dataset in finetune_datasets:\n",
        "    logger.info(f'Processing dataset {dataset}...')\n",
        "    preprocessed_folder = os.path.join(run_dir, dataset, 'preprocessed')\n",
        "    if not os.path.isdir(preprocessed_folder):\n",
        "        os.makedirs(preprocessed_folder)\n",
        "    labels = set()\n",
        "    for _type in ['train', 'dev']:\n",
        "        f_name = f'{_type}.tsv'\n",
        "        logger.info(f'Reading data for for type {_type}...')\n",
        "        f_path = os.path.join(originals_dir, dataset, f_name)\n",
        "        #if not os.path.isfile(f_path):\n",
        "            #logger.info(f'Could not find file {f_path}. Skipping.')\n",
        "            #continue\n",
        "        df = pd.read_csv(f_path, usecols=REQUIRED_COLUMNS, sep='\\t')\n",
        "        logger.info('Creating preprocessed files...')\n",
        "        df.loc[:, 'text'] = df.text.apply(preprocess_bert, args=(args, do_lower_case))\n",
        "        df.to_csv(os.path.join(preprocessed_folder, f_name), columns=REQUIRED_COLUMNS, header=False, index=False, sep='\\t')\n",
        "        # add labels\n",
        "        labels.update(df.label.unique().tolist())\n",
        "    logger.info('Creating tfrecords files...')\n",
        "    # we sort the labels alphabetically in order to maintain consistent label ids\n",
        "    labels = sorted(list(labels))\n",
        "    dataset_dir = os.path.join(run_dir, dataset)\n",
        "    generate_tfrecords(args, dataset_dir, labels)\n"
      ],
      "execution_count": 107,
      "outputs": [
        {
          "output_type": "stream",
          "name": "stderr",
          "text": [
            "2021-11-18 09:36:15,515 [INFO ] [__main__    ]: Processing dataset crowdbreaks...\n",
            "2021-11-18 09:36:15,518 [INFO ] [__main__    ]: Reading data for for type train...\n",
            "2021-11-18 09:36:15,532 [INFO ] [__main__    ]: Creating preprocessed files...\n",
            "/usr/local/lib/python3.7/dist-packages/ipykernel_launcher.py:12: DeprecationWarning: The unescape method is deprecated and will be removed in 3.5, use html.unescape() instead.\n",
            "  if sys.path[0] == '':\n",
            "2021-11-18 09:36:17,486 [INFO ] [__main__    ]: Reading data for for type dev...\n",
            "2021-11-18 09:36:17,496 [INFO ] [__main__    ]: Creating preprocessed files...\n",
            "2021-11-18 09:36:18,122 [INFO ] [__main__    ]: Creating tfrecords files...\n",
            "2021-11-18 09:36:18,249 [INFO ] [absl        ]: Writing example 0 of 2041\n"
          ]
        },
        {
          "output_type": "error",
          "ename": "KeyError",
          "evalue": "ignored",
          "traceback": [
            "\u001b[0;31m---------------------------------------------------------------------------\u001b[0m",
            "\u001b[0;31mKeyError\u001b[0m                                  Traceback (most recent call last)",
            "\u001b[0;32m<ipython-input-107-78b5d60c2c5c>\u001b[0m in \u001b[0;36m<module>\u001b[0;34m()\u001b[0m\n\u001b[1;32m     22\u001b[0m     \u001b[0mlabels\u001b[0m \u001b[0;34m=\u001b[0m \u001b[0msorted\u001b[0m\u001b[0;34m(\u001b[0m\u001b[0mlist\u001b[0m\u001b[0;34m(\u001b[0m\u001b[0mlabels\u001b[0m\u001b[0;34m)\u001b[0m\u001b[0;34m)\u001b[0m\u001b[0;34m\u001b[0m\u001b[0;34m\u001b[0m\u001b[0m\n\u001b[1;32m     23\u001b[0m     \u001b[0mdataset_dir\u001b[0m \u001b[0;34m=\u001b[0m \u001b[0mos\u001b[0m\u001b[0;34m.\u001b[0m\u001b[0mpath\u001b[0m\u001b[0;34m.\u001b[0m\u001b[0mjoin\u001b[0m\u001b[0;34m(\u001b[0m\u001b[0mrun_dir\u001b[0m\u001b[0;34m,\u001b[0m \u001b[0mdataset\u001b[0m\u001b[0;34m)\u001b[0m\u001b[0;34m\u001b[0m\u001b[0;34m\u001b[0m\u001b[0m\n\u001b[0;32m---> 24\u001b[0;31m     \u001b[0mgenerate_tfrecords\u001b[0m\u001b[0;34m(\u001b[0m\u001b[0margs\u001b[0m\u001b[0;34m,\u001b[0m \u001b[0mdataset_dir\u001b[0m\u001b[0;34m,\u001b[0m \u001b[0mlabels\u001b[0m\u001b[0;34m)\u001b[0m\u001b[0;34m\u001b[0m\u001b[0;34m\u001b[0m\u001b[0m\n\u001b[0m",
            "\u001b[0;32m<ipython-input-103-02c72d9c2718>\u001b[0m in \u001b[0;36mgenerate_tfrecords\u001b[0;34m(args, dataset_dir, labels)\u001b[0m\n\u001b[1;32m     18\u001b[0m         \u001b[0mtrain_data_output_path\u001b[0m\u001b[0;34m=\u001b[0m\u001b[0mos\u001b[0m\u001b[0;34m.\u001b[0m\u001b[0mpath\u001b[0m\u001b[0;34m.\u001b[0m\u001b[0mjoin\u001b[0m\u001b[0;34m(\u001b[0m\u001b[0moutput_dir\u001b[0m\u001b[0;34m,\u001b[0m \u001b[0;34m'train.tfrecords'\u001b[0m\u001b[0;34m)\u001b[0m\u001b[0;34m,\u001b[0m\u001b[0;34m\u001b[0m\u001b[0;34m\u001b[0m\u001b[0m\n\u001b[1;32m     19\u001b[0m         \u001b[0meval_data_output_path\u001b[0m\u001b[0;34m=\u001b[0m\u001b[0mos\u001b[0m\u001b[0;34m.\u001b[0m\u001b[0mpath\u001b[0m\u001b[0;34m.\u001b[0m\u001b[0mjoin\u001b[0m\u001b[0;34m(\u001b[0m\u001b[0moutput_dir\u001b[0m\u001b[0;34m,\u001b[0m \u001b[0;34m'dev.tfrecords'\u001b[0m\u001b[0;34m)\u001b[0m\u001b[0;34m,\u001b[0m\u001b[0;34m\u001b[0m\u001b[0;34m\u001b[0m\u001b[0m\n\u001b[0;32m---> 20\u001b[0;31m         max_seq_length=args.max_seq_length)\n\u001b[0m\u001b[1;32m     21\u001b[0m     \u001b[0;32mwith\u001b[0m \u001b[0mtf\u001b[0m\u001b[0;34m.\u001b[0m\u001b[0mio\u001b[0m\u001b[0;34m.\u001b[0m\u001b[0mgfile\u001b[0m\u001b[0;34m.\u001b[0m\u001b[0mGFile\u001b[0m\u001b[0;34m(\u001b[0m\u001b[0mos\u001b[0m\u001b[0;34m.\u001b[0m\u001b[0mpath\u001b[0m\u001b[0;34m.\u001b[0m\u001b[0mjoin\u001b[0m\u001b[0;34m(\u001b[0m\u001b[0mdataset_dir\u001b[0m\u001b[0;34m,\u001b[0m \u001b[0;34m'meta.json'\u001b[0m\u001b[0;34m)\u001b[0m\u001b[0;34m,\u001b[0m \u001b[0;34m'w'\u001b[0m\u001b[0;34m)\u001b[0m \u001b[0;32mas\u001b[0m \u001b[0mwriter\u001b[0m\u001b[0;34m:\u001b[0m\u001b[0;34m\u001b[0m\u001b[0;34m\u001b[0m\u001b[0m\n\u001b[1;32m     22\u001b[0m         \u001b[0mwriter\u001b[0m\u001b[0;34m.\u001b[0m\u001b[0mwrite\u001b[0m\u001b[0;34m(\u001b[0m\u001b[0mjson\u001b[0m\u001b[0;34m.\u001b[0m\u001b[0mdumps\u001b[0m\u001b[0;34m(\u001b[0m\u001b[0minput_meta_data\u001b[0m\u001b[0;34m,\u001b[0m \u001b[0mindent\u001b[0m\u001b[0;34m=\u001b[0m\u001b[0;36m4\u001b[0m\u001b[0;34m)\u001b[0m \u001b[0;34m+\u001b[0m \u001b[0;34m'\\n'\u001b[0m\u001b[0;34m)\u001b[0m\u001b[0;34m\u001b[0m\u001b[0;34m\u001b[0m\u001b[0m\n",
            "\u001b[0;32m/content/covid-twitter-bert/tensorflow_models/official/nlp/data/classifier_data_lib.py\u001b[0m in \u001b[0;36mgenerate_tf_record_from_data_file\u001b[0;34m(processor, data_dir, tokenizer, train_data_output_path, eval_data_output_path, test_data_output_path, max_seq_length)\u001b[0m\n\u001b[1;32m   1544\u001b[0m                                             \u001b[0mtokenizer\u001b[0m\u001b[0;34m,\u001b[0m \u001b[0mtrain_data_output_path\u001b[0m\u001b[0;34m,\u001b[0m\u001b[0;34m\u001b[0m\u001b[0;34m\u001b[0m\u001b[0m\n\u001b[1;32m   1545\u001b[0m                                             \u001b[0mlabel_type\u001b[0m\u001b[0;34m,\u001b[0m\u001b[0;34m\u001b[0m\u001b[0;34m\u001b[0m\u001b[0m\n\u001b[0;32m-> 1546\u001b[0;31m                                             processor.featurize_example)\n\u001b[0m\u001b[1;32m   1547\u001b[0m     \u001b[0mnum_training_data\u001b[0m \u001b[0;34m=\u001b[0m \u001b[0mlen\u001b[0m\u001b[0;34m(\u001b[0m\u001b[0mtrain_input_data_examples\u001b[0m\u001b[0;34m)\u001b[0m\u001b[0;34m\u001b[0m\u001b[0;34m\u001b[0m\u001b[0m\n\u001b[1;32m   1548\u001b[0m \u001b[0;34m\u001b[0m\u001b[0m\n",
            "\u001b[0;32m/content/covid-twitter-bert/tensorflow_models/official/nlp/data/classifier_data_lib.py\u001b[0m in \u001b[0;36mfile_based_convert_examples_to_features\u001b[0;34m(examples, label_list, max_seq_length, tokenizer, output_file, label_type, featurize_fn)\u001b[0m\n\u001b[1;32m   1451\u001b[0m     \u001b[0;32mif\u001b[0m \u001b[0mfeaturize_fn\u001b[0m\u001b[0;34m:\u001b[0m\u001b[0;34m\u001b[0m\u001b[0;34m\u001b[0m\u001b[0m\n\u001b[1;32m   1452\u001b[0m       feature = featurize_fn(ex_index, example, label_list, max_seq_length,\n\u001b[0;32m-> 1453\u001b[0;31m                              tokenizer)\n\u001b[0m\u001b[1;32m   1454\u001b[0m     \u001b[0;32melse\u001b[0m\u001b[0;34m:\u001b[0m\u001b[0;34m\u001b[0m\u001b[0;34m\u001b[0m\u001b[0m\n\u001b[1;32m   1455\u001b[0m       feature = convert_single_example(ex_index, example, label_list,\n",
            "\u001b[0;32m/content/covid-twitter-bert/tensorflow_models/official/nlp/data/classifier_data_lib.py\u001b[0m in \u001b[0;36mfeaturize_example\u001b[0;34m(self, *kargs, **kwargs)\u001b[0m\n\u001b[1;32m    132\u001b[0m   \u001b[0;32mdef\u001b[0m \u001b[0mfeaturize_example\u001b[0m\u001b[0;34m(\u001b[0m\u001b[0mself\u001b[0m\u001b[0;34m,\u001b[0m \u001b[0;34m*\u001b[0m\u001b[0mkargs\u001b[0m\u001b[0;34m,\u001b[0m \u001b[0;34m**\u001b[0m\u001b[0mkwargs\u001b[0m\u001b[0;34m)\u001b[0m\u001b[0;34m:\u001b[0m\u001b[0;34m\u001b[0m\u001b[0;34m\u001b[0m\u001b[0m\n\u001b[1;32m    133\u001b[0m     \u001b[0;34m\"\"\"Converts a single `InputExample` into a single `InputFeatures`.\"\"\"\u001b[0m\u001b[0;34m\u001b[0m\u001b[0;34m\u001b[0m\u001b[0m\n\u001b[0;32m--> 134\u001b[0;31m     \u001b[0;32mreturn\u001b[0m \u001b[0mconvert_single_example\u001b[0m\u001b[0;34m(\u001b[0m\u001b[0;34m*\u001b[0m\u001b[0mkargs\u001b[0m\u001b[0;34m,\u001b[0m \u001b[0;34m**\u001b[0m\u001b[0mkwargs\u001b[0m\u001b[0;34m)\u001b[0m\u001b[0;34m\u001b[0m\u001b[0;34m\u001b[0m\u001b[0m\n\u001b[0m\u001b[1;32m    135\u001b[0m \u001b[0;34m\u001b[0m\u001b[0m\n\u001b[1;32m    136\u001b[0m \u001b[0;34m\u001b[0m\u001b[0m\n",
            "\u001b[0;32m/content/covid-twitter-bert/tensorflow_models/official/nlp/data/classifier_data_lib.py\u001b[0m in \u001b[0;36mconvert_single_example\u001b[0;34m(ex_index, example, label_list, max_seq_length, tokenizer)\u001b[0m\n\u001b[1;32m   1156\u001b[0m   \u001b[0;32massert\u001b[0m \u001b[0mlen\u001b[0m\u001b[0;34m(\u001b[0m\u001b[0msegment_ids\u001b[0m\u001b[0;34m)\u001b[0m \u001b[0;34m==\u001b[0m \u001b[0mmax_seq_length\u001b[0m\u001b[0;34m\u001b[0m\u001b[0;34m\u001b[0m\u001b[0m\n\u001b[1;32m   1157\u001b[0m \u001b[0;34m\u001b[0m\u001b[0m\n\u001b[0;32m-> 1158\u001b[0;31m   \u001b[0mlabel_id\u001b[0m \u001b[0;34m=\u001b[0m \u001b[0mlabel_map\u001b[0m\u001b[0;34m[\u001b[0m\u001b[0mexample\u001b[0m\u001b[0;34m.\u001b[0m\u001b[0mlabel\u001b[0m\u001b[0;34m]\u001b[0m \u001b[0;32mif\u001b[0m \u001b[0mlabel_map\u001b[0m \u001b[0;32melse\u001b[0m \u001b[0mexample\u001b[0m\u001b[0;34m.\u001b[0m\u001b[0mlabel\u001b[0m\u001b[0;34m\u001b[0m\u001b[0;34m\u001b[0m\u001b[0m\n\u001b[0m\u001b[1;32m   1159\u001b[0m   \u001b[0;32mif\u001b[0m \u001b[0mex_index\u001b[0m \u001b[0;34m<\u001b[0m \u001b[0;36m5\u001b[0m\u001b[0;34m:\u001b[0m\u001b[0;34m\u001b[0m\u001b[0;34m\u001b[0m\u001b[0m\n\u001b[1;32m   1160\u001b[0m     \u001b[0mlogging\u001b[0m\u001b[0;34m.\u001b[0m\u001b[0minfo\u001b[0m\u001b[0;34m(\u001b[0m\u001b[0;34m\"*** Example ***\"\u001b[0m\u001b[0;34m)\u001b[0m\u001b[0;34m\u001b[0m\u001b[0;34m\u001b[0m\u001b[0m\n",
            "\u001b[0;31mKeyError\u001b[0m: '0'"
          ]
        }
      ]
    },
    {
      "cell_type": "code",
      "metadata": {
        "id": "_GaL6BnSLk2b"
      },
      "source": [
        "train_data_output_path=os.path.join(output_dir, 'train.tfrecords'),\n",
        "train_data_output_path"
      ],
      "execution_count": null,
      "outputs": []
    },
    {
      "cell_type": "code",
      "metadata": {
        "id": "7Uw_PZMJIbkf"
      },
      "source": [
        "\"\"\"Generates tfrecords from generated tsv files\"\"\"\n",
        "processor = TextClassificationProcessor(labels)\n",
        "# save label mapping\n",
        "processor.save_label_mapping(dataset_dir)\n",
        "# get tokenizer\n",
        "tokenizer = get_tokenizer(args.model_class)\n",
        "processor_text_fn = tokenization.convert_to_unicode\n",
        "# generate tfrecords\n",
        "input_dir = os.path.join(dataset_dir, 'preprocessed')\n",
        "output_dir = os.path.join(dataset_dir, 'tfrecords')\n",
        "if not os.path.isdir(output_dir):\n",
        "    os.makedirs(output_dir)\n",
        "input_meta_data = generate_tf_record_from_data_file(\n",
        "    processor,\n",
        "    input_dir,\n",
        "    tokenizer,\n",
        "    train_data_output_path=os.path.join(output_dir, 'train.tfrecords'),\n",
        "    eval_data_output_path=os.path.join(output_dir, 'dev.tfrecords'),\n",
        "    max_seq_length=args.max_seq_length)\n",
        "with tf.io.gfile.GFile(os.path.join(dataset_dir, 'meta.json'), 'w') as writer:\n",
        "    writer.write(json.dumps(input_meta_data, indent=4) + '\\n')\n",
        "logger.info(f'Sucessfully wrote tfrecord files to {output_dir}')"
      ],
      "execution_count": null,
      "outputs": []
    },
    {
      "cell_type": "code",
      "metadata": {
        "id": "IlBjSOdBL7Vj"
      },
      "source": [
        "generate_tf_record_from_data_file(\n",
        "    processor,\n",
        "    input_dir,\n",
        "    tokenizer,\n",
        "    train_data_output_path=os.path.join(output_dir, 'train.tfrecords'),\n",
        "    eval_data_output_path=os.path.join(output_dir, 'dev.tfrecords'),\n",
        "    max_seq_length = 2)"
      ],
      "execution_count": null,
      "outputs": []
    },
    {
      "cell_type": "code",
      "metadata": {
        "id": "EJszOxcKNV6x"
      },
      "source": [
        ""
      ],
      "execution_count": null,
      "outputs": []
    },
    {
      "cell_type": "code",
      "metadata": {
        "id": "9w9_lt2WF1oX"
      },
      "source": [
        "# saving config\n",
        "f_path_config = os.path.join(run_dir, 'create_finetune_config.json')\n",
        "logger.info(f'Saving config to {f_path_config}')\n",
        "save_to_json(vars(args), f_path_config)"
      ],
      "execution_count": null,
      "outputs": []
    },
    {
      "cell_type": "code",
      "metadata": {
        "id": "4RuDiCeVZ0db"
      },
      "source": [
        ""
      ],
      "execution_count": null,
      "outputs": []
    }
  ]
}