{
  "nbformat": 4,
  "nbformat_minor": 0,
  "metadata": {
    "accelerator": "GPU",
    "colab": {
      "name": "bert_experiments.ipynb",
      "provenance": [],
      "authorship_tag": "ABX9TyNa8Ajipvm8oPyvb1LopEjK",
      "include_colab_link": true
    },
    "kernelspec": {
      "display_name": "Python 3",
      "name": "python3"
    },
    "language_info": {
      "name": "python"
    }
  },
  "cells": [
    {
      "cell_type": "markdown",
      "metadata": {
        "id": "view-in-github",
        "colab_type": "text"
      },
      "source": [
        "<a href=\"https://colab.research.google.com/github/areias/bert_covid_sentiment/blob/main/bert_experiments.ipynb\" target=\"_parent\"><img src=\"https://colab.research.google.com/assets/colab-badge.svg\" alt=\"Open In Colab\"/></a>"
      ]
    },
    {
      "cell_type": "code",
      "metadata": {
        "id": "ylIpaWrFuJJQ",
        "colab": {
          "base_uri": "https://localhost:8080/"
        },
        "outputId": "84683dce-2020-45b9-b66c-ae5e77344a76"
      },
      "source": [
        "!pip install transformers"
      ],
      "execution_count": 66,
      "outputs": [
        {
          "output_type": "stream",
          "name": "stdout",
          "text": [
            "Requirement already satisfied: transformers in /usr/local/lib/python3.7/dist-packages (4.12.5)\n",
            "Requirement already satisfied: huggingface-hub<1.0,>=0.1.0 in /usr/local/lib/python3.7/dist-packages (from transformers) (0.1.2)\n",
            "Requirement already satisfied: numpy>=1.17 in /usr/local/lib/python3.7/dist-packages (from transformers) (1.19.5)\n",
            "Requirement already satisfied: regex!=2019.12.17 in /usr/local/lib/python3.7/dist-packages (from transformers) (2019.12.20)\n",
            "Requirement already satisfied: requests in /usr/local/lib/python3.7/dist-packages (from transformers) (2.23.0)\n",
            "Requirement already satisfied: sacremoses in /usr/local/lib/python3.7/dist-packages (from transformers) (0.0.46)\n",
            "Requirement already satisfied: tokenizers<0.11,>=0.10.1 in /usr/local/lib/python3.7/dist-packages (from transformers) (0.10.3)\n",
            "Requirement already satisfied: pyyaml>=5.1 in /usr/local/lib/python3.7/dist-packages (from transformers) (6.0)\n",
            "Requirement already satisfied: tqdm>=4.27 in /usr/local/lib/python3.7/dist-packages (from transformers) (4.62.3)\n",
            "Requirement already satisfied: filelock in /usr/local/lib/python3.7/dist-packages (from transformers) (3.3.2)\n",
            "Requirement already satisfied: packaging>=20.0 in /usr/local/lib/python3.7/dist-packages (from transformers) (21.2)\n",
            "Requirement already satisfied: importlib-metadata in /usr/local/lib/python3.7/dist-packages (from transformers) (4.8.2)\n",
            "Requirement already satisfied: typing-extensions>=3.7.4.3 in /usr/local/lib/python3.7/dist-packages (from huggingface-hub<1.0,>=0.1.0->transformers) (3.10.0.2)\n",
            "Requirement already satisfied: pyparsing<3,>=2.0.2 in /usr/local/lib/python3.7/dist-packages (from packaging>=20.0->transformers) (2.4.7)\n",
            "Requirement already satisfied: zipp>=0.5 in /usr/local/lib/python3.7/dist-packages (from importlib-metadata->transformers) (3.6.0)\n",
            "Requirement already satisfied: chardet<4,>=3.0.2 in /usr/local/lib/python3.7/dist-packages (from requests->transformers) (3.0.4)\n",
            "Requirement already satisfied: idna<3,>=2.5 in /usr/local/lib/python3.7/dist-packages (from requests->transformers) (2.10)\n",
            "Requirement already satisfied: certifi>=2017.4.17 in /usr/local/lib/python3.7/dist-packages (from requests->transformers) (2021.10.8)\n",
            "Requirement already satisfied: urllib3!=1.25.0,!=1.25.1,<1.26,>=1.21.1 in /usr/local/lib/python3.7/dist-packages (from requests->transformers) (1.24.3)\n",
            "Requirement already satisfied: joblib in /usr/local/lib/python3.7/dist-packages (from sacremoses->transformers) (1.1.0)\n",
            "Requirement already satisfied: six in /usr/local/lib/python3.7/dist-packages (from sacremoses->transformers) (1.15.0)\n",
            "Requirement already satisfied: click in /usr/local/lib/python3.7/dist-packages (from sacremoses->transformers) (7.1.2)\n"
          ]
        }
      ]
    },
    {
      "cell_type": "code",
      "metadata": {
        "id": "WXGHQ4HUwEAt"
      },
      "source": [
        "from transformers import (\n",
        "   AutoConfig,\n",
        "   AutoTokenizer,\n",
        "   TFAutoModelForSequenceClassification,\n",
        "   AdamW,\n",
        "   glue_convert_examples_to_features\n",
        ")\n",
        "import tensorflow as tf\n",
        "import tensorflow_datasets as tfds\n",
        "import json"
      ],
      "execution_count": 67,
      "outputs": []
    },
    {
      "cell_type": "code",
      "metadata": {
        "id": "zxhnfxi3tw0_"
      },
      "source": [
        "import pandas as pd"
      ],
      "execution_count": 68,
      "outputs": []
    },
    {
      "cell_type": "code",
      "metadata": {
        "id": "-RMH5beNuEZv"
      },
      "source": [
        "df=pd.read_csv(\"train-4.csv\")"
      ],
      "execution_count": 69,
      "outputs": []
    },
    {
      "cell_type": "code",
      "metadata": {
        "colab": {
          "base_uri": "https://localhost:8080/",
          "height": 206
        },
        "id": "a89eqroYuG8S",
        "outputId": "71cb940b-2bff-4e01-b381-6d78eea41787"
      },
      "source": [
        "df.head()"
      ],
      "execution_count": 70,
      "outputs": [
        {
          "output_type": "execute_result",
          "data": {
            "text/html": [
              "<div>\n",
              "<style scoped>\n",
              "    .dataframe tbody tr th:only-of-type {\n",
              "        vertical-align: middle;\n",
              "    }\n",
              "\n",
              "    .dataframe tbody tr th {\n",
              "        vertical-align: top;\n",
              "    }\n",
              "\n",
              "    .dataframe thead th {\n",
              "        text-align: right;\n",
              "    }\n",
              "</style>\n",
              "<table border=\"1\" class=\"dataframe\">\n",
              "  <thead>\n",
              "    <tr style=\"text-align: right;\">\n",
              "      <th></th>\n",
              "      <th>Unnamed: 0</th>\n",
              "      <th>tweet_id</th>\n",
              "      <th>text</th>\n",
              "      <th>label</th>\n",
              "    </tr>\n",
              "  </thead>\n",
              "  <tbody>\n",
              "    <tr>\n",
              "      <th>0</th>\n",
              "      <td>0</td>\n",
              "      <td>5.608318e+17</td>\n",
              "      <td>@GMA @GStephanopoulos #PalmDesert high school ...</td>\n",
              "      <td>0</td>\n",
              "    </tr>\n",
              "    <tr>\n",
              "      <th>1</th>\n",
              "      <td>1</td>\n",
              "      <td>7.720430e+17</td>\n",
              "      <td>SB121 [Passed] Meningococcal disease-pupils to...</td>\n",
              "      <td>0</td>\n",
              "    </tr>\n",
              "    <tr>\n",
              "      <th>2</th>\n",
              "      <td>2</td>\n",
              "      <td>5.262292e+17</td>\n",
              "      <td>@cabosetv @EvilGeniuses @EGiNcontroL @Razer th...</td>\n",
              "      <td>0</td>\n",
              "    </tr>\n",
              "    <tr>\n",
              "      <th>3</th>\n",
              "      <td>3</td>\n",
              "      <td>4.410094e+17</td>\n",
              "      <td>“@MizzTwerksum: All natural 😋🙌 squats not shot...</td>\n",
              "      <td>0</td>\n",
              "    </tr>\n",
              "    <tr>\n",
              "      <th>4</th>\n",
              "      <td>4</td>\n",
              "      <td>4.542856e+17</td>\n",
              "      <td>#travel #jobs Travel Immunization Nurse Specia...</td>\n",
              "      <td>0</td>\n",
              "    </tr>\n",
              "  </tbody>\n",
              "</table>\n",
              "</div>"
            ],
            "text/plain": [
              "   Unnamed: 0  ...  label\n",
              "0           0  ...      0\n",
              "1           1  ...      0\n",
              "2           2  ...      0\n",
              "3           3  ...      0\n",
              "4           4  ...      0\n",
              "\n",
              "[5 rows x 4 columns]"
            ]
          },
          "metadata": {},
          "execution_count": 70
        }
      ]
    },
    {
      "cell_type": "code",
      "metadata": {
        "colab": {
          "base_uri": "https://localhost:8080/"
        },
        "id": "K93H640euHfR",
        "outputId": "50d59b30-9b92-42cd-b8ad-cb0705826934"
      },
      "source": [
        "df.label.value_counts()"
      ],
      "execution_count": 71,
      "outputs": [
        {
          "output_type": "execute_result",
          "data": {
            "text/plain": [
              " 1    1134\n",
              "-1    1134\n",
              " 0    1134\n",
              "Name: label, dtype: int64"
            ]
          },
          "metadata": {},
          "execution_count": 71
        }
      ]
    },
    {
      "cell_type": "code",
      "metadata": {
        "id": "iLy0rz2j0Uzt"
      },
      "source": [
        "# id,label,text\n",
        "df=df.loc[:,[\"tweet_id\",\"label\", \"text\"]]\n",
        "df.columns=['id','label', 'text']"
      ],
      "execution_count": 72,
      "outputs": []
    },
    {
      "cell_type": "code",
      "metadata": {
        "id": "OIcZ0ecAzZKn"
      },
      "source": [
        "import numpy as np"
      ],
      "execution_count": 73,
      "outputs": []
    },
    {
      "cell_type": "code",
      "metadata": {
        "id": "P7MmMFSczvip"
      },
      "source": [
        "\"\"\"\n",
        "    60% - train set,\n",
        "    20% - dev/validation set,\n",
        "    20% - test set\"\"\"\n",
        "\n",
        "train, dev, test = np.split(df.sample(frac=1, random_state=42), \n",
        "                       [int(.6*len(df)), int(.8*len(df))])"
      ],
      "execution_count": 74,
      "outputs": []
    },
    {
      "cell_type": "code",
      "metadata": {
        "colab": {
          "base_uri": "https://localhost:8080/"
        },
        "id": "xE93swEZz_Hg",
        "outputId": "711b7404-cfc2-4fd7-8551-3055cd9baa6d"
      },
      "source": [
        "dev.info()"
      ],
      "execution_count": 75,
      "outputs": [
        {
          "output_type": "stream",
          "name": "stdout",
          "text": [
            "<class 'pandas.core.frame.DataFrame'>\n",
            "Int64Index: 680 entries, 2111 to 1140\n",
            "Data columns (total 3 columns):\n",
            " #   Column  Non-Null Count  Dtype  \n",
            "---  ------  --------------  -----  \n",
            " 0   id      680 non-null    float64\n",
            " 1   label   680 non-null    int64  \n",
            " 2   text    680 non-null    object \n",
            "dtypes: float64(1), int64(1), object(1)\n",
            "memory usage: 21.2+ KB\n"
          ]
        }
      ]
    },
    {
      "cell_type": "code",
      "metadata": {
        "id": "iwff5Ccg93CQ"
      },
      "source": [
        "import os \n",
        "#os.makedirs(\"data/finetune/originals/crowdbreaks\")\n",
        "#os.makedirs(\"vocabs\")\n"
      ],
      "execution_count": 76,
      "outputs": []
    },
    {
      "cell_type": "code",
      "metadata": {
        "id": "2WR4qUmU0LO8"
      },
      "source": [
        "train.to_csv(\"data/finetune/originals/crowdbreaks/train.tsv\", sep=\"\\t\",index=False)\n",
        "dev.to_csv(\"data/finetune/originals/crowdbreaks/dev.tsv\", sep=\"\\t\",index=False)\n",
        "test.to_csv(\"data/finetune/originals/crowdbreaks/test.tsv\", sep=\"\\t\",index=False)\n"
      ],
      "execution_count": 77,
      "outputs": []
    },
    {
      "cell_type": "code",
      "metadata": {
        "id": "CGURJhWTxbnh"
      },
      "source": [
        "# from https://github.com/digitalepidemiologylab/covid-twitter-bert/blob/master/preprocess/create_finetune_data.py"
      ],
      "execution_count": 78,
      "outputs": []
    },
    {
      "cell_type": "code",
      "metadata": {
        "id": "lz1lepVq3Cry"
      },
      "source": [
        "# args\n",
        "\"\"\"\n",
        "cd preprocess\n",
        "python create_finetune_data.py \\\n",
        "  --run_prefix test_run \\\n",
        "  --finetune_datasets <dataset_name> \\\n",
        "  --model_class bert_large_uncased_wwm \\\n",
        "  --max_seq_length 96 \\\n",
        "  --asciify_emojis \\\n",
        "  --username_filler twitteruser \\\n",
        "  --url_filler twitterurl \\\n",
        "  --replace_multiple_usernames \\\n",
        "  --replace_multiple_urls \\\n",
        "  --remove_unicode_symbols\"\n",
        "\"\"\"\n",
        "\n",
        "args = {'run_prefix': \"test_run\",\n",
        "'finetune_datasets' : [\"crowdbreaks\"],\n",
        "'model_class' : \"covid-twitter-bert-2\",\n",
        "'max_seq_length' : 96,\n",
        "'asciify_emojis' : True,\n",
        "'username_filler' : \"twitteruser\",\n",
        "'url_filler' : \"twitterurl\", \n",
        "'replace_multiple_usernames' : True,\n",
        "'replace_multiple_urls' : True,\n",
        "'remove_unicode_symbols' : True}\n"
      ],
      "execution_count": 79,
      "outputs": []
    },
    {
      "cell_type": "code",
      "metadata": {
        "colab": {
          "base_uri": "https://localhost:8080/"
        },
        "id": "BNMEThu53TSH",
        "outputId": "8c5ba84c-c635-44fd-a9e3-851a427447ab"
      },
      "source": [
        "from collections import namedtuple\n",
        "arguments = namedtuple('arguments', ['run_prefix','finetune_datasets','model_class',\n",
        "                                     'max_seq_length', 'asciify_emojis','username_filler',\n",
        "                                    'url_filler', 'replace_multiple_usernames','replace_multiple_urls',\n",
        "                                      'remove_unicode_symbols','replace_usernames','replace_urls',\n",
        "                                     'standardize_punctuation','remove_accented_characters'])\n",
        "\n",
        "args = arguments(\"test_run\",[\"crowdbreaks\"],\"covid-twitter-bert-2\",\n",
        "                 96, True, \"twitteruser\", \n",
        "                 \"twitterurl\", True,True,\n",
        "                 True, True, True,\n",
        "                 True, True)\n",
        "args"
      ],
      "execution_count": 164,
      "outputs": [
        {
          "output_type": "execute_result",
          "data": {
            "text/plain": [
              "arguments(run_prefix='test_run', finetune_datasets=['crowdbreaks'], model_class='covid-twitter-bert-2', max_seq_length=96, asciify_emojis=True, username_filler='twitteruser', url_filler='twitterurl', replace_multiple_usernames=True, replace_multiple_urls=True, remove_unicode_symbols=True, replace_usernames=True, replace_urls=True, standardize_punctuation=True, remove_accented_characters=True)"
            ]
          },
          "metadata": {},
          "execution_count": 164
        }
      ]
    },
    {
      "cell_type": "code",
      "metadata": {
        "id": "YFJx97gV7Ej3"
      },
      "source": [
        "REQUIRED_COLUMNS = ['id', 'label', 'text']\n",
        "DATA_DIR = os.path.join('data')\n",
        "VOCAB_PATH = os.path.join('vocabs')\n"
      ],
      "execution_count": 165,
      "outputs": []
    },
    {
      "cell_type": "code",
      "metadata": {
        "id": "VYKnOS8iwa18"
      },
      "source": [
        "import datetime\n",
        "def get_run_name(args):\n",
        "    # Use timestamp to generate a unique run name\n",
        "    ts = datetime.datetime.now().strftime('%Y-%m-%d_%H-%M-%S_%f')\n",
        "    if args.run_prefix:\n",
        "        run_name = f'run_{ts}_{args.run_prefix}'\n",
        "    else:\n",
        "        run_name = f'run_{ts}'\n",
        "    return run_name"
      ],
      "execution_count": 166,
      "outputs": []
    },
    {
      "cell_type": "code",
      "metadata": {
        "colab": {
          "base_uri": "https://localhost:8080/",
          "height": 35
        },
        "id": "QCH78nBC8DqB",
        "outputId": "7338c41d-9047-4bda-ea9f-3ca7a56825ed"
      },
      "source": [
        "run_name = get_run_name(args)\n",
        "run_name"
      ],
      "execution_count": 167,
      "outputs": [
        {
          "output_type": "execute_result",
          "data": {
            "application/vnd.google.colaboratory.intrinsic+json": {
              "type": "string"
            },
            "text/plain": [
              "'run_2021-11-17_22-44-57_771405_test_run'"
            ]
          },
          "metadata": {},
          "execution_count": 167
        }
      ]
    },
    {
      "cell_type": "code",
      "metadata": {
        "colab": {
          "base_uri": "https://localhost:8080/",
          "height": 35
        },
        "id": "DHTAYs4_8Eo_",
        "outputId": "85cec0ba-0218-4f41-cb38-c478d4665408"
      },
      "source": [
        "run_dir = os.path.join(DATA_DIR, 'finetune', run_name)\n",
        "run_dir"
      ],
      "execution_count": 168,
      "outputs": [
        {
          "output_type": "execute_result",
          "data": {
            "application/vnd.google.colaboratory.intrinsic+json": {
              "type": "string"
            },
            "text/plain": [
              "'data/finetune/run_2021-11-17_22-44-57_771405_test_run'"
            ]
          },
          "metadata": {},
          "execution_count": 168
        }
      ]
    },
    {
      "cell_type": "code",
      "metadata": {
        "id": "M4ZxTT_g9GCE"
      },
      "source": [
        "if not os.path.isdir(run_dir):\n",
        "  os.makedirs(run_dir)"
      ],
      "execution_count": 169,
      "outputs": []
    },
    {
      "cell_type": "code",
      "metadata": {
        "colab": {
          "base_uri": "https://localhost:8080/",
          "height": 35
        },
        "id": "6KTfKzqF9KWD",
        "outputId": "e89086ed-f783-4e53-bdea-53e40b2e0474"
      },
      "source": [
        "# find input data\n",
        "originals_dir = os.path.join(DATA_DIR, 'finetune', 'originals')\n",
        "originals_dir   "
      ],
      "execution_count": 170,
      "outputs": [
        {
          "output_type": "execute_result",
          "data": {
            "application/vnd.google.colaboratory.intrinsic+json": {
              "type": "string"
            },
            "text/plain": [
              "'data/finetune/originals'"
            ]
          },
          "metadata": {},
          "execution_count": 170
        }
      ]
    },
    {
      "cell_type": "code",
      "metadata": {
        "colab": {
          "base_uri": "https://localhost:8080/"
        },
        "id": "7NvQczFf9UBB",
        "outputId": "0f7296fc-2c9d-4896-81a0-7eecedd0ae89"
      },
      "source": [
        "if args.finetune_datasets is None or len(args.finetune_datasets) == 0:\n",
        "    finetune_datasets = os.listdir(originals_dir)\n",
        "else:\n",
        "    finetune_datasets = args.finetune_datasets\n",
        "finetune_datasets"
      ],
      "execution_count": 171,
      "outputs": [
        {
          "output_type": "execute_result",
          "data": {
            "text/plain": [
              "['crowdbreaks']"
            ]
          },
          "metadata": {},
          "execution_count": 171
        }
      ]
    },
    {
      "cell_type": "code",
      "metadata": {
        "id": "YFMpfHpc_O_F"
      },
      "source": [
        "# Pretrained models configuration, add model configuration here\n",
        "\n",
        "PRETRAINED_MODELS = {\n",
        "        'bert_large_uncased': {\n",
        "            'bucket_location': 'pretrained_models/bert/keras_bert/uncased_L-24_H-1024_A-16',\n",
        "            'hub_url': 'tensorflow/bert_en_uncased_L-24_H-1024_A-16/2',\n",
        "            'config': 'bert_config_large_uncased.json',\n",
        "            'is_tfhub_model': True,\n",
        "            'vocab_file': 'bert-large-uncased-vocab.txt',\n",
        "            'lower_case': True,\n",
        "            'do_whole_word_masking': False\n",
        "            },\n",
        "        'bert_multi_cased': {\n",
        "            'bucket_location': 'pretrained_models/bert/keras_bert/multi_cased_L-12_H-768_A-12',\n",
        "            'hub_url': 'tensorflow/bert_multi_cased_L-12_H-768_A-12/2',\n",
        "            'config': 'bert_config_multi_cased.json',\n",
        "            'is_tfhub_model': True,\n",
        "            'vocab_file': 'bert-multi-cased-vocab.txt',\n",
        "            'lower_case': False,\n",
        "            'do_whole_word_masking': False\n",
        "            },\n",
        "        'bert_large_uncased_wwm': {\n",
        "            'bucket_location': 'pretrained_models/bert/keras_bert/wwm_uncased_L-24_H-1024_A-16',\n",
        "            'hub_url': 'tensorflow/bert_en_wwm_uncased_L-24_H-1024_A-16/2',\n",
        "            'config': 'bert_config_large_uncased_wwm.json',\n",
        "            'is_tfhub_model': True,\n",
        "            'vocab_file': 'bert-large-uncased-whole-word-masking-vocab.txt',\n",
        "            'lower_case': True,\n",
        "            'do_whole_word_masking': True\n",
        "            },\n",
        "        'covid-twitter-bert': {\n",
        "            'hub_url': 'digitalepidemiologylab/covid-twitter-bert/1',\n",
        "            'is_tfhub_model': True,\n",
        "            'config': 'bert_config_covid_twitter_bert.json',\n",
        "            'vocab_file': 'bert-large-uncased-whole-word-masking-vocab.txt',\n",
        "            'lower_case': True,\n",
        "            'do_whole_word_masking': True\n",
        "            },\n",
        "        'covid-twitter-bert-2': {\n",
        "            'hub_url': 'digitalepidemiologylab/covid-twitter-bert/2',\n",
        "            'is_tfhub_model': True,\n",
        "            'config': 'bert_config_covid_twitter_bert.json',\n",
        "            'vocab_file': 'bert-large-uncased-whole-word-masking-vocab.txt',\n",
        "            'lower_case': True,\n",
        "            'do_whole_word_masking': True\n",
        "            }\n",
        "        }"
      ],
      "execution_count": 172,
      "outputs": []
    },
    {
      "cell_type": "code",
      "metadata": {
        "id": "LjjWFVOb_yIW"
      },
      "source": [
        "# https://tfhub.dev/digitalepidemiologylab/covid-twitter-bert/2\n",
        "\n",
        "\n"
      ],
      "execution_count": 173,
      "outputs": []
    },
    {
      "cell_type": "code",
      "metadata": {
        "colab": {
          "base_uri": "https://localhost:8080/"
        },
        "id": "vzdUiWRa9hXt",
        "outputId": "6df512fd-5d2e-43c2-bd21-b5fe89408376"
      },
      "source": [
        "do_lower_case = PRETRAINED_MODELS[args.model_class]['lower_case']\n",
        "do_lower_case\n"
      ],
      "execution_count": 174,
      "outputs": [
        {
          "output_type": "execute_result",
          "data": {
            "text/plain": [
              "True"
            ]
          },
          "metadata": {},
          "execution_count": 174
        }
      ]
    },
    {
      "cell_type": "code",
      "metadata": {
        "colab": {
          "base_uri": "https://localhost:8080/"
        },
        "id": "A9Ijr6_--2lJ",
        "outputId": "e5e8e357-116e-44d8-9dae-3d58f2cbf711"
      },
      "source": [
        "import logging\n",
        "logger = logging.getLogger(__name__)\n",
        "logging.basicConfig(level=logging.INFO, format='%(asctime)s [%(levelname)-5.5s] [%(name)-12.12s]: %(message)s')\n",
        "\n",
        "for dataset in finetune_datasets:\n",
        "      logger.info(f'Processing dataset {dataset}...')\n",
        "      preprocessed_folder = os.path.join(run_dir, dataset, 'preprocessed')\n",
        "      if not os.path.isdir(preprocessed_folder):\n",
        "          os.makedirs(preprocessed_folder)\n"
      ],
      "execution_count": 175,
      "outputs": [
        {
          "output_type": "stream",
          "name": "stderr",
          "text": [
            "2021-11-17 22:44:57,907 [INFO ] [__main__    ]: Processing dataset crowdbreaks...\n"
          ]
        }
      ]
    },
    {
      "cell_type": "code",
      "metadata": {
        "id": "GTiP_gbIE4Mx"
      },
      "source": [
        "# compile regexes\n",
        "import re\n",
        "from html.parser import HTMLParser\n",
        "import unicodedata\n",
        "\n",
        "username_regex = re.compile(r'(^|[^@\\w])@(\\w{1,15})\\b')\n",
        "url_regex = re.compile(r'((www\\.[^\\s]+)|(https?://[^\\s]+)|(http?://[^\\s]+))')\n",
        "control_char_regex = re.compile(r'[\\r\\n\\t]+')\n",
        "# translate table for punctuation\n",
        "transl_table = dict([(ord(x), ord(y)) for x, y in zip(u\"‘’´“”–-\",  u\"'''\\\"\\\"--\")])\n",
        "# HTML parser\n",
        "html_parser = HTMLParser()"
      ],
      "execution_count": 176,
      "outputs": []
    },
    {
      "cell_type": "code",
      "metadata": {
        "id": "ApHemBTYEYfV"
      },
      "source": [
        "def standardize_text(text):\n",
        "    \"\"\"\n",
        "    1) Escape HTML\n",
        "    2) Replaces some non-standard punctuation with standard versions. \n",
        "    3) Replace \\r, \\n and \\t with white spaces\n",
        "    4) Removes all other control characters and the NULL byte\n",
        "    5) Removes duplicate white spaces\n",
        "    \"\"\"\n",
        "    html_parser = HTMLParser()\n",
        "\n",
        "    # escape HTML symbols\n",
        "    text = html_parser.unescape(text)\n",
        "    # standardize punctuation\n",
        "    text = text.translate(transl_table)\n",
        "    text = text.replace('…', '...')\n",
        "    # replace \\t, \\n and \\r characters by a whitespace\n",
        "    text = re.sub(control_char_regex, ' ', text)\n",
        "    # remove all remaining control characters\n",
        "    text = ''.join(ch for ch in text if unicodedata.category(ch)[0] != 'C')\n",
        "    # replace multiple spaces with single space\n",
        "    text = ' '.join(text.split())\n",
        "    return text.strip()"
      ],
      "execution_count": 177,
      "outputs": []
    },
    {
      "cell_type": "code",
      "metadata": {
        "id": "CY_x3-TwDjeJ"
      },
      "source": [
        "def replace_usernames(text, filler='user'):\n",
        "    # @<user> is a marker used internally. use filler instead\n",
        "    text = text.replace('@<user>', f'{filler}')\n",
        "    # replace other user handles by filler\n",
        "    text = re.sub(username_regex, filler, text)\n",
        "    # add spaces between, and remove double spaces again\n",
        "    text = text.replace(filler, f' {filler} ')\n",
        "    text = ' '.join(text.split())\n",
        "    return text"
      ],
      "execution_count": 178,
      "outputs": []
    },
    {
      "cell_type": "code",
      "metadata": {
        "id": "5RFtD1DWDjay"
      },
      "source": [
        "def replace_urls(text, filler='url'):\n",
        "    # <url> is a marker used internally. use filler instead\n",
        "    text = text.replace('<url>', filler)\n",
        "    # replace other urls by filler\n",
        "    text = re.sub(url_regex, filler, text)\n",
        "    # add spaces between, and remove double spaces again\n",
        "    text = text.replace(filler, f' {filler} ')\n",
        "    text = ' '.join(text.split())\n",
        "    return text"
      ],
      "execution_count": 179,
      "outputs": []
    },
    {
      "cell_type": "code",
      "metadata": {
        "colab": {
          "base_uri": "https://localhost:8080/"
        },
        "id": "kUVFtOqHDjYJ",
        "outputId": "06e4e841-a575-4506-a797-08f10d45527f"
      },
      "source": [
        "!pip install emoji\n",
        "import emoji\n",
        "def asciify_emojis(text):\n",
        "    \"\"\"\n",
        "    Converts emojis into text aliases. E.g. 👍 becomes :thumbs_up:\n",
        "    For a full list of text aliases see: https://www.webfx.com/tools/emoji-cheat-sheet/\n",
        "    \"\"\"\n",
        "    text = emoji.demojize(text)\n",
        "    return text"
      ],
      "execution_count": 180,
      "outputs": [
        {
          "output_type": "stream",
          "name": "stdout",
          "text": [
            "Requirement already satisfied: emoji in /usr/local/lib/python3.7/dist-packages (1.6.1)\n"
          ]
        }
      ]
    },
    {
      "cell_type": "code",
      "metadata": {
        "colab": {
          "base_uri": "https://localhost:8080/"
        },
        "id": "xnq6u040DjVy",
        "outputId": "75aaf500-b39f-4cf8-b44b-bdb406a64226"
      },
      "source": [
        "!pip install unidecode \n",
        "import unidecode\n",
        "def standardize_punctuation(text):\n",
        "    return ''.join([unidecode.unidecode(t) if unicodedata.category(t)[0] == 'P' else t for t in text])\n"
      ],
      "execution_count": 181,
      "outputs": [
        {
          "output_type": "stream",
          "name": "stdout",
          "text": [
            "Requirement already satisfied: unidecode in /usr/local/lib/python3.7/dist-packages (1.3.2)\n"
          ]
        }
      ]
    },
    {
      "cell_type": "code",
      "metadata": {
        "id": "ewtCFKJuDjTC"
      },
      "source": [
        "\n",
        "def replace_multi_occurrences(text, filler):\n",
        "    \"\"\"Replaces multiple occurrences of filler with n filler\"\"\"\n",
        "    # only run if we have multiple occurrences of filler\n",
        "    if text.count(filler) <= 1:\n",
        "        return text\n",
        "    # pad fillers with whitespace\n",
        "    text = text.replace(f'{filler}', f' {filler} ')\n",
        "    # remove introduced duplicate whitespaces\n",
        "    text = ' '.join(text.split())\n",
        "    # find indices of occurrences\n",
        "    indices = []\n",
        "    for m in re.finditer(r'{}'.format(filler), text):\n",
        "        index = m.start()\n",
        "        indices.append(index)\n",
        "    # collect merge list\n",
        "    merge_list = []\n",
        "    for i, index in enumerate(indices):\n",
        "        if i > 0 and index - old_index == len(filler) + 1:\n",
        "            # found two consecutive fillers\n",
        "            if len(merge_list) > 0 and merge_list[-1][1] == old_index:\n",
        "                # extend previous item\n",
        "                merge_list[-1][1] = index\n",
        "                merge_list[-1][2] += 1\n",
        "            else:\n",
        "                # create new item\n",
        "                merge_list.append([old_index, index, 2])\n",
        "        old_index = index\n",
        "    # merge occurrences\n",
        "    if len(merge_list) > 0:\n",
        "        new_text = ''\n",
        "        pos = 0\n",
        "        for (start, end, count) in merge_list:\n",
        "            new_text += text[pos:start]\n",
        "            new_text += f'{count} {filler}'\n",
        "            pos = end + len(filler)\n",
        "        new_text += text[pos:]\n",
        "        text = new_text\n",
        "    return text"
      ],
      "execution_count": 182,
      "outputs": []
    },
    {
      "cell_type": "code",
      "metadata": {
        "id": "vqsofBxWDjQk"
      },
      "source": [
        "def remove_unicode_symbols(text):\n",
        "    text = ''.join(ch for ch in text if unicodedata.category(ch)[0] != 'So')\n",
        "    return text\n"
      ],
      "execution_count": 183,
      "outputs": []
    },
    {
      "cell_type": "code",
      "metadata": {
        "id": "4kobMbMfDjNV"
      },
      "source": [
        "def remove_accented_characters(text):\n",
        "    text = unidecode.unidecode(text)\n",
        "    return text"
      ],
      "execution_count": 187,
      "outputs": []
    },
    {
      "cell_type": "code",
      "metadata": {
        "id": "VXQ1ZDbdDjK_"
      },
      "source": [
        ""
      ],
      "execution_count": 187,
      "outputs": []
    },
    {
      "cell_type": "code",
      "metadata": {
        "id": "DelpGkNBDjIf"
      },
      "source": [
        ""
      ],
      "execution_count": 187,
      "outputs": []
    },
    {
      "cell_type": "code",
      "metadata": {
        "id": "ET0IQcqtEB8c"
      },
      "source": [
        "def preprocess_bert(text, args, do_lower_case=True):\n",
        "    \"\"\"Preprocesses tweet for BERT\"\"\"\n",
        "    # standardize\n",
        "    text = standardize_text(text)\n",
        "    # replace usernames/urls\n",
        "    if args.replace_usernames:\n",
        "        text = replace_usernames(text, filler=args.username_filler)\n",
        "    if args.replace_urls:\n",
        "        text = replace_urls(text, filler=args.url_filler)\n",
        "    if args.asciify_emojis:\n",
        "        text = asciify_emojis(text)\n",
        "    if args.standardize_punctuation:\n",
        "        text = standardize_punctuation(text)\n",
        "    if do_lower_case:\n",
        "        text = text.lower()\n",
        "    if args.replace_multiple_usernames:\n",
        "        text = replace_multi_occurrences(text, args.username_filler)\n",
        "    if args.replace_multiple_urls:\n",
        "        text = replace_multi_occurrences(text, args.url_filler)\n",
        "    if args.remove_unicode_symbols:\n",
        "        text = remove_unicode_symbols(text)\n",
        "    if args.remove_accented_characters:\n",
        "        text = remove_accented_characters(text)\n",
        "    return text"
      ],
      "execution_count": 188,
      "outputs": []
    },
    {
      "cell_type": "code",
      "metadata": {
        "colab": {
          "base_uri": "https://localhost:8080/"
        },
        "id": "asl5fyWtAp4n",
        "outputId": "6f04c1d7-e7b5-4693-f61e-34137af613ef"
      },
      "source": [
        "labels = set()\n",
        "for _type in ['train', 'dev']:\n",
        "    f_name = f'{_type}.tsv'\n",
        "    logger.info(f'Reading data for for type {_type}...')\n",
        "    f_path = os.path.join(originals_dir, dataset, f_name)\n",
        "    if not os.path.isfile(f_path):\n",
        "        logger.info(f'Could not find file {f_path}. Skipping.')\n",
        "        continue\n",
        "        df = pd.read_csv(f_path, usecols=REQUIRED_COLUMNS, sep='\\t')\n",
        "        logger.info('Creating preprocessed files...')\n",
        "        df.loc[:, 'text'] = df.text.apply(preprocess_bert, args=(args, do_lower_case))\n",
        "        df.to_csv(os.path.join(preprocessed_folder, f_name), columns=REQUIRED_COLUMNS, header=False, index=False, sep='\\t')\n",
        "        # add labels\n",
        "        labels.update(df.label.unique().tolist())\n",
        "    #logger.info('Creating tfrecords files...')\n",
        "    "
      ],
      "execution_count": 189,
      "outputs": [
        {
          "output_type": "stream",
          "name": "stderr",
          "text": [
            "2021-11-17 22:45:19,958 [INFO ] [__main__    ]: Reading data for for type train...\n",
            "2021-11-17 22:45:19,960 [INFO ] [__main__    ]: Reading data for for type dev...\n"
          ]
        }
      ]
    },
    {
      "cell_type": "code",
      "metadata": {
        "colab": {
          "base_uri": "https://localhost:8080/"
        },
        "id": "kIp0izYpBgqF",
        "outputId": "f84ed559-b51e-45a1-920d-2b40696b2307"
      },
      "source": [
        "\n",
        "df.loc[:, 'text'] = df.text.apply(preprocess_bert, args=(args, do_lower_case))\n"
      ],
      "execution_count": 190,
      "outputs": [
        {
          "output_type": "stream",
          "name": "stderr",
          "text": [
            "/usr/local/lib/python3.7/dist-packages/ipykernel_launcher.py:12: DeprecationWarning: The unescape method is deprecated and will be removed in 3.5, use html.unescape() instead.\n",
            "  if sys.path[0] == '':\n"
          ]
        }
      ]
    },
    {
      "cell_type": "code",
      "metadata": {
        "id": "77EOvwn0DqVf",
        "colab": {
          "base_uri": "https://localhost:8080/",
          "height": 206
        },
        "outputId": "66034366-5911-4443-d163-7f5fc8efc147"
      },
      "source": [
        "df.head()"
      ],
      "execution_count": 191,
      "outputs": [
        {
          "output_type": "execute_result",
          "data": {
            "text/html": [
              "<div>\n",
              "<style scoped>\n",
              "    .dataframe tbody tr th:only-of-type {\n",
              "        vertical-align: middle;\n",
              "    }\n",
              "\n",
              "    .dataframe tbody tr th {\n",
              "        vertical-align: top;\n",
              "    }\n",
              "\n",
              "    .dataframe thead th {\n",
              "        text-align: right;\n",
              "    }\n",
              "</style>\n",
              "<table border=\"1\" class=\"dataframe\">\n",
              "  <thead>\n",
              "    <tr style=\"text-align: right;\">\n",
              "      <th></th>\n",
              "      <th>id</th>\n",
              "      <th>label</th>\n",
              "      <th>text</th>\n",
              "    </tr>\n",
              "  </thead>\n",
              "  <tbody>\n",
              "    <tr>\n",
              "      <th>0</th>\n",
              "      <td>5.608318e+17</td>\n",
              "      <td>0</td>\n",
              "      <td>2 twitteruser #palmdesert high school in #rive...</td>\n",
              "    </tr>\n",
              "    <tr>\n",
              "      <th>1</th>\n",
              "      <td>7.720430e+17</td>\n",
              "      <td>0</td>\n",
              "      <td>sb121 [passed] meningococcal disease-pupils to...</td>\n",
              "    </tr>\n",
              "    <tr>\n",
              "      <th>2</th>\n",
              "      <td>5.262292e+17</td>\n",
              "      <td>0</td>\n",
              "      <td>4 twitteruser the keyboard is sweet. i have th...</td>\n",
              "    </tr>\n",
              "    <tr>\n",
              "      <th>3</th>\n",
              "      <td>4.410094e+17</td>\n",
              "      <td>0</td>\n",
              "      <td>twitteruser : all natural :face_savoring_food:...</td>\n",
              "    </tr>\n",
              "    <tr>\n",
              "      <th>4</th>\n",
              "      <td>4.542856e+17</td>\n",
              "      <td>0</td>\n",
              "      <td>#travel #jobs travel immunization nurse specia...</td>\n",
              "    </tr>\n",
              "  </tbody>\n",
              "</table>\n",
              "</div>"
            ],
            "text/plain": [
              "             id  label                                               text\n",
              "0  5.608318e+17      0  2 twitteruser #palmdesert high school in #rive...\n",
              "1  7.720430e+17      0  sb121 [passed] meningococcal disease-pupils to...\n",
              "2  5.262292e+17      0  4 twitteruser the keyboard is sweet. i have th...\n",
              "3  4.410094e+17      0  twitteruser : all natural :face_savoring_food:...\n",
              "4  4.542856e+17      0  #travel #jobs travel immunization nurse specia..."
            ]
          },
          "metadata": {},
          "execution_count": 191
        }
      ]
    },
    {
      "cell_type": "code",
      "metadata": {
        "id": "Zd9GmnZpE6ix"
      },
      "source": [
        ""
      ],
      "execution_count": null,
      "outputs": []
    }
  ]
}