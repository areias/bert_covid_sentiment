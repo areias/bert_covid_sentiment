{
  "nbformat": 4,
  "nbformat_minor": 0,
  "metadata": {
    "colab": {
      "name": "bert_experiments.ipynb",
      "provenance": [],
      "authorship_tag": "ABX9TyO3Z65D24cFbJNczcX3EbN4",
      "include_colab_link": true
    },
    "kernelspec": {
      "display_name": "Python 3",
      "name": "python3"
    },
    "language_info": {
      "name": "python"
    }
  },
  "cells": [
    {
      "cell_type": "markdown",
      "metadata": {
        "id": "view-in-github",
        "colab_type": "text"
      },
      "source": [
        "<a href=\"https://colab.research.google.com/github/areias/bert_covid_sentiment/blob/main/bert_experiments.ipynb\" target=\"_parent\"><img src=\"https://colab.research.google.com/assets/colab-badge.svg\" alt=\"Open In Colab\"/></a>"
      ]
    },
    {
      "cell_type": "markdown",
      "metadata": {
        "id": "0RTeW4zwsKCF"
      },
      "source": [
        "## Data pre-processing\n",
        "\n",
        "from https://github.com/digitalepidemiologylab/covid-twitter-bert/blob/master/preprocess/create_finetune_data.py"
      ]
    },
    {
      "cell_type": "code",
      "metadata": {
        "colab": {
          "base_uri": "https://localhost:8080/"
        },
        "id": "bXQpldWmPzMF",
        "outputId": "9c4735b4-7f4d-4a88-9869-a446f4b348e4"
      },
      "source": [
        "from google.colab import drive\n",
        "drive.mount('/content/drive')"
      ],
      "execution_count": 1,
      "outputs": [
        {
          "output_type": "stream",
          "name": "stdout",
          "text": [
            "Drive already mounted at /content/drive; to attempt to forcibly remount, call drive.mount(\"/content/drive\", force_remount=True).\n"
          ]
        }
      ]
    },
    {
      "cell_type": "code",
      "metadata": {
        "colab": {
          "base_uri": "https://localhost:8080/",
          "height": 35
        },
        "id": "tix-v4iDUQxM",
        "outputId": "5df4f439-bf90-4636-c368-9aca70f7bc36"
      },
      "source": [
        "\"\"\"requirements \n",
        "tensorflow==2.2.0\n",
        "tensorflow_addons==0.11.2\n",
        "\"\"\""
      ],
      "execution_count": 2,
      "outputs": [
        {
          "output_type": "execute_result",
          "data": {
            "application/vnd.google.colaboratory.intrinsic+json": {
              "type": "string"
            },
            "text/plain": [
              "'requirements \\ntensorflow==2.2.0\\ntensorflow_addons==0.11.2\\n'"
            ]
          },
          "metadata": {},
          "execution_count": 2
        }
      ]
    },
    {
      "cell_type": "code",
      "metadata": {
        "colab": {
          "base_uri": "https://localhost:8080/"
        },
        "id": "UStuqQMKUabg",
        "outputId": "121e53a6-c419-44f0-e6ed-ba05b51507a8"
      },
      "source": [
        "!pip install tensorflow==2.2.0"
      ],
      "execution_count": 3,
      "outputs": [
        {
          "output_type": "stream",
          "name": "stdout",
          "text": [
            "Requirement already satisfied: tensorflow==2.2.0 in /usr/local/lib/python3.7/dist-packages (2.2.0)\n",
            "Requirement already satisfied: astunparse==1.6.3 in /usr/local/lib/python3.7/dist-packages (from tensorflow==2.2.0) (1.6.3)\n",
            "Requirement already satisfied: opt-einsum>=2.3.2 in /usr/local/lib/python3.7/dist-packages (from tensorflow==2.2.0) (3.3.0)\n",
            "Requirement already satisfied: tensorflow-estimator<2.3.0,>=2.2.0 in /usr/local/lib/python3.7/dist-packages (from tensorflow==2.2.0) (2.2.0)\n",
            "Requirement already satisfied: termcolor>=1.1.0 in /usr/local/lib/python3.7/dist-packages (from tensorflow==2.2.0) (1.1.0)\n",
            "Requirement already satisfied: scipy==1.4.1 in /usr/local/lib/python3.7/dist-packages (from tensorflow==2.2.0) (1.4.1)\n",
            "Requirement already satisfied: google-pasta>=0.1.8 in /usr/local/lib/python3.7/dist-packages (from tensorflow==2.2.0) (0.2.0)\n",
            "Requirement already satisfied: wheel>=0.26 in /usr/local/lib/python3.7/dist-packages (from tensorflow==2.2.0) (0.37.0)\n",
            "Requirement already satisfied: six>=1.12.0 in /usr/local/lib/python3.7/dist-packages (from tensorflow==2.2.0) (1.15.0)\n",
            "Requirement already satisfied: gast==0.3.3 in /usr/local/lib/python3.7/dist-packages (from tensorflow==2.2.0) (0.3.3)\n",
            "Requirement already satisfied: numpy<2.0,>=1.16.0 in /usr/local/lib/python3.7/dist-packages (from tensorflow==2.2.0) (1.19.5)\n",
            "Requirement already satisfied: protobuf>=3.8.0 in /usr/local/lib/python3.7/dist-packages (from tensorflow==2.2.0) (3.17.3)\n",
            "Requirement already satisfied: h5py<2.11.0,>=2.10.0 in /usr/local/lib/python3.7/dist-packages (from tensorflow==2.2.0) (2.10.0)\n",
            "Requirement already satisfied: tensorboard<2.3.0,>=2.2.0 in /usr/local/lib/python3.7/dist-packages (from tensorflow==2.2.0) (2.2.2)\n",
            "Requirement already satisfied: grpcio>=1.8.6 in /usr/local/lib/python3.7/dist-packages (from tensorflow==2.2.0) (1.41.1)\n",
            "Requirement already satisfied: absl-py>=0.7.0 in /usr/local/lib/python3.7/dist-packages (from tensorflow==2.2.0) (0.12.0)\n",
            "Requirement already satisfied: keras-preprocessing>=1.1.0 in /usr/local/lib/python3.7/dist-packages (from tensorflow==2.2.0) (1.1.2)\n",
            "Requirement already satisfied: wrapt>=1.11.1 in /usr/local/lib/python3.7/dist-packages (from tensorflow==2.2.0) (1.13.3)\n",
            "Requirement already satisfied: google-auth-oauthlib<0.5,>=0.4.1 in /usr/local/lib/python3.7/dist-packages (from tensorboard<2.3.0,>=2.2.0->tensorflow==2.2.0) (0.4.6)\n",
            "Requirement already satisfied: tensorboard-plugin-wit>=1.6.0 in /usr/local/lib/python3.7/dist-packages (from tensorboard<2.3.0,>=2.2.0->tensorflow==2.2.0) (1.8.0)\n",
            "Requirement already satisfied: google-auth<2,>=1.6.3 in /usr/local/lib/python3.7/dist-packages (from tensorboard<2.3.0,>=2.2.0->tensorflow==2.2.0) (1.35.0)\n",
            "Requirement already satisfied: setuptools>=41.0.0 in /usr/local/lib/python3.7/dist-packages (from tensorboard<2.3.0,>=2.2.0->tensorflow==2.2.0) (57.4.0)\n",
            "Requirement already satisfied: requests<3,>=2.21.0 in /usr/local/lib/python3.7/dist-packages (from tensorboard<2.3.0,>=2.2.0->tensorflow==2.2.0) (2.23.0)\n",
            "Requirement already satisfied: werkzeug>=0.11.15 in /usr/local/lib/python3.7/dist-packages (from tensorboard<2.3.0,>=2.2.0->tensorflow==2.2.0) (1.0.1)\n",
            "Requirement already satisfied: markdown>=2.6.8 in /usr/local/lib/python3.7/dist-packages (from tensorboard<2.3.0,>=2.2.0->tensorflow==2.2.0) (3.3.4)\n",
            "Requirement already satisfied: rsa<5,>=3.1.4 in /usr/local/lib/python3.7/dist-packages (from google-auth<2,>=1.6.3->tensorboard<2.3.0,>=2.2.0->tensorflow==2.2.0) (4.7.2)\n",
            "Requirement already satisfied: pyasn1-modules>=0.2.1 in /usr/local/lib/python3.7/dist-packages (from google-auth<2,>=1.6.3->tensorboard<2.3.0,>=2.2.0->tensorflow==2.2.0) (0.2.8)\n",
            "Requirement already satisfied: cachetools<5.0,>=2.0.0 in /usr/local/lib/python3.7/dist-packages (from google-auth<2,>=1.6.3->tensorboard<2.3.0,>=2.2.0->tensorflow==2.2.0) (4.2.4)\n",
            "Requirement already satisfied: requests-oauthlib>=0.7.0 in /usr/local/lib/python3.7/dist-packages (from google-auth-oauthlib<0.5,>=0.4.1->tensorboard<2.3.0,>=2.2.0->tensorflow==2.2.0) (1.3.0)\n",
            "Requirement already satisfied: importlib-metadata in /usr/local/lib/python3.7/dist-packages (from markdown>=2.6.8->tensorboard<2.3.0,>=2.2.0->tensorflow==2.2.0) (4.8.2)\n",
            "Requirement already satisfied: pyasn1<0.5.0,>=0.4.6 in /usr/local/lib/python3.7/dist-packages (from pyasn1-modules>=0.2.1->google-auth<2,>=1.6.3->tensorboard<2.3.0,>=2.2.0->tensorflow==2.2.0) (0.4.8)\n",
            "Requirement already satisfied: certifi>=2017.4.17 in /usr/local/lib/python3.7/dist-packages (from requests<3,>=2.21.0->tensorboard<2.3.0,>=2.2.0->tensorflow==2.2.0) (2021.10.8)\n",
            "Requirement already satisfied: idna<3,>=2.5 in /usr/local/lib/python3.7/dist-packages (from requests<3,>=2.21.0->tensorboard<2.3.0,>=2.2.0->tensorflow==2.2.0) (2.10)\n",
            "Requirement already satisfied: chardet<4,>=3.0.2 in /usr/local/lib/python3.7/dist-packages (from requests<3,>=2.21.0->tensorboard<2.3.0,>=2.2.0->tensorflow==2.2.0) (3.0.4)\n",
            "Requirement already satisfied: urllib3!=1.25.0,!=1.25.1,<1.26,>=1.21.1 in /usr/local/lib/python3.7/dist-packages (from requests<3,>=2.21.0->tensorboard<2.3.0,>=2.2.0->tensorflow==2.2.0) (1.24.3)\n",
            "Requirement already satisfied: oauthlib>=3.0.0 in /usr/local/lib/python3.7/dist-packages (from requests-oauthlib>=0.7.0->google-auth-oauthlib<0.5,>=0.4.1->tensorboard<2.3.0,>=2.2.0->tensorflow==2.2.0) (3.1.1)\n",
            "Requirement already satisfied: typing-extensions>=3.6.4 in /usr/local/lib/python3.7/dist-packages (from importlib-metadata->markdown>=2.6.8->tensorboard<2.3.0,>=2.2.0->tensorflow==2.2.0) (3.10.0.2)\n",
            "Requirement already satisfied: zipp>=0.5 in /usr/local/lib/python3.7/dist-packages (from importlib-metadata->markdown>=2.6.8->tensorboard<2.3.0,>=2.2.0->tensorflow==2.2.0) (3.6.0)\n"
          ]
        }
      ]
    },
    {
      "cell_type": "code",
      "metadata": {
        "colab": {
          "base_uri": "https://localhost:8080/"
        },
        "id": "R3VaKK1eVyor",
        "outputId": "12a31199-40f0-445e-dbd5-3243b3ff5dba"
      },
      "source": [
        "import tensorflow\n",
        "print(tensorflow.__version__)"
      ],
      "execution_count": 4,
      "outputs": [
        {
          "output_type": "stream",
          "name": "stdout",
          "text": [
            "2.2.0\n"
          ]
        }
      ]
    },
    {
      "cell_type": "code",
      "metadata": {
        "colab": {
          "base_uri": "https://localhost:8080/"
        },
        "id": "ZYcDdydoVNQa",
        "outputId": "cd009f6a-e59e-4acf-f6b9-38b226ad9ac8"
      },
      "source": [
        "!pip install  tensorflow_addons==0.11.2\n"
      ],
      "execution_count": 5,
      "outputs": [
        {
          "output_type": "stream",
          "name": "stdout",
          "text": [
            "Requirement already satisfied: tensorflow_addons==0.11.2 in /usr/local/lib/python3.7/dist-packages (0.11.2)\n",
            "Requirement already satisfied: typeguard>=2.7 in /usr/local/lib/python3.7/dist-packages (from tensorflow_addons==0.11.2) (2.7.1)\n"
          ]
        }
      ]
    },
    {
      "cell_type": "code",
      "metadata": {
        "colab": {
          "base_uri": "https://localhost:8080/"
        },
        "id": "idYJyLyUV3XI",
        "outputId": "7d564eaa-6e65-44e1-9374-c336cc0823d5"
      },
      "source": [
        "import tensorflow_addons\n",
        "print(tensorflow_addons.__version__)"
      ],
      "execution_count": 6,
      "outputs": [
        {
          "output_type": "stream",
          "name": "stdout",
          "text": [
            "0.11.2\n"
          ]
        }
      ]
    },
    {
      "cell_type": "code",
      "metadata": {
        "colab": {
          "base_uri": "https://localhost:8080/"
        },
        "id": "8KQvJc2-NXfE",
        "outputId": "6a662cc3-90ff-46f8-fc23-dfd6da069f27"
      },
      "source": [
        "!git clone -b master https://github.com/digitalepidemiologylab/covid-twitter-bert.git "
      ],
      "execution_count": 7,
      "outputs": [
        {
          "output_type": "stream",
          "name": "stdout",
          "text": [
            "fatal: destination path 'covid-twitter-bert' already exists and is not an empty directory.\n"
          ]
        }
      ]
    },
    {
      "cell_type": "code",
      "metadata": {
        "id": "ylIpaWrFuJJQ",
        "colab": {
          "base_uri": "https://localhost:8080/"
        },
        "outputId": "aacb3658-b977-4ce0-96d6-c98f7761b5dd"
      },
      "source": [
        "!pip install transformers"
      ],
      "execution_count": 8,
      "outputs": [
        {
          "output_type": "stream",
          "name": "stdout",
          "text": [
            "Requirement already satisfied: transformers in /usr/local/lib/python3.7/dist-packages (4.12.5)\n",
            "Requirement already satisfied: filelock in /usr/local/lib/python3.7/dist-packages (from transformers) (3.3.2)\n",
            "Requirement already satisfied: regex!=2019.12.17 in /usr/local/lib/python3.7/dist-packages (from transformers) (2019.12.20)\n",
            "Requirement already satisfied: tokenizers<0.11,>=0.10.1 in /usr/local/lib/python3.7/dist-packages (from transformers) (0.10.3)\n",
            "Requirement already satisfied: huggingface-hub<1.0,>=0.1.0 in /usr/local/lib/python3.7/dist-packages (from transformers) (0.1.2)\n",
            "Requirement already satisfied: sacremoses in /usr/local/lib/python3.7/dist-packages (from transformers) (0.0.46)\n",
            "Requirement already satisfied: requests in /usr/local/lib/python3.7/dist-packages (from transformers) (2.23.0)\n",
            "Requirement already satisfied: packaging>=20.0 in /usr/local/lib/python3.7/dist-packages (from transformers) (21.2)\n",
            "Requirement already satisfied: importlib-metadata in /usr/local/lib/python3.7/dist-packages (from transformers) (4.8.2)\n",
            "Requirement already satisfied: numpy>=1.17 in /usr/local/lib/python3.7/dist-packages (from transformers) (1.19.5)\n",
            "Requirement already satisfied: pyyaml>=5.1 in /usr/local/lib/python3.7/dist-packages (from transformers) (6.0)\n",
            "Requirement already satisfied: tqdm>=4.27 in /usr/local/lib/python3.7/dist-packages (from transformers) (4.62.3)\n",
            "Requirement already satisfied: typing-extensions>=3.7.4.3 in /usr/local/lib/python3.7/dist-packages (from huggingface-hub<1.0,>=0.1.0->transformers) (3.10.0.2)\n",
            "Requirement already satisfied: pyparsing<3,>=2.0.2 in /usr/local/lib/python3.7/dist-packages (from packaging>=20.0->transformers) (2.4.7)\n",
            "Requirement already satisfied: zipp>=0.5 in /usr/local/lib/python3.7/dist-packages (from importlib-metadata->transformers) (3.6.0)\n",
            "Requirement already satisfied: idna<3,>=2.5 in /usr/local/lib/python3.7/dist-packages (from requests->transformers) (2.10)\n",
            "Requirement already satisfied: certifi>=2017.4.17 in /usr/local/lib/python3.7/dist-packages (from requests->transformers) (2021.10.8)\n",
            "Requirement already satisfied: chardet<4,>=3.0.2 in /usr/local/lib/python3.7/dist-packages (from requests->transformers) (3.0.4)\n",
            "Requirement already satisfied: urllib3!=1.25.0,!=1.25.1,<1.26,>=1.21.1 in /usr/local/lib/python3.7/dist-packages (from requests->transformers) (1.24.3)\n",
            "Requirement already satisfied: click in /usr/local/lib/python3.7/dist-packages (from sacremoses->transformers) (7.1.2)\n",
            "Requirement already satisfied: six in /usr/local/lib/python3.7/dist-packages (from sacremoses->transformers) (1.15.0)\n",
            "Requirement already satisfied: joblib in /usr/local/lib/python3.7/dist-packages (from sacremoses->transformers) (1.1.0)\n"
          ]
        }
      ]
    },
    {
      "cell_type": "code",
      "metadata": {
        "id": "WXGHQ4HUwEAt"
      },
      "source": [
        "from transformers import (\n",
        "   AutoConfig,\n",
        "   AutoTokenizer,\n",
        "   TFAutoModelForSequenceClassification,\n",
        "   AdamW,\n",
        "   glue_convert_examples_to_features\n",
        ")\n",
        "import tensorflow as tf\n",
        "import tensorflow_datasets as tfds\n",
        "import json"
      ],
      "execution_count": 10,
      "outputs": []
    },
    {
      "cell_type": "code",
      "metadata": {
        "id": "zxhnfxi3tw0_"
      },
      "source": [
        "import pandas as pd"
      ],
      "execution_count": 11,
      "outputs": []
    },
    {
      "cell_type": "code",
      "metadata": {
        "id": "-RMH5beNuEZv"
      },
      "source": [
        "df=pd.read_csv(\"/content/drive/MyDrive/train-4.csv\")"
      ],
      "execution_count": 12,
      "outputs": []
    },
    {
      "cell_type": "code",
      "metadata": {
        "colab": {
          "base_uri": "https://localhost:8080/",
          "height": 206
        },
        "id": "a89eqroYuG8S",
        "outputId": "89428074-4a52-4c42-e3d8-6ff0ee8ef2f3"
      },
      "source": [
        "df.head()"
      ],
      "execution_count": 13,
      "outputs": [
        {
          "output_type": "execute_result",
          "data": {
            "text/html": [
              "<div>\n",
              "<style scoped>\n",
              "    .dataframe tbody tr th:only-of-type {\n",
              "        vertical-align: middle;\n",
              "    }\n",
              "\n",
              "    .dataframe tbody tr th {\n",
              "        vertical-align: top;\n",
              "    }\n",
              "\n",
              "    .dataframe thead th {\n",
              "        text-align: right;\n",
              "    }\n",
              "</style>\n",
              "<table border=\"1\" class=\"dataframe\">\n",
              "  <thead>\n",
              "    <tr style=\"text-align: right;\">\n",
              "      <th></th>\n",
              "      <th>Unnamed: 0</th>\n",
              "      <th>tweet_id</th>\n",
              "      <th>text</th>\n",
              "      <th>label</th>\n",
              "    </tr>\n",
              "  </thead>\n",
              "  <tbody>\n",
              "    <tr>\n",
              "      <th>0</th>\n",
              "      <td>0</td>\n",
              "      <td>5.608318e+17</td>\n",
              "      <td>@GMA @GStephanopoulos #PalmDesert high school ...</td>\n",
              "      <td>0</td>\n",
              "    </tr>\n",
              "    <tr>\n",
              "      <th>1</th>\n",
              "      <td>1</td>\n",
              "      <td>7.720430e+17</td>\n",
              "      <td>SB121 [Passed] Meningococcal disease-pupils to...</td>\n",
              "      <td>0</td>\n",
              "    </tr>\n",
              "    <tr>\n",
              "      <th>2</th>\n",
              "      <td>2</td>\n",
              "      <td>5.262292e+17</td>\n",
              "      <td>@cabosetv @EvilGeniuses @EGiNcontroL @Razer th...</td>\n",
              "      <td>0</td>\n",
              "    </tr>\n",
              "    <tr>\n",
              "      <th>3</th>\n",
              "      <td>3</td>\n",
              "      <td>4.410094e+17</td>\n",
              "      <td>“@MizzTwerksum: All natural 😋🙌 squats not shot...</td>\n",
              "      <td>0</td>\n",
              "    </tr>\n",
              "    <tr>\n",
              "      <th>4</th>\n",
              "      <td>4</td>\n",
              "      <td>4.542856e+17</td>\n",
              "      <td>#travel #jobs Travel Immunization Nurse Specia...</td>\n",
              "      <td>0</td>\n",
              "    </tr>\n",
              "  </tbody>\n",
              "</table>\n",
              "</div>"
            ],
            "text/plain": [
              "   Unnamed: 0  ...  label\n",
              "0           0  ...      0\n",
              "1           1  ...      0\n",
              "2           2  ...      0\n",
              "3           3  ...      0\n",
              "4           4  ...      0\n",
              "\n",
              "[5 rows x 4 columns]"
            ]
          },
          "metadata": {},
          "execution_count": 13
        }
      ]
    },
    {
      "cell_type": "code",
      "metadata": {
        "colab": {
          "base_uri": "https://localhost:8080/"
        },
        "id": "K93H640euHfR",
        "outputId": "a5325f46-d352-4269-9eb2-f439f10dd7cb"
      },
      "source": [
        "df.label.value_counts()"
      ],
      "execution_count": 14,
      "outputs": [
        {
          "output_type": "execute_result",
          "data": {
            "text/plain": [
              " 1    1134\n",
              "-1    1134\n",
              " 0    1134\n",
              "Name: label, dtype: int64"
            ]
          },
          "metadata": {},
          "execution_count": 14
        }
      ]
    },
    {
      "cell_type": "code",
      "metadata": {
        "id": "iLy0rz2j0Uzt"
      },
      "source": [
        "# id,label,text\n",
        "df=df.loc[:,[\"tweet_id\",\"label\", \"text\"]]\n",
        "df.columns=['id','label', 'text']"
      ],
      "execution_count": 15,
      "outputs": []
    },
    {
      "cell_type": "code",
      "metadata": {
        "id": "OIcZ0ecAzZKn"
      },
      "source": [
        "import numpy as np"
      ],
      "execution_count": 16,
      "outputs": []
    },
    {
      "cell_type": "code",
      "metadata": {
        "id": "P7MmMFSczvip"
      },
      "source": [
        "\"\"\"\n",
        "    60% - train set,\n",
        "    20% - dev/validation set,\n",
        "    20% - test set\"\"\"\n",
        "\n",
        "train, dev, test = np.split(df.sample(frac=1, random_state=42), \n",
        "                       [int(.6*len(df)), int(.8*len(df))])"
      ],
      "execution_count": 17,
      "outputs": []
    },
    {
      "cell_type": "code",
      "metadata": {
        "colab": {
          "base_uri": "https://localhost:8080/"
        },
        "id": "xE93swEZz_Hg",
        "outputId": "3ce3dde4-c761-48a4-c931-44ee1a953905"
      },
      "source": [
        "dev.info()"
      ],
      "execution_count": 18,
      "outputs": [
        {
          "output_type": "stream",
          "name": "stdout",
          "text": [
            "<class 'pandas.core.frame.DataFrame'>\n",
            "Int64Index: 680 entries, 2111 to 1140\n",
            "Data columns (total 3 columns):\n",
            " #   Column  Non-Null Count  Dtype  \n",
            "---  ------  --------------  -----  \n",
            " 0   id      680 non-null    float64\n",
            " 1   label   680 non-null    int64  \n",
            " 2   text    680 non-null    object \n",
            "dtypes: float64(1), int64(1), object(1)\n",
            "memory usage: 21.2+ KB\n"
          ]
        }
      ]
    },
    {
      "cell_type": "code",
      "metadata": {
        "id": "iwff5Ccg93CQ"
      },
      "source": [
        "import os \n",
        "#os.makedirs(\"covid-twitter-bert/data/finetune/originals/crowdbreaks\")"
      ],
      "execution_count": 19,
      "outputs": []
    },
    {
      "cell_type": "code",
      "metadata": {
        "id": "2WR4qUmU0LO8"
      },
      "source": [
        "train.to_csv(\"covid-twitter-bert/data/finetune/originals/crowdbreaks/train.tsv\", sep=\"\\t\",index=False)\n",
        "dev.to_csv(\"covid-twitter-bert/data/finetune/originals/crowdbreaks/dev.tsv\", sep=\"\\t\",index=False)\n",
        "test.to_csv(\"covid-twitter-bert/data/finetune/originals/crowdbreaks/test.tsv\", sep=\"\\t\",index=False)\n"
      ],
      "execution_count": 20,
      "outputs": []
    },
    {
      "cell_type": "code",
      "metadata": {
        "id": "lz1lepVq3Cry",
        "colab": {
          "base_uri": "https://localhost:8080/",
          "height": 70
        },
        "outputId": "66f602e1-a529-4632-9561-fccfb548ac2a"
      },
      "source": [
        "# args\n",
        "\"\"\"\n",
        "cd preprocess\n",
        "python create_finetune_data.py \\\n",
        "  --run_prefix test_run \\\n",
        "  --finetune_datasets <dataset_name> \\\n",
        "  --model_class bert_large_uncased_wwm \\\n",
        "  --max_seq_length 96 \\\n",
        "  --asciify_emojis \\\n",
        "  --username_filler twitteruser \\\n",
        "  --url_filler twitterurl \\\n",
        "  --replace_multiple_usernames \\\n",
        "  --replace_multiple_urls \\\n",
        "  --remove_unicode_symbols\"\n",
        "\"\"\""
      ],
      "execution_count": 22,
      "outputs": [
        {
          "output_type": "execute_result",
          "data": {
            "application/vnd.google.colaboratory.intrinsic+json": {
              "type": "string"
            },
            "text/plain": [
              "'\\ncd preprocess\\npython create_finetune_data.py   --run_prefix test_run   --finetune_datasets <dataset_name>   --model_class bert_large_uncased_wwm   --max_seq_length 96   --asciify_emojis   --username_filler twitteruser   --url_filler twitterurl   --replace_multiple_usernames   --replace_multiple_urls   --remove_unicode_symbols\"\\n'"
            ]
          },
          "metadata": {},
          "execution_count": 22
        }
      ]
    },
    {
      "cell_type": "code",
      "metadata": {
        "colab": {
          "base_uri": "https://localhost:8080/"
        },
        "id": "BNMEThu53TSH",
        "outputId": "54844168-6734-4f5a-b3d4-5ca217264e78"
      },
      "source": [
        "from collections import namedtuple\n",
        "arguments = namedtuple('arguments', ['run_prefix','finetune_datasets','model_class',\n",
        "                                     'max_seq_length', 'asciify_emojis','username_filler',\n",
        "                                    'url_filler', 'replace_multiple_usernames','replace_multiple_urls',\n",
        "                                      'remove_unicode_symbols','replace_usernames','replace_urls',\n",
        "                                     'standardize_punctuation','remove_accented_characters'])\n",
        "\n",
        "args = arguments(\"test_run\",[\"crowdbreaks\"],\"covid-twitter-bert-2\",\n",
        "                 96, True, \"twitteruser\", \n",
        "                 \"twitterurl\", True,True,\n",
        "                 True, True, True,\n",
        "                 True, True)\n",
        "args"
      ],
      "execution_count": 23,
      "outputs": [
        {
          "output_type": "execute_result",
          "data": {
            "text/plain": [
              "arguments(run_prefix='test_run', finetune_datasets=['crowdbreaks'], model_class='covid-twitter-bert-2', max_seq_length=96, asciify_emojis=True, username_filler='twitteruser', url_filler='twitterurl', replace_multiple_usernames=True, replace_multiple_urls=True, remove_unicode_symbols=True, replace_usernames=True, replace_urls=True, standardize_punctuation=True, remove_accented_characters=True)"
            ]
          },
          "metadata": {},
          "execution_count": 23
        }
      ]
    },
    {
      "cell_type": "code",
      "metadata": {
        "id": "YFJx97gV7Ej3"
      },
      "source": [
        "REQUIRED_COLUMNS = ['id', 'label', 'text']\n",
        "DATA_DIR = os.path.join('covid-twitter-bert/data')\n",
        "VOCAB_PATH = os.path.join('covid-twitter-bert/vocabs')\n"
      ],
      "execution_count": 24,
      "outputs": []
    },
    {
      "cell_type": "code",
      "metadata": {
        "id": "VYKnOS8iwa18"
      },
      "source": [
        "import datetime\n",
        "def get_run_name(args):\n",
        "    # Use timestamp to generate a unique run name\n",
        "    ts = datetime.datetime.now().strftime('%Y-%m-%d_%H-%M-%S_%f')\n",
        "    if args.run_prefix:\n",
        "        run_name = f'run_{ts}_{args.run_prefix}'\n",
        "    else:\n",
        "        run_name = f'run_{ts}'\n",
        "    return run_name"
      ],
      "execution_count": 25,
      "outputs": []
    },
    {
      "cell_type": "code",
      "metadata": {
        "colab": {
          "base_uri": "https://localhost:8080/",
          "height": 35
        },
        "id": "QCH78nBC8DqB",
        "outputId": "03c2ffd4-9c1d-4979-a62d-1eeaff8d580e"
      },
      "source": [
        "run_name = get_run_name(args)\n",
        "run_name"
      ],
      "execution_count": 26,
      "outputs": [
        {
          "output_type": "execute_result",
          "data": {
            "application/vnd.google.colaboratory.intrinsic+json": {
              "type": "string"
            },
            "text/plain": [
              "'run_2021-11-18_15-24-57_560898_test_run'"
            ]
          },
          "metadata": {},
          "execution_count": 26
        }
      ]
    },
    {
      "cell_type": "code",
      "metadata": {
        "colab": {
          "base_uri": "https://localhost:8080/",
          "height": 35
        },
        "id": "DHTAYs4_8Eo_",
        "outputId": "1177c051-6bf8-4446-ccc9-f5284725cb1d"
      },
      "source": [
        "run_dir = os.path.join(DATA_DIR, 'finetune', run_name)\n",
        "run_dir"
      ],
      "execution_count": 27,
      "outputs": [
        {
          "output_type": "execute_result",
          "data": {
            "application/vnd.google.colaboratory.intrinsic+json": {
              "type": "string"
            },
            "text/plain": [
              "'covid-twitter-bert/data/finetune/run_2021-11-18_15-24-57_560898_test_run'"
            ]
          },
          "metadata": {},
          "execution_count": 27
        }
      ]
    },
    {
      "cell_type": "code",
      "metadata": {
        "id": "M4ZxTT_g9GCE"
      },
      "source": [
        "if not os.path.isdir(run_dir):\n",
        "  os.makedirs(run_dir)"
      ],
      "execution_count": 28,
      "outputs": []
    },
    {
      "cell_type": "code",
      "metadata": {
        "colab": {
          "base_uri": "https://localhost:8080/",
          "height": 35
        },
        "id": "6KTfKzqF9KWD",
        "outputId": "87dbdc8e-c890-4155-bad1-a9a33757304f"
      },
      "source": [
        "# find input data\n",
        "originals_dir = os.path.join(DATA_DIR, 'finetune', 'originals')\n",
        "originals_dir   "
      ],
      "execution_count": 29,
      "outputs": [
        {
          "output_type": "execute_result",
          "data": {
            "application/vnd.google.colaboratory.intrinsic+json": {
              "type": "string"
            },
            "text/plain": [
              "'covid-twitter-bert/data/finetune/originals'"
            ]
          },
          "metadata": {},
          "execution_count": 29
        }
      ]
    },
    {
      "cell_type": "code",
      "metadata": {
        "colab": {
          "base_uri": "https://localhost:8080/"
        },
        "id": "7NvQczFf9UBB",
        "outputId": "2f13cdab-6483-479d-beb0-c276063b379f"
      },
      "source": [
        "if args.finetune_datasets is None or len(args.finetune_datasets) == 0:\n",
        "    finetune_datasets = os.listdir(originals_dir)\n",
        "else:\n",
        "    finetune_datasets = args.finetune_datasets\n",
        "finetune_datasets"
      ],
      "execution_count": 30,
      "outputs": [
        {
          "output_type": "execute_result",
          "data": {
            "text/plain": [
              "['crowdbreaks']"
            ]
          },
          "metadata": {},
          "execution_count": 30
        }
      ]
    },
    {
      "cell_type": "code",
      "metadata": {
        "id": "YFMpfHpc_O_F"
      },
      "source": [
        "# Pretrained models configuration, add model configuration here\n",
        "\n",
        "PRETRAINED_MODELS = {\n",
        "        'bert_large_uncased': {\n",
        "            'bucket_location': 'pretrained_models/bert/keras_bert/uncased_L-24_H-1024_A-16',\n",
        "            'hub_url': 'tensorflow/bert_en_uncased_L-24_H-1024_A-16/2',\n",
        "            'config': 'bert_config_large_uncased.json',\n",
        "            'is_tfhub_model': True,\n",
        "            'vocab_file': 'bert-large-uncased-vocab.txt',\n",
        "            'lower_case': True,\n",
        "            'do_whole_word_masking': False\n",
        "            },\n",
        "        'bert_multi_cased': {\n",
        "            'bucket_location': 'pretrained_models/bert/keras_bert/multi_cased_L-12_H-768_A-12',\n",
        "            'hub_url': 'tensorflow/bert_multi_cased_L-12_H-768_A-12/2',\n",
        "            'config': 'bert_config_multi_cased.json',\n",
        "            'is_tfhub_model': True,\n",
        "            'vocab_file': 'bert-multi-cased-vocab.txt',\n",
        "            'lower_case': False,\n",
        "            'do_whole_word_masking': False\n",
        "            },\n",
        "        'bert_large_uncased_wwm': {\n",
        "            'bucket_location': 'pretrained_models/bert/keras_bert/wwm_uncased_L-24_H-1024_A-16',\n",
        "            'hub_url': 'tensorflow/bert_en_wwm_uncased_L-24_H-1024_A-16/2',\n",
        "            'config': 'bert_config_large_uncased_wwm.json',\n",
        "            'is_tfhub_model': True,\n",
        "            'vocab_file': 'bert-large-uncased-whole-word-masking-vocab.txt',\n",
        "            'lower_case': True,\n",
        "            'do_whole_word_masking': True\n",
        "            },\n",
        "        'covid-twitter-bert': {\n",
        "            'hub_url': 'digitalepidemiologylab/covid-twitter-bert/1',\n",
        "            'is_tfhub_model': True,\n",
        "            'config': 'bert_config_covid_twitter_bert.json',\n",
        "            'vocab_file': 'bert-large-uncased-whole-word-masking-vocab.txt',\n",
        "            'lower_case': True,\n",
        "            'do_whole_word_masking': True\n",
        "            },\n",
        "        'covid-twitter-bert-2': {\n",
        "            'hub_url': 'digitalepidemiologylab/covid-twitter-bert/2',\n",
        "            'is_tfhub_model': True,\n",
        "            'config': 'bert_config_covid_twitter_bert.json',\n",
        "            'vocab_file': 'bert-large-uncased-whole-word-masking-vocab.txt',\n",
        "            'lower_case': True,\n",
        "            'do_whole_word_masking': True\n",
        "            }\n",
        "        }"
      ],
      "execution_count": 31,
      "outputs": []
    },
    {
      "cell_type": "code",
      "metadata": {
        "id": "LjjWFVOb_yIW"
      },
      "source": [
        "# https://tfhub.dev/digitalepidemiologylab/covid-twitter-bert/2\n",
        "\n",
        "\n"
      ],
      "execution_count": 32,
      "outputs": []
    },
    {
      "cell_type": "code",
      "metadata": {
        "colab": {
          "base_uri": "https://localhost:8080/"
        },
        "id": "vzdUiWRa9hXt",
        "outputId": "a19bf471-b92a-4653-fc85-c5e04e8a8e69"
      },
      "source": [
        "do_lower_case = PRETRAINED_MODELS[args.model_class]['lower_case']\n",
        "do_lower_case\n"
      ],
      "execution_count": 33,
      "outputs": [
        {
          "output_type": "execute_result",
          "data": {
            "text/plain": [
              "True"
            ]
          },
          "metadata": {},
          "execution_count": 33
        }
      ]
    },
    {
      "cell_type": "code",
      "metadata": {
        "id": "GTiP_gbIE4Mx"
      },
      "source": [
        "# compile regexes\n",
        "import re\n",
        "from html.parser import HTMLParser\n",
        "import unicodedata\n",
        "\n",
        "username_regex = re.compile(r'(^|[^@\\w])@(\\w{1,15})\\b')\n",
        "url_regex = re.compile(r'((www\\.[^\\s]+)|(https?://[^\\s]+)|(http?://[^\\s]+))')\n",
        "control_char_regex = re.compile(r'[\\r\\n\\t]+')\n",
        "# translate table for punctuation\n",
        "transl_table = dict([(ord(x), ord(y)) for x, y in zip(u\"‘’´“”–-\",  u\"'''\\\"\\\"--\")])\n",
        "# HTML parser\n",
        "html_parser = HTMLParser()"
      ],
      "execution_count": 34,
      "outputs": []
    },
    {
      "cell_type": "code",
      "metadata": {
        "id": "ApHemBTYEYfV"
      },
      "source": [
        "def standardize_text(text):\n",
        "    \"\"\"\n",
        "    1) Escape HTML\n",
        "    2) Replaces some non-standard punctuation with standard versions. \n",
        "    3) Replace \\r, \\n and \\t with white spaces\n",
        "    4) Removes all other control characters and the NULL byte\n",
        "    5) Removes duplicate white spaces\n",
        "    \"\"\"\n",
        "    html_parser = HTMLParser()\n",
        "\n",
        "    # escape HTML symbols\n",
        "    text = html_parser.unescape(text)\n",
        "    # standardize punctuation\n",
        "    text = text.translate(transl_table)\n",
        "    text = text.replace('…', '...')\n",
        "    # replace \\t, \\n and \\r characters by a whitespace\n",
        "    text = re.sub(control_char_regex, ' ', text)\n",
        "    # remove all remaining control characters\n",
        "    text = ''.join(ch for ch in text if unicodedata.category(ch)[0] != 'C')\n",
        "    # replace multiple spaces with single space\n",
        "    text = ' '.join(text.split())\n",
        "    return text.strip()"
      ],
      "execution_count": 35,
      "outputs": []
    },
    {
      "cell_type": "code",
      "metadata": {
        "id": "CY_x3-TwDjeJ"
      },
      "source": [
        "def replace_usernames(text, filler='user'):\n",
        "    # @<user> is a marker used internally. use filler instead\n",
        "    text = text.replace('@<user>', f'{filler}')\n",
        "    # replace other user handles by filler\n",
        "    text = re.sub(username_regex, filler, text)\n",
        "    # add spaces between, and remove double spaces again\n",
        "    text = text.replace(filler, f' {filler} ')\n",
        "    text = ' '.join(text.split())\n",
        "    return text"
      ],
      "execution_count": 36,
      "outputs": []
    },
    {
      "cell_type": "code",
      "metadata": {
        "id": "5RFtD1DWDjay"
      },
      "source": [
        "def replace_urls(text, filler='url'):\n",
        "    # <url> is a marker used internally. use filler instead\n",
        "    text = text.replace('<url>', filler)\n",
        "    # replace other urls by filler\n",
        "    text = re.sub(url_regex, filler, text)\n",
        "    # add spaces between, and remove double spaces again\n",
        "    text = text.replace(filler, f' {filler} ')\n",
        "    text = ' '.join(text.split())\n",
        "    return text"
      ],
      "execution_count": 37,
      "outputs": []
    },
    {
      "cell_type": "code",
      "metadata": {
        "colab": {
          "base_uri": "https://localhost:8080/"
        },
        "id": "kUVFtOqHDjYJ",
        "outputId": "c02acc03-2cce-4980-b698-db984c39c02f"
      },
      "source": [
        "!pip install emoji\n",
        "import emoji\n",
        "def asciify_emojis(text):\n",
        "    \"\"\"\n",
        "    Converts emojis into text aliases. E.g. 👍 becomes :thumbs_up:\n",
        "    For a full list of text aliases see: https://www.webfx.com/tools/emoji-cheat-sheet/\n",
        "    \"\"\"\n",
        "    text = emoji.demojize(text)\n",
        "    return text"
      ],
      "execution_count": 38,
      "outputs": [
        {
          "output_type": "stream",
          "name": "stdout",
          "text": [
            "Requirement already satisfied: emoji in /usr/local/lib/python3.7/dist-packages (1.6.1)\n"
          ]
        }
      ]
    },
    {
      "cell_type": "code",
      "metadata": {
        "colab": {
          "base_uri": "https://localhost:8080/"
        },
        "id": "xnq6u040DjVy",
        "outputId": "265c5fcc-915e-4881-f1a8-61eae9c959dd"
      },
      "source": [
        "!pip install unidecode \n",
        "import unidecode\n",
        "def standardize_punctuation(text):\n",
        "    return ''.join([unidecode.unidecode(t) if unicodedata.category(t)[0] == 'P' else t for t in text])\n"
      ],
      "execution_count": 39,
      "outputs": [
        {
          "output_type": "stream",
          "name": "stdout",
          "text": [
            "Requirement already satisfied: unidecode in /usr/local/lib/python3.7/dist-packages (1.3.2)\n"
          ]
        }
      ]
    },
    {
      "cell_type": "code",
      "metadata": {
        "id": "ewtCFKJuDjTC"
      },
      "source": [
        "\n",
        "def replace_multi_occurrences(text, filler):\n",
        "    \"\"\"Replaces multiple occurrences of filler with n filler\"\"\"\n",
        "    # only run if we have multiple occurrences of filler\n",
        "    if text.count(filler) <= 1:\n",
        "        return text\n",
        "    # pad fillers with whitespace\n",
        "    text = text.replace(f'{filler}', f' {filler} ')\n",
        "    # remove introduced duplicate whitespaces\n",
        "    text = ' '.join(text.split())\n",
        "    # find indices of occurrences\n",
        "    indices = []\n",
        "    for m in re.finditer(r'{}'.format(filler), text):\n",
        "        index = m.start()\n",
        "        indices.append(index)\n",
        "    # collect merge list\n",
        "    merge_list = []\n",
        "    for i, index in enumerate(indices):\n",
        "        if i > 0 and index - old_index == len(filler) + 1:\n",
        "            # found two consecutive fillers\n",
        "            if len(merge_list) > 0 and merge_list[-1][1] == old_index:\n",
        "                # extend previous item\n",
        "                merge_list[-1][1] = index\n",
        "                merge_list[-1][2] += 1\n",
        "            else:\n",
        "                # create new item\n",
        "                merge_list.append([old_index, index, 2])\n",
        "        old_index = index\n",
        "    # merge occurrences\n",
        "    if len(merge_list) > 0:\n",
        "        new_text = ''\n",
        "        pos = 0\n",
        "        for (start, end, count) in merge_list:\n",
        "            new_text += text[pos:start]\n",
        "            new_text += f'{count} {filler}'\n",
        "            pos = end + len(filler)\n",
        "        new_text += text[pos:]\n",
        "        text = new_text\n",
        "    return text"
      ],
      "execution_count": 40,
      "outputs": []
    },
    {
      "cell_type": "code",
      "metadata": {
        "id": "vqsofBxWDjQk"
      },
      "source": [
        "def remove_unicode_symbols(text):\n",
        "    text = ''.join(ch for ch in text if unicodedata.category(ch)[0] != 'So')\n",
        "    return text\n"
      ],
      "execution_count": 41,
      "outputs": []
    },
    {
      "cell_type": "code",
      "metadata": {
        "id": "4kobMbMfDjNV"
      },
      "source": [
        "def remove_accented_characters(text):\n",
        "    text = unidecode.unidecode(text)\n",
        "    return text"
      ],
      "execution_count": 42,
      "outputs": []
    },
    {
      "cell_type": "code",
      "metadata": {
        "id": "VXQ1ZDbdDjK_"
      },
      "source": [
        "# copying old commit of tensorflow models they used\n",
        "#!cp -r /content/drive/MyDrive/models-93490036e00f37ecbe6693b9ff4ae488bb8e9270/* covid-twitter-bert/tensorflow_models/"
      ],
      "execution_count": 43,
      "outputs": []
    },
    {
      "cell_type": "code",
      "metadata": {
        "id": "DelpGkNBDjIf"
      },
      "source": [
        "import sys\n",
        "sys.path.append('covid-twitter-bert/tensorflow_models')"
      ],
      "execution_count": 44,
      "outputs": []
    },
    {
      "cell_type": "code",
      "metadata": {
        "colab": {
          "base_uri": "https://localhost:8080/"
        },
        "id": "syVbDod1YW2V",
        "outputId": "f3377674-b040-425b-8267-b560f4c85517"
      },
      "source": [
        "!pip install sentencepiece"
      ],
      "execution_count": 45,
      "outputs": [
        {
          "output_type": "stream",
          "name": "stdout",
          "text": [
            "Requirement already satisfied: sentencepiece in /usr/local/lib/python3.7/dist-packages (0.1.96)\n"
          ]
        }
      ]
    },
    {
      "cell_type": "code",
      "metadata": {
        "id": "N6qDmUXdHB_7"
      },
      "source": [
        "import importlib\n",
        "from official.nlp.data.classifier_data_lib import DataProcessor, generate_tf_record_from_data_file, InputExample\n",
        "from official.nlp.bert import tokenization\n"
      ],
      "execution_count": 46,
      "outputs": []
    },
    {
      "cell_type": "code",
      "metadata": {
        "id": "ur6DgIikVOq0"
      },
      "source": [
        "?importlib.reload"
      ],
      "execution_count": 47,
      "outputs": []
    },
    {
      "cell_type": "code",
      "metadata": {
        "id": "ET0IQcqtEB8c"
      },
      "source": [
        "def preprocess_bert(text, args, do_lower_case=True):\n",
        "    \"\"\"Preprocesses tweet for BERT\"\"\"\n",
        "    # standardize\n",
        "    text = standardize_text(text)\n",
        "    # replace usernames/urls\n",
        "    if args.replace_usernames:\n",
        "        text = replace_usernames(text, filler=args.username_filler)\n",
        "    if args.replace_urls:\n",
        "        text = replace_urls(text, filler=args.url_filler)\n",
        "    if args.asciify_emojis:\n",
        "        text = asciify_emojis(text)\n",
        "    if args.standardize_punctuation:\n",
        "        text = standardize_punctuation(text)\n",
        "    if do_lower_case:\n",
        "        text = text.lower()\n",
        "    if args.replace_multiple_usernames:\n",
        "        text = replace_multi_occurrences(text, args.username_filler)\n",
        "    if args.replace_multiple_urls:\n",
        "        text = replace_multi_occurrences(text, args.url_filler)\n",
        "    if args.remove_unicode_symbols:\n",
        "        text = remove_unicode_symbols(text)\n",
        "    if args.remove_accented_characters:\n",
        "        text = remove_accented_characters(text)\n",
        "    return text"
      ],
      "execution_count": 48,
      "outputs": []
    },
    {
      "cell_type": "code",
      "metadata": {
        "id": "zFALnhN6GVDt"
      },
      "source": [
        "import logging\n",
        "logger = logging.getLogger(__name__)\n",
        "logging.basicConfig(level=logging.INFO, format='%(asctime)s [%(levelname)-5.5s] [%(name)-12.12s]: %(message)s')\n"
      ],
      "execution_count": 49,
      "outputs": []
    },
    {
      "cell_type": "code",
      "metadata": {
        "id": "iZVwDtaXHkrU"
      },
      "source": [
        "def get_tokenizer(model_class):\n",
        "    model = PRETRAINED_MODELS[model_class]\n",
        "    vocab_file = os.path.join(VOCAB_PATH, model['vocab_file'])\n",
        "    tokenizer = tokenization.FullTokenizer(vocab_file=vocab_file, do_lower_case=model['lower_case'])\n",
        "    return tokenizer"
      ],
      "execution_count": 50,
      "outputs": []
    },
    {
      "cell_type": "code",
      "metadata": {
        "id": "D64HQHB5afFW"
      },
      "source": [
        "def generate_tfrecords(args, dataset_dir, labels):\n",
        "    \"\"\"Generates tfrecords from generated tsv files\"\"\"\n",
        "    processor = TextClassificationProcessor(labels)\n",
        "    # save label mapping\n",
        "    processor.save_label_mapping(dataset_dir)\n",
        "    # get tokenizer\n",
        "    tokenizer = get_tokenizer(args.model_class)\n",
        "    processor_text_fn = tokenization.convert_to_unicode\n",
        "    # generate tfrecords\n",
        "    input_dir = os.path.join(dataset_dir, 'preprocessed')\n",
        "    output_dir = os.path.join(dataset_dir, 'tfrecords')\n",
        "    if not os.path.isdir(output_dir):\n",
        "        os.makedirs(output_dir)\n",
        "    input_meta_data = generate_tf_record_from_data_file(\n",
        "        processor,\n",
        "        input_dir,\n",
        "        tokenizer,\n",
        "        train_data_output_path=os.path.join(output_dir, 'train.tfrecords'),\n",
        "        eval_data_output_path=os.path.join(output_dir, 'dev.tfrecords'),\n",
        "        max_seq_length=args.max_seq_length)\n",
        "    with tf.io.gfile.GFile(os.path.join(dataset_dir, 'meta.json'), 'w') as writer:\n",
        "        writer.write(json.dumps(input_meta_data, indent=4) + '\\n')\n",
        "    logger.info(f'Sucessfully wrote tfrecord files to {output_dir}')\n"
      ],
      "execution_count": 51,
      "outputs": []
    },
    {
      "cell_type": "code",
      "metadata": {
        "id": "4JKLkU0AUW8N"
      },
      "source": [
        "class TextClassificationProcessor(DataProcessor):\n",
        "    \"\"\"Processor for arbitrary text classification data\"\"\"\n",
        "\n",
        "    def __init__(self, labels):\n",
        "        self.labels = labels\n",
        "\n",
        "    def save_label_mapping(self, data_dir):\n",
        "        with open(os.path.join(data_dir, 'label_mapping.json'), 'w') as f:\n",
        "            json.dump(self.labels, f)\n",
        "\n",
        "    def get_examples(self, data_dir, _type):\n",
        "        f_path = os.path.join(data_dir, f'{_type}.tsv')\n",
        "        lines = self._read_tsv(f_path)\n",
        "        return self._create_examples(lines, _type)\n",
        "\n",
        "    def get_train_examples(self, data_dir):\n",
        "        return self.get_examples(data_dir, 'train')\n",
        "\n",
        "    def get_dev_examples(self, data_dir):\n",
        "        return self.get_examples(data_dir, 'dev')\n",
        "\n",
        "    def get_test_examples(self, data_dir):\n",
        "        return self.get_examples(data_dir, 'test')\n",
        "\n",
        "    def get_labels(self):\n",
        "        return self.labels\n",
        "\n",
        "    @staticmethod\n",
        "    def get_processor_name():\n",
        "        return 'text-classification'\n",
        "\n",
        "    def _create_examples(self, lines, set_type):\n",
        "        \"\"\"Creates examples for the training and dev sets.\"\"\"\n",
        "        examples = []\n",
        "        for i, line in enumerate(lines):\n",
        "            guid = f'{set_type}-{i}'\n",
        "            text_a = tokenization.convert_to_unicode(line[REQUIRED_COLUMNS.index('text')])\n",
        "            if set_type == 'test':\n",
        "                label = '0'\n",
        "            else:\n",
        "                label = tokenization.convert_to_unicode(line[REQUIRED_COLUMNS.index('label')])\n",
        "            examples.append(InputExample(guid=guid, text_a=text_a, text_b=None, label=label))\n",
        "        return examples"
      ],
      "execution_count": 52,
      "outputs": []
    },
    {
      "cell_type": "code",
      "metadata": {
        "colab": {
          "base_uri": "https://localhost:8080/"
        },
        "id": "jMoerABVlkqx",
        "outputId": "d2efd094-9c0d-4f6a-81dc-f42c8650a7f5"
      },
      "source": [
        "# only works when changing line 462 in \n",
        "# official.nlp.data.classifier_data_lib.py to  \n",
        "# label_id = label_map[int(example.label)]\n",
        "\n",
        "\n",
        "# bert uses wordpiece token which explains why surfboard is tokenised as surf ##board\n",
        "# https://towardsdatascience.com/how-to-build-a-wordpiece-tokenizer-for-bert-f505d97dddbb\n",
        "or dataset in finetune_datasets:\n",
        "    logger.info(f'Processing dataset {dataset}...')\n",
        "    preprocessed_folder = os.path.join(run_dir, dataset, 'preprocessed')\n",
        "    if not os.path.isdir(preprocessed_folder):\n",
        "        os.makedirs(preprocessed_folder)\n",
        "    labels = set()\n",
        "    for _type in ['train', 'dev']:\n",
        "        f_name = f'{_type}.tsv'\n",
        "        logger.info(f'Reading data for for type {_type}...')\n",
        "        f_path = os.path.join(originals_dir, dataset, f_name)\n",
        "        if not os.path.isfile(f_path):\n",
        "            logger.info(f'Could not find file {f_path}. Skipping.')\n",
        "            continue\n",
        "        df = pd.read_csv(f_path, usecols=REQUIRED_COLUMNS, sep='\\t')\n",
        "        logger.info('Creating preprocessed files...')\n",
        "        df.loc[:, 'text'] = df.text.apply(preprocess_bert, args=(args, do_lower_case))\n",
        "        df.to_csv(os.path.join(preprocessed_folder, f_name), columns=REQUIRED_COLUMNS, header=False, index=False, sep='\\t')\n",
        "        # add labels\n",
        "        labels.update(df.label.unique().tolist())\n",
        "    logger.info('Creating tfrecords files...')\n",
        "    # we sort the labels alphabetically in order to maintain consistent label ids\n",
        "    labels = sorted(list(labels))\n",
        "    dataset_dir = os.path.join(run_dir, dataset)\n",
        "    generate_tfrecords(args, dataset_dir, labels)"
      ],
      "execution_count": 53,
      "outputs": [
        {
          "output_type": "stream",
          "name": "stderr",
          "text": [
            "2021-11-18 15:25:07,820 [INFO ] [__main__    ]: Processing dataset crowdbreaks...\n",
            "2021-11-18 15:25:07,823 [INFO ] [__main__    ]: Reading data for for type train...\n",
            "2021-11-18 15:25:07,841 [INFO ] [__main__    ]: Creating preprocessed files...\n",
            "/usr/local/lib/python3.7/dist-packages/ipykernel_launcher.py:12: DeprecationWarning: The unescape method is deprecated and will be removed in 3.5, use html.unescape() instead.\n",
            "  if sys.path[0] == '':\n",
            "2021-11-18 15:25:09,830 [INFO ] [__main__    ]: Reading data for for type dev...\n",
            "2021-11-18 15:25:09,838 [INFO ] [__main__    ]: Creating preprocessed files...\n",
            "2021-11-18 15:25:10,455 [INFO ] [__main__    ]: Creating tfrecords files...\n",
            "2021-11-18 15:25:10,575 [INFO ] [absl        ]: Writing example 0 of 2041\n",
            "2021-11-18 15:25:10,580 [INFO ] [absl        ]: *** Example ***\n",
            "2021-11-18 15:25:10,582 [INFO ] [absl        ]: guid: train-0\n",
            "2021-11-18 15:25:10,588 [INFO ] [absl        ]: tokens: [CLS] arizona classrooms vulnerable to me ##as ##les outbreak : the arizona department of health services looked at herd . . . twitter ##ur ##l [SEP]\n",
            "2021-11-18 15:25:10,589 [INFO ] [absl        ]: input_ids: 101 5334 12463 8211 2000 2033 3022 4244 8293 1024 1996 5334 2533 1997 2740 2578 2246 2012 14906 1012 1012 1012 10474 3126 2140 102 0 0 0 0 0 0 0 0 0 0 0 0 0 0 0 0 0 0 0 0 0 0 0 0 0 0 0 0 0 0 0 0 0 0 0 0 0 0 0 0 0 0 0 0 0 0 0 0 0 0 0 0 0 0 0 0 0 0 0 0 0 0 0 0 0 0 0 0 0 0\n",
            "2021-11-18 15:25:10,591 [INFO ] [absl        ]: input_mask: 1 1 1 1 1 1 1 1 1 1 1 1 1 1 1 1 1 1 1 1 1 1 1 1 1 1 0 0 0 0 0 0 0 0 0 0 0 0 0 0 0 0 0 0 0 0 0 0 0 0 0 0 0 0 0 0 0 0 0 0 0 0 0 0 0 0 0 0 0 0 0 0 0 0 0 0 0 0 0 0 0 0 0 0 0 0 0 0 0 0 0 0 0 0 0 0\n",
            "2021-11-18 15:25:10,593 [INFO ] [absl        ]: segment_ids: 0 0 0 0 0 0 0 0 0 0 0 0 0 0 0 0 0 0 0 0 0 0 0 0 0 0 0 0 0 0 0 0 0 0 0 0 0 0 0 0 0 0 0 0 0 0 0 0 0 0 0 0 0 0 0 0 0 0 0 0 0 0 0 0 0 0 0 0 0 0 0 0 0 0 0 0 0 0 0 0 0 0 0 0 0 0 0 0 0 0 0 0 0 0 0 0\n",
            "2021-11-18 15:25:10,595 [INFO ] [absl        ]: label: 0 (id = 1)\n",
            "2021-11-18 15:25:10,598 [INFO ] [absl        ]: *** Example ***\n",
            "2021-11-18 15:25:10,601 [INFO ] [absl        ]: guid: train-1\n",
            "2021-11-18 15:25:10,604 [INFO ] [absl        ]: tokens: [CLS] about to shower & get ready early , i need to fa ##x some stuff to my doctor so they an fa ##x my im ##mun ##ization to my school [SEP]\n",
            "2021-11-18 15:25:10,608 [INFO ] [absl        ]: input_ids: 101 2055 2000 6457 1004 2131 3201 2220 1010 1045 2342 2000 6904 2595 2070 4933 2000 2026 3460 2061 2027 2019 6904 2595 2026 10047 23041 3989 2000 2026 2082 102 0 0 0 0 0 0 0 0 0 0 0 0 0 0 0 0 0 0 0 0 0 0 0 0 0 0 0 0 0 0 0 0 0 0 0 0 0 0 0 0 0 0 0 0 0 0 0 0 0 0 0 0 0 0 0 0 0 0 0 0 0 0 0 0\n",
            "2021-11-18 15:25:10,610 [INFO ] [absl        ]: input_mask: 1 1 1 1 1 1 1 1 1 1 1 1 1 1 1 1 1 1 1 1 1 1 1 1 1 1 1 1 1 1 1 1 0 0 0 0 0 0 0 0 0 0 0 0 0 0 0 0 0 0 0 0 0 0 0 0 0 0 0 0 0 0 0 0 0 0 0 0 0 0 0 0 0 0 0 0 0 0 0 0 0 0 0 0 0 0 0 0 0 0 0 0 0 0 0 0\n",
            "2021-11-18 15:25:10,613 [INFO ] [absl        ]: segment_ids: 0 0 0 0 0 0 0 0 0 0 0 0 0 0 0 0 0 0 0 0 0 0 0 0 0 0 0 0 0 0 0 0 0 0 0 0 0 0 0 0 0 0 0 0 0 0 0 0 0 0 0 0 0 0 0 0 0 0 0 0 0 0 0 0 0 0 0 0 0 0 0 0 0 0 0 0 0 0 0 0 0 0 0 0 0 0 0 0 0 0 0 0 0 0 0 0\n",
            "2021-11-18 15:25:10,617 [INFO ] [absl        ]: label: 1 (id = 2)\n",
            "2021-11-18 15:25:10,620 [INFO ] [absl        ]: *** Example ***\n",
            "2021-11-18 15:25:10,621 [INFO ] [absl        ]: guid: train-2\n",
            "2021-11-18 15:25:10,625 [INFO ] [absl        ]: tokens: [CLS] i will never have kids . $ 350 for va ##cci ##nation ##s and check - ups . only jack and andy are worth it . # dog ##mo ##m # broke [SEP]\n",
            "2021-11-18 15:25:10,626 [INFO ] [absl        ]: input_ids: 101 1045 2097 2196 2031 4268 1012 1002 8698 2005 12436 14693 9323 2015 1998 4638 1011 11139 1012 2069 2990 1998 5557 2024 4276 2009 1012 1001 3899 5302 2213 1001 3631 102 0 0 0 0 0 0 0 0 0 0 0 0 0 0 0 0 0 0 0 0 0 0 0 0 0 0 0 0 0 0 0 0 0 0 0 0 0 0 0 0 0 0 0 0 0 0 0 0 0 0 0 0 0 0 0 0 0 0 0 0 0 0\n",
            "2021-11-18 15:25:10,628 [INFO ] [absl        ]: input_mask: 1 1 1 1 1 1 1 1 1 1 1 1 1 1 1 1 1 1 1 1 1 1 1 1 1 1 1 1 1 1 1 1 1 1 0 0 0 0 0 0 0 0 0 0 0 0 0 0 0 0 0 0 0 0 0 0 0 0 0 0 0 0 0 0 0 0 0 0 0 0 0 0 0 0 0 0 0 0 0 0 0 0 0 0 0 0 0 0 0 0 0 0 0 0 0 0\n",
            "2021-11-18 15:25:10,630 [INFO ] [absl        ]: segment_ids: 0 0 0 0 0 0 0 0 0 0 0 0 0 0 0 0 0 0 0 0 0 0 0 0 0 0 0 0 0 0 0 0 0 0 0 0 0 0 0 0 0 0 0 0 0 0 0 0 0 0 0 0 0 0 0 0 0 0 0 0 0 0 0 0 0 0 0 0 0 0 0 0 0 0 0 0 0 0 0 0 0 0 0 0 0 0 0 0 0 0 0 0 0 0 0 0\n",
            "2021-11-18 15:25:10,631 [INFO ] [absl        ]: label: 1 (id = 2)\n",
            "2021-11-18 15:25:10,635 [INFO ] [absl        ]: *** Example ***\n",
            "2021-11-18 15:25:10,636 [INFO ] [absl        ]: guid: train-3\n",
            "2021-11-18 15:25:10,637 [INFO ] [absl        ]: tokens: [CLS] me ##as ##les outbreak includes 5 disney theme park employees twitter ##ur ##l [SEP]\n",
            "2021-11-18 15:25:10,639 [INFO ] [absl        ]: input_ids: 101 2033 3022 4244 8293 2950 1019 6373 4323 2380 5126 10474 3126 2140 102 0 0 0 0 0 0 0 0 0 0 0 0 0 0 0 0 0 0 0 0 0 0 0 0 0 0 0 0 0 0 0 0 0 0 0 0 0 0 0 0 0 0 0 0 0 0 0 0 0 0 0 0 0 0 0 0 0 0 0 0 0 0 0 0 0 0 0 0 0 0 0 0 0 0 0 0 0 0 0 0 0\n",
            "2021-11-18 15:25:10,642 [INFO ] [absl        ]: input_mask: 1 1 1 1 1 1 1 1 1 1 1 1 1 1 1 0 0 0 0 0 0 0 0 0 0 0 0 0 0 0 0 0 0 0 0 0 0 0 0 0 0 0 0 0 0 0 0 0 0 0 0 0 0 0 0 0 0 0 0 0 0 0 0 0 0 0 0 0 0 0 0 0 0 0 0 0 0 0 0 0 0 0 0 0 0 0 0 0 0 0 0 0 0 0 0 0\n",
            "2021-11-18 15:25:10,643 [INFO ] [absl        ]: segment_ids: 0 0 0 0 0 0 0 0 0 0 0 0 0 0 0 0 0 0 0 0 0 0 0 0 0 0 0 0 0 0 0 0 0 0 0 0 0 0 0 0 0 0 0 0 0 0 0 0 0 0 0 0 0 0 0 0 0 0 0 0 0 0 0 0 0 0 0 0 0 0 0 0 0 0 0 0 0 0 0 0 0 0 0 0 0 0 0 0 0 0 0 0 0 0 0 0\n",
            "2021-11-18 15:25:10,646 [INFO ] [absl        ]: label: 0 (id = 1)\n",
            "2021-11-18 15:25:10,648 [INFO ] [absl        ]: *** Example ***\n",
            "2021-11-18 15:25:10,650 [INFO ] [absl        ]: guid: train-4\n",
            "2021-11-18 15:25:10,651 [INFO ] [absl        ]: tokens: [CLS] via twitter ##user : australia to stop payments to families who refuse child va ##cci ##nation ##s twitter ##ur ##l [SEP]\n",
            "2021-11-18 15:25:10,654 [INFO ] [absl        ]: input_ids: 101 3081 10474 20330 1024 2660 2000 2644 10504 2000 2945 2040 10214 2775 12436 14693 9323 2015 10474 3126 2140 102 0 0 0 0 0 0 0 0 0 0 0 0 0 0 0 0 0 0 0 0 0 0 0 0 0 0 0 0 0 0 0 0 0 0 0 0 0 0 0 0 0 0 0 0 0 0 0 0 0 0 0 0 0 0 0 0 0 0 0 0 0 0 0 0 0 0 0 0 0 0 0 0 0 0\n",
            "2021-11-18 15:25:10,655 [INFO ] [absl        ]: input_mask: 1 1 1 1 1 1 1 1 1 1 1 1 1 1 1 1 1 1 1 1 1 1 0 0 0 0 0 0 0 0 0 0 0 0 0 0 0 0 0 0 0 0 0 0 0 0 0 0 0 0 0 0 0 0 0 0 0 0 0 0 0 0 0 0 0 0 0 0 0 0 0 0 0 0 0 0 0 0 0 0 0 0 0 0 0 0 0 0 0 0 0 0 0 0 0 0\n",
            "2021-11-18 15:25:10,658 [INFO ] [absl        ]: segment_ids: 0 0 0 0 0 0 0 0 0 0 0 0 0 0 0 0 0 0 0 0 0 0 0 0 0 0 0 0 0 0 0 0 0 0 0 0 0 0 0 0 0 0 0 0 0 0 0 0 0 0 0 0 0 0 0 0 0 0 0 0 0 0 0 0 0 0 0 0 0 0 0 0 0 0 0 0 0 0 0 0 0 0 0 0 0 0 0 0 0 0 0 0 0 0 0 0\n",
            "2021-11-18 15:25:10,659 [INFO ] [absl        ]: label: 0 (id = 1)\n",
            "2021-11-18 15:25:11,900 [INFO ] [absl        ]: Writing example 0 of 680\n",
            "2021-11-18 15:25:11,902 [INFO ] [absl        ]: *** Example ***\n",
            "2021-11-18 15:25:11,908 [INFO ] [absl        ]: guid: dev-0\n",
            "2021-11-18 15:25:11,911 [INFO ] [absl        ]: tokens: [CLS] flu shot , got . # va ##cci ##nated # flush ##ot # disease ##pre ##vent ##ion # vaccines ##work # flu ##zone # target . . . twitter ##ur ##l [SEP]\n",
            "2021-11-18 15:25:11,912 [INFO ] [absl        ]: input_ids: 101 19857 2915 1010 2288 1012 1001 12436 14693 23854 1001 13862 4140 1001 4295 28139 15338 3258 1001 28896 6198 1001 19857 15975 1001 4539 1012 1012 1012 10474 3126 2140 102 0 0 0 0 0 0 0 0 0 0 0 0 0 0 0 0 0 0 0 0 0 0 0 0 0 0 0 0 0 0 0 0 0 0 0 0 0 0 0 0 0 0 0 0 0 0 0 0 0 0 0 0 0 0 0 0 0 0 0 0 0 0 0\n",
            "2021-11-18 15:25:11,914 [INFO ] [absl        ]: input_mask: 1 1 1 1 1 1 1 1 1 1 1 1 1 1 1 1 1 1 1 1 1 1 1 1 1 1 1 1 1 1 1 1 1 0 0 0 0 0 0 0 0 0 0 0 0 0 0 0 0 0 0 0 0 0 0 0 0 0 0 0 0 0 0 0 0 0 0 0 0 0 0 0 0 0 0 0 0 0 0 0 0 0 0 0 0 0 0 0 0 0 0 0 0 0 0 0\n",
            "2021-11-18 15:25:11,915 [INFO ] [absl        ]: segment_ids: 0 0 0 0 0 0 0 0 0 0 0 0 0 0 0 0 0 0 0 0 0 0 0 0 0 0 0 0 0 0 0 0 0 0 0 0 0 0 0 0 0 0 0 0 0 0 0 0 0 0 0 0 0 0 0 0 0 0 0 0 0 0 0 0 0 0 0 0 0 0 0 0 0 0 0 0 0 0 0 0 0 0 0 0 0 0 0 0 0 0 0 0 0 0 0 0\n",
            "2021-11-18 15:25:11,917 [INFO ] [absl        ]: label: 1 (id = 2)\n",
            "2021-11-18 15:25:11,919 [INFO ] [absl        ]: *** Example ***\n",
            "2021-11-18 15:25:11,920 [INFO ] [absl        ]: guid: dev-1\n",
            "2021-11-18 15:25:11,921 [INFO ] [absl        ]: tokens: [CLS] idiots . twitter ##user : texas me ##as ##les outbreak traced to anti - vaccine mega ##church . twitter ##ur ##l [SEP]\n",
            "2021-11-18 15:25:11,922 [INFO ] [absl        ]: input_ids: 101 28781 1012 10474 20330 1024 3146 2033 3022 4244 8293 9551 2000 3424 1011 17404 13164 22743 1012 10474 3126 2140 102 0 0 0 0 0 0 0 0 0 0 0 0 0 0 0 0 0 0 0 0 0 0 0 0 0 0 0 0 0 0 0 0 0 0 0 0 0 0 0 0 0 0 0 0 0 0 0 0 0 0 0 0 0 0 0 0 0 0 0 0 0 0 0 0 0 0 0 0 0 0 0 0 0\n",
            "2021-11-18 15:25:11,924 [INFO ] [absl        ]: input_mask: 1 1 1 1 1 1 1 1 1 1 1 1 1 1 1 1 1 1 1 1 1 1 1 0 0 0 0 0 0 0 0 0 0 0 0 0 0 0 0 0 0 0 0 0 0 0 0 0 0 0 0 0 0 0 0 0 0 0 0 0 0 0 0 0 0 0 0 0 0 0 0 0 0 0 0 0 0 0 0 0 0 0 0 0 0 0 0 0 0 0 0 0 0 0 0 0\n",
            "2021-11-18 15:25:11,925 [INFO ] [absl        ]: segment_ids: 0 0 0 0 0 0 0 0 0 0 0 0 0 0 0 0 0 0 0 0 0 0 0 0 0 0 0 0 0 0 0 0 0 0 0 0 0 0 0 0 0 0 0 0 0 0 0 0 0 0 0 0 0 0 0 0 0 0 0 0 0 0 0 0 0 0 0 0 0 0 0 0 0 0 0 0 0 0 0 0 0 0 0 0 0 0 0 0 0 0 0 0 0 0 0 0\n",
            "2021-11-18 15:25:11,926 [INFO ] [absl        ]: label: 1 (id = 2)\n",
            "2021-11-18 15:25:11,929 [INFO ] [absl        ]: *** Example ***\n",
            "2021-11-18 15:25:11,930 [INFO ] [absl        ]: guid: dev-2\n",
            "2021-11-18 15:25:11,931 [INFO ] [absl        ]: tokens: [CLS] at the vet my baby is getting a va ##cci ##nation aw ##w ##w ##w ##w poor baby : - ( [SEP]\n",
            "2021-11-18 15:25:11,932 [INFO ] [absl        ]: input_ids: 101 2012 1996 29525 2026 3336 2003 2893 1037 12436 14693 9323 22091 2860 2860 2860 2860 3532 3336 1024 1011 1006 102 0 0 0 0 0 0 0 0 0 0 0 0 0 0 0 0 0 0 0 0 0 0 0 0 0 0 0 0 0 0 0 0 0 0 0 0 0 0 0 0 0 0 0 0 0 0 0 0 0 0 0 0 0 0 0 0 0 0 0 0 0 0 0 0 0 0 0 0 0 0 0 0 0\n",
            "2021-11-18 15:25:11,933 [INFO ] [absl        ]: input_mask: 1 1 1 1 1 1 1 1 1 1 1 1 1 1 1 1 1 1 1 1 1 1 1 0 0 0 0 0 0 0 0 0 0 0 0 0 0 0 0 0 0 0 0 0 0 0 0 0 0 0 0 0 0 0 0 0 0 0 0 0 0 0 0 0 0 0 0 0 0 0 0 0 0 0 0 0 0 0 0 0 0 0 0 0 0 0 0 0 0 0 0 0 0 0 0 0\n",
            "2021-11-18 15:25:11,935 [INFO ] [absl        ]: segment_ids: 0 0 0 0 0 0 0 0 0 0 0 0 0 0 0 0 0 0 0 0 0 0 0 0 0 0 0 0 0 0 0 0 0 0 0 0 0 0 0 0 0 0 0 0 0 0 0 0 0 0 0 0 0 0 0 0 0 0 0 0 0 0 0 0 0 0 0 0 0 0 0 0 0 0 0 0 0 0 0 0 0 0 0 0 0 0 0 0 0 0 0 0 0 0 0 0\n",
            "2021-11-18 15:25:11,936 [INFO ] [absl        ]: label: 1 (id = 2)\n",
            "2021-11-18 15:25:11,938 [INFO ] [absl        ]: *** Example ***\n",
            "2021-11-18 15:25:11,939 [INFO ] [absl        ]: guid: dev-3\n",
            "2021-11-18 15:25:11,941 [INFO ] [absl        ]: tokens: [CLS] \" today in journalism my professor said friend ' s daughter got va ##cci ##nated , took a nap , woke , \" \" was never the same ; \" \" later diagnosed with autism \" [SEP]\n",
            "2021-11-18 15:25:11,942 [INFO ] [absl        ]: input_ids: 101 1000 2651 1999 8083 2026 2934 2056 2767 1005 1055 2684 2288 12436 14693 23854 1010 2165 1037 18996 1010 8271 1010 1000 1000 2001 2196 1996 2168 1025 1000 1000 2101 11441 2007 19465 1000 102 0 0 0 0 0 0 0 0 0 0 0 0 0 0 0 0 0 0 0 0 0 0 0 0 0 0 0 0 0 0 0 0 0 0 0 0 0 0 0 0 0 0 0 0 0 0 0 0 0 0 0 0 0 0 0 0 0 0\n",
            "2021-11-18 15:25:11,943 [INFO ] [absl        ]: input_mask: 1 1 1 1 1 1 1 1 1 1 1 1 1 1 1 1 1 1 1 1 1 1 1 1 1 1 1 1 1 1 1 1 1 1 1 1 1 1 0 0 0 0 0 0 0 0 0 0 0 0 0 0 0 0 0 0 0 0 0 0 0 0 0 0 0 0 0 0 0 0 0 0 0 0 0 0 0 0 0 0 0 0 0 0 0 0 0 0 0 0 0 0 0 0 0 0\n",
            "2021-11-18 15:25:11,944 [INFO ] [absl        ]: segment_ids: 0 0 0 0 0 0 0 0 0 0 0 0 0 0 0 0 0 0 0 0 0 0 0 0 0 0 0 0 0 0 0 0 0 0 0 0 0 0 0 0 0 0 0 0 0 0 0 0 0 0 0 0 0 0 0 0 0 0 0 0 0 0 0 0 0 0 0 0 0 0 0 0 0 0 0 0 0 0 0 0 0 0 0 0 0 0 0 0 0 0 0 0 0 0 0 0\n",
            "2021-11-18 15:25:11,945 [INFO ] [absl        ]: label: -1 (id = 0)\n",
            "2021-11-18 15:25:11,947 [INFO ] [absl        ]: *** Example ***\n",
            "2021-11-18 15:25:11,949 [INFO ] [absl        ]: guid: dev-4\n",
            "2021-11-18 15:25:11,950 [INFO ] [absl        ]: tokens: [CLS] twitter ##user and children getting va ##cci ##nated still risk side effects and death . [SEP]\n",
            "2021-11-18 15:25:11,951 [INFO ] [absl        ]: input_ids: 101 10474 20330 1998 2336 2893 12436 14693 23854 2145 3891 2217 3896 1998 2331 1012 102 0 0 0 0 0 0 0 0 0 0 0 0 0 0 0 0 0 0 0 0 0 0 0 0 0 0 0 0 0 0 0 0 0 0 0 0 0 0 0 0 0 0 0 0 0 0 0 0 0 0 0 0 0 0 0 0 0 0 0 0 0 0 0 0 0 0 0 0 0 0 0 0 0 0 0 0 0 0 0\n",
            "2021-11-18 15:25:11,952 [INFO ] [absl        ]: input_mask: 1 1 1 1 1 1 1 1 1 1 1 1 1 1 1 1 1 0 0 0 0 0 0 0 0 0 0 0 0 0 0 0 0 0 0 0 0 0 0 0 0 0 0 0 0 0 0 0 0 0 0 0 0 0 0 0 0 0 0 0 0 0 0 0 0 0 0 0 0 0 0 0 0 0 0 0 0 0 0 0 0 0 0 0 0 0 0 0 0 0 0 0 0 0 0 0\n",
            "2021-11-18 15:25:11,954 [INFO ] [absl        ]: segment_ids: 0 0 0 0 0 0 0 0 0 0 0 0 0 0 0 0 0 0 0 0 0 0 0 0 0 0 0 0 0 0 0 0 0 0 0 0 0 0 0 0 0 0 0 0 0 0 0 0 0 0 0 0 0 0 0 0 0 0 0 0 0 0 0 0 0 0 0 0 0 0 0 0 0 0 0 0 0 0 0 0 0 0 0 0 0 0 0 0 0 0 0 0 0 0 0 0\n",
            "2021-11-18 15:25:11,955 [INFO ] [absl        ]: label: -1 (id = 0)\n",
            "2021-11-18 15:25:12,420 [INFO ] [__main__    ]: Sucessfully wrote tfrecord files to covid-twitter-bert/data/finetune/run_2021-11-18_15-24-57_560898_test_run/crowdbreaks/tfrecords\n"
          ]
        }
      ]
    },
    {
      "cell_type": "code",
      "metadata": {
        "id": "XVaZxFCgqlVn"
      },
      "source": [
        "\n",
        "class JSONEncoder(json.JSONEncoder):\n",
        "    def default(self, obj):\n",
        "        if isinstance(obj, np.integer):\n",
        "            return int(obj)\n",
        "        elif isinstance(obj, np.floating):\n",
        "            return float(obj)\n",
        "        elif isinstance(obj, np.ndarray):\n",
        "            return obj.tolist()\n",
        "        else:\n",
        "            return super(MyEncoder, self).default(obj)"
      ],
      "execution_count": 59,
      "outputs": []
    },
    {
      "cell_type": "code",
      "metadata": {
        "id": "-3-df0FOqXYw"
      },
      "source": [
        "def save_to_json(data, f_name):\n",
        "    with tf.io.gfile.GFile(f_name, 'w') as writer:\n",
        "        writer.write(json.dumps(data, cls=JSONEncoder, indent=4))"
      ],
      "execution_count": 60,
      "outputs": []
    },
    {
      "cell_type": "code",
      "metadata": {
        "id": "Lj2Gr3x7T_8s",
        "outputId": "6bd80f67-4d07-4e02-aa66-ee4fb3b4015c",
        "colab": {
          "base_uri": "https://localhost:8080/"
        }
      },
      "source": [
        "f_path_config = os.path.join(run_dir, 'create_finetune_config.json')\n",
        "logger.info(f'Saving config to {f_path_config}')\n",
        "save_to_json(args, f_path_config)"
      ],
      "execution_count": 61,
      "outputs": [
        {
          "output_type": "stream",
          "name": "stderr",
          "text": [
            "2021-11-18 15:30:06,565 [INFO ] [__main__    ]: Saving config to covid-twitter-bert/data/finetune/run_2021-11-18_15-24-57_560898_test_run/create_finetune_config.json\n"
          ]
        }
      ]
    },
    {
      "cell_type": "markdown",
      "metadata": {
        "id": "pdCBaV7xsGSZ"
      },
      "source": [
        "## Training\n",
        "\n",
        "from https://github.com/digitalepidemiologylab/covid-twitter-bert/blob/c87912b409659f40018e839c4124be5ae2486713/run_finetune.py\n"
      ]
    },
    {
      "cell_type": "code",
      "metadata": {
        "id": "G897k5_7sO0b",
        "outputId": "38dd65b0-0813-4eae-dfe8-3809e398d3f5",
        "colab": {
          "base_uri": "https://localhost:8080/",
          "height": 382
        }
      },
      "source": [
        "%%shell\n",
        "python covid-twitter-bert/run_finetune.py"
      ],
      "execution_count": 70,
      "outputs": [
        {
          "output_type": "stream",
          "name": "stdout",
          "text": [
            "Traceback (most recent call last):\n",
            "  File \"covid-twitter-bert/run_finetune.py\", line 4, in <module>\n",
            "    from official.nlp.bert import bert_models\n",
            "ModuleNotFoundError: No module named 'official'\n"
          ]
        },
        {
          "output_type": "error",
          "ename": "CalledProcessError",
          "evalue": "ignored",
          "traceback": [
            "\u001b[0;31m---------------------------------------------------------------------------\u001b[0m",
            "\u001b[0;31mCalledProcessError\u001b[0m                        Traceback (most recent call last)",
            "\u001b[0;32m<ipython-input-70-494353e67adf>\u001b[0m in \u001b[0;36m<module>\u001b[0;34m()\u001b[0m\n\u001b[0;32m----> 1\u001b[0;31m \u001b[0mget_ipython\u001b[0m\u001b[0;34m(\u001b[0m\u001b[0;34m)\u001b[0m\u001b[0;34m.\u001b[0m\u001b[0mrun_cell_magic\u001b[0m\u001b[0;34m(\u001b[0m\u001b[0;34m'shell'\u001b[0m\u001b[0;34m,\u001b[0m \u001b[0;34m''\u001b[0m\u001b[0;34m,\u001b[0m \u001b[0;34m'python covid-twitter-bert/run_finetune.py'\u001b[0m\u001b[0;34m)\u001b[0m\u001b[0;34m\u001b[0m\u001b[0;34m\u001b[0m\u001b[0m\n\u001b[0m",
            "\u001b[0;32m/usr/local/lib/python3.7/dist-packages/IPython/core/interactiveshell.py\u001b[0m in \u001b[0;36mrun_cell_magic\u001b[0;34m(self, magic_name, line, cell)\u001b[0m\n\u001b[1;32m   2115\u001b[0m             \u001b[0mmagic_arg_s\u001b[0m \u001b[0;34m=\u001b[0m \u001b[0mself\u001b[0m\u001b[0;34m.\u001b[0m\u001b[0mvar_expand\u001b[0m\u001b[0;34m(\u001b[0m\u001b[0mline\u001b[0m\u001b[0;34m,\u001b[0m \u001b[0mstack_depth\u001b[0m\u001b[0;34m)\u001b[0m\u001b[0;34m\u001b[0m\u001b[0;34m\u001b[0m\u001b[0m\n\u001b[1;32m   2116\u001b[0m             \u001b[0;32mwith\u001b[0m \u001b[0mself\u001b[0m\u001b[0;34m.\u001b[0m\u001b[0mbuiltin_trap\u001b[0m\u001b[0;34m:\u001b[0m\u001b[0;34m\u001b[0m\u001b[0;34m\u001b[0m\u001b[0m\n\u001b[0;32m-> 2117\u001b[0;31m                 \u001b[0mresult\u001b[0m \u001b[0;34m=\u001b[0m \u001b[0mfn\u001b[0m\u001b[0;34m(\u001b[0m\u001b[0mmagic_arg_s\u001b[0m\u001b[0;34m,\u001b[0m \u001b[0mcell\u001b[0m\u001b[0;34m)\u001b[0m\u001b[0;34m\u001b[0m\u001b[0;34m\u001b[0m\u001b[0m\n\u001b[0m\u001b[1;32m   2118\u001b[0m             \u001b[0;32mreturn\u001b[0m \u001b[0mresult\u001b[0m\u001b[0;34m\u001b[0m\u001b[0;34m\u001b[0m\u001b[0m\n\u001b[1;32m   2119\u001b[0m \u001b[0;34m\u001b[0m\u001b[0m\n",
            "\u001b[0;32m/usr/local/lib/python3.7/dist-packages/google/colab/_system_commands.py\u001b[0m in \u001b[0;36m_shell_cell_magic\u001b[0;34m(args, cmd)\u001b[0m\n\u001b[1;32m    111\u001b[0m   \u001b[0mresult\u001b[0m \u001b[0;34m=\u001b[0m \u001b[0m_run_command\u001b[0m\u001b[0;34m(\u001b[0m\u001b[0mcmd\u001b[0m\u001b[0;34m,\u001b[0m \u001b[0mclear_streamed_output\u001b[0m\u001b[0;34m=\u001b[0m\u001b[0;32mFalse\u001b[0m\u001b[0;34m)\u001b[0m\u001b[0;34m\u001b[0m\u001b[0;34m\u001b[0m\u001b[0m\n\u001b[1;32m    112\u001b[0m   \u001b[0;32mif\u001b[0m \u001b[0;32mnot\u001b[0m \u001b[0mparsed_args\u001b[0m\u001b[0;34m.\u001b[0m\u001b[0mignore_errors\u001b[0m\u001b[0;34m:\u001b[0m\u001b[0;34m\u001b[0m\u001b[0;34m\u001b[0m\u001b[0m\n\u001b[0;32m--> 113\u001b[0;31m     \u001b[0mresult\u001b[0m\u001b[0;34m.\u001b[0m\u001b[0mcheck_returncode\u001b[0m\u001b[0;34m(\u001b[0m\u001b[0;34m)\u001b[0m\u001b[0;34m\u001b[0m\u001b[0;34m\u001b[0m\u001b[0m\n\u001b[0m\u001b[1;32m    114\u001b[0m   \u001b[0;32mreturn\u001b[0m \u001b[0mresult\u001b[0m\u001b[0;34m\u001b[0m\u001b[0;34m\u001b[0m\u001b[0m\n\u001b[1;32m    115\u001b[0m \u001b[0;34m\u001b[0m\u001b[0m\n",
            "\u001b[0;32m/usr/local/lib/python3.7/dist-packages/google/colab/_system_commands.py\u001b[0m in \u001b[0;36mcheck_returncode\u001b[0;34m(self)\u001b[0m\n\u001b[1;32m    137\u001b[0m     \u001b[0;32mif\u001b[0m \u001b[0mself\u001b[0m\u001b[0;34m.\u001b[0m\u001b[0mreturncode\u001b[0m\u001b[0;34m:\u001b[0m\u001b[0;34m\u001b[0m\u001b[0;34m\u001b[0m\u001b[0m\n\u001b[1;32m    138\u001b[0m       raise subprocess.CalledProcessError(\n\u001b[0;32m--> 139\u001b[0;31m           returncode=self.returncode, cmd=self.args, output=self.output)\n\u001b[0m\u001b[1;32m    140\u001b[0m \u001b[0;34m\u001b[0m\u001b[0m\n\u001b[1;32m    141\u001b[0m   \u001b[0;32mdef\u001b[0m \u001b[0m_repr_pretty_\u001b[0m\u001b[0;34m(\u001b[0m\u001b[0mself\u001b[0m\u001b[0;34m,\u001b[0m \u001b[0mp\u001b[0m\u001b[0;34m,\u001b[0m \u001b[0mcycle\u001b[0m\u001b[0;34m)\u001b[0m\u001b[0;34m:\u001b[0m  \u001b[0;31m# pylint:disable=unused-argument\u001b[0m\u001b[0;34m\u001b[0m\u001b[0;34m\u001b[0m\u001b[0m\n",
            "\u001b[0;31mCalledProcessError\u001b[0m: Command 'python covid-twitter-bert/run_finetune.py' returned non-zero exit status 1."
          ]
        }
      ]
    },
    {
      "cell_type": "code",
      "metadata": {
        "id": "QF2a13h_s8ur"
      },
      "source": [
        ""
      ],
      "execution_count": null,
      "outputs": []
    }
  ]
}