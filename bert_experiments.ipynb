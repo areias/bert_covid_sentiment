{
  "nbformat": 4,
  "nbformat_minor": 0,
  "metadata": {
    "colab": {
      "name": "bert_experiments.ipynb",
      "provenance": [],
      "collapsed_sections": [],
      "authorship_tag": "ABX9TyP+splxaZHfbMoqRhv+nNz4",
      "include_colab_link": true
    },
    "kernelspec": {
      "name": "python3",
      "display_name": "Python 3"
    },
    "language_info": {
      "name": "python"
    },
    "accelerator": "GPU"
  },
  "cells": [
    {
      "cell_type": "markdown",
      "metadata": {
        "id": "view-in-github",
        "colab_type": "text"
      },
      "source": [
        "<a href=\"https://colab.research.google.com/github/areias/bert_covid_sentiment/blob/main/bert_experiments.ipynb\" target=\"_parent\"><img src=\"https://colab.research.google.com/assets/colab-badge.svg\" alt=\"Open In Colab\"/></a>"
      ]
    },
    {
      "cell_type": "code",
      "metadata": {
        "id": "ylIpaWrFuJJQ"
      },
      "source": [
        "!pip install transformers"
      ],
      "execution_count": null,
      "outputs": []
    },
    {
      "cell_type": "code",
      "metadata": {
        "id": "WXGHQ4HUwEAt"
      },
      "source": [
        "from transformers import (\n",
        "   AutoConfig,\n",
        "   AutoTokenizer,\n",
        "   TFAutoModelForSequenceClassification,\n",
        "   AdamW,\n",
        "   glue_convert_examples_to_features\n",
        ")\n",
        "import tensorflow as tf\n",
        "import tensorflow_datasets as tfds\n",
        "import json"
      ],
      "execution_count": 2,
      "outputs": []
    },
    {
      "cell_type": "code",
      "metadata": {
        "id": "zxhnfxi3tw0_"
      },
      "source": [
        "import pandas as pd"
      ],
      "execution_count": 2,
      "outputs": []
    },
    {
      "cell_type": "code",
      "metadata": {
        "id": "-RMH5beNuEZv"
      },
      "source": [
        "df=pd.read_csv(\"train.csv\")"
      ],
      "execution_count": 3,
      "outputs": []
    },
    {
      "cell_type": "code",
      "metadata": {
        "colab": {
          "base_uri": "https://localhost:8080/",
          "height": 206
        },
        "id": "a89eqroYuG8S",
        "outputId": "a0f6d2e7-ba55-45d8-d41d-035452817931"
      },
      "source": [
        "df.head()"
      ],
      "execution_count": 4,
      "outputs": [
        {
          "output_type": "execute_result",
          "data": {
            "text/html": [
              "<div>\n",
              "<style scoped>\n",
              "    .dataframe tbody tr th:only-of-type {\n",
              "        vertical-align: middle;\n",
              "    }\n",
              "\n",
              "    .dataframe tbody tr th {\n",
              "        vertical-align: top;\n",
              "    }\n",
              "\n",
              "    .dataframe thead th {\n",
              "        text-align: right;\n",
              "    }\n",
              "</style>\n",
              "<table border=\"1\" class=\"dataframe\">\n",
              "  <thead>\n",
              "    <tr style=\"text-align: right;\">\n",
              "      <th></th>\n",
              "      <th>id</th>\n",
              "      <th>text</th>\n",
              "      <th>label</th>\n",
              "      <th>created_at</th>\n",
              "    </tr>\n",
              "  </thead>\n",
              "  <tbody>\n",
              "    <tr>\n",
              "      <th>0</th>\n",
              "      <td>564984221203431424</td>\n",
              "      <td>Disneyland is spreading measles 121 cases in 1...</td>\n",
              "      <td>1</td>\n",
              "      <td>2015-02-10 03:08:29+00:00</td>\n",
              "    </tr>\n",
              "    <tr>\n",
              "      <th>1</th>\n",
              "      <td>564984308096438272</td>\n",
              "      <td>California measles outbreak: 123 cases, latest...</td>\n",
              "      <td>0</td>\n",
              "      <td>2015-02-10 03:08:50+00:00</td>\n",
              "    </tr>\n",
              "    <tr>\n",
              "      <th>2</th>\n",
              "      <td>564985199700611072</td>\n",
              "      <td>Why isn't the news talking about how measles w...</td>\n",
              "      <td>1</td>\n",
              "      <td>2015-02-10 03:12:23+00:00</td>\n",
              "    </tr>\n",
              "    <tr>\n",
              "      <th>3</th>\n",
              "      <td>564985637321703425</td>\n",
              "      <td>No link to autism from vaccines, says expert: ...</td>\n",
              "      <td>1</td>\n",
              "      <td>2015-02-10 03:14:07+00:00</td>\n",
              "    </tr>\n",
              "    <tr>\n",
              "      <th>4</th>\n",
              "      <td>564986465822580736</td>\n",
              "      <td>We need a @VaccinatorX assembly at my kids' sc...</td>\n",
              "      <td>1</td>\n",
              "      <td>2015-02-10 03:17:25+00:00</td>\n",
              "    </tr>\n",
              "  </tbody>\n",
              "</table>\n",
              "</div>"
            ],
            "text/plain": [
              "                   id  ...                 created_at\n",
              "0  564984221203431424  ...  2015-02-10 03:08:29+00:00\n",
              "1  564984308096438272  ...  2015-02-10 03:08:50+00:00\n",
              "2  564985199700611072  ...  2015-02-10 03:12:23+00:00\n",
              "3  564985637321703425  ...  2015-02-10 03:14:07+00:00\n",
              "4  564986465822580736  ...  2015-02-10 03:17:25+00:00\n",
              "\n",
              "[5 rows x 4 columns]"
            ]
          },
          "metadata": {},
          "execution_count": 4
        }
      ]
    },
    {
      "cell_type": "code",
      "metadata": {
        "colab": {
          "base_uri": "https://localhost:8080/"
        },
        "id": "K93H640euHfR",
        "outputId": "d9d7d81d-10f5-4dc2-d494-5449d29b8dfa"
      },
      "source": [
        "df.label.value_counts()"
      ],
      "execution_count": 5,
      "outputs": [
        {
          "output_type": "execute_result",
          "data": {
            "text/plain": [
              " 1    4037\n",
              " 0    4029\n",
              "-1     934\n",
              "Name: label, dtype: int64"
            ]
          },
          "metadata": {},
          "execution_count": 5
        }
      ]
    },
    {
      "cell_type": "code",
      "metadata": {
        "id": "iLy0rz2j0Uzt"
      },
      "source": [
        "# id,label,text\n",
        "df=df.loc[:,[\"id\",\"label\", \"text\"]]"
      ],
      "execution_count": 6,
      "outputs": []
    },
    {
      "cell_type": "code",
      "metadata": {
        "id": "OIcZ0ecAzZKn"
      },
      "source": [
        "import numpy as np"
      ],
      "execution_count": 7,
      "outputs": []
    },
    {
      "cell_type": "code",
      "metadata": {
        "id": "P7MmMFSczvip"
      },
      "source": [
        "\"\"\"\n",
        "    60% - train set,\n",
        "    20% - dev/validation set,\n",
        "    20% - test set\"\"\"\n",
        "\n",
        "train, dev, test = np.split(df.sample(frac=1, random_state=42), \n",
        "                       [int(.6*len(df)), int(.8*len(df))])"
      ],
      "execution_count": 8,
      "outputs": []
    },
    {
      "cell_type": "code",
      "metadata": {
        "colab": {
          "base_uri": "https://localhost:8080/"
        },
        "id": "xE93swEZz_Hg",
        "outputId": "4c3e8ab1-1829-4b5d-ce97-9e19b92e5025"
      },
      "source": [
        "dev.info()"
      ],
      "execution_count": 9,
      "outputs": [
        {
          "output_type": "stream",
          "name": "stdout",
          "text": [
            "<class 'pandas.core.frame.DataFrame'>\n",
            "Int64Index: 1800 entries, 5743 to 7921\n",
            "Data columns (total 3 columns):\n",
            " #   Column  Non-Null Count  Dtype \n",
            "---  ------  --------------  ----- \n",
            " 0   id      1800 non-null   int64 \n",
            " 1   label   1800 non-null   int64 \n",
            " 2   text    1800 non-null   object\n",
            "dtypes: int64(2), object(1)\n",
            "memory usage: 56.2+ KB\n"
          ]
        }
      ]
    },
    {
      "cell_type": "code",
      "metadata": {
        "id": "iwff5Ccg93CQ"
      },
      "source": [
        "import os \n",
        "os.makedirs(\"data/finetune/originals/crowdbreaks\")"
      ],
      "execution_count": 15,
      "outputs": []
    },
    {
      "cell_type": "code",
      "metadata": {
        "id": "2WR4qUmU0LO8"
      },
      "source": [
        "train.to_csv(\"data/finetune/originals/crowdbreaks/train.tsv\", sep=\"\\t\",index=False)\n",
        "dev.to_csv(\"data/finetune/originals/crowdbreaks/dev.tsv\", sep=\"\\t\",index=False)\n",
        "test.to_csv(\"data/finetune/originals/crowdbreaks/test.tsv\", sep=\"\\t\",index=False)\n"
      ],
      "execution_count": 18,
      "outputs": []
    },
    {
      "cell_type": "code",
      "metadata": {
        "id": "CGURJhWTxbnh"
      },
      "source": [
        "# from https://github.com/digitalepidemiologylab/covid-twitter-bert/blob/master/preprocess/create_finetune_data.py"
      ],
      "execution_count": 19,
      "outputs": []
    },
    {
      "cell_type": "code",
      "metadata": {
        "id": "lz1lepVq3Cry"
      },
      "source": [
        "# args\n",
        "\"\"\"\n",
        "cd preprocess\n",
        "python create_finetune_data.py \\\n",
        "  --run_prefix test_run \\\n",
        "  --finetune_datasets <dataset_name> \\\n",
        "  --model_class bert_large_uncased_wwm \\\n",
        "  --max_seq_length 96 \\\n",
        "  --asciify_emojis \\\n",
        "  --username_filler twitteruser \\\n",
        "  --url_filler twitterurl \\\n",
        "  --replace_multiple_usernames \\\n",
        "  --replace_multiple_urls \\\n",
        "  --remove_unicode_symbols\"\n",
        "\"\"\"\n",
        "import collections\n",
        "from collections import namedtuple\n",
        "arguments = collections.namedtuple('args', ['run_prefix', 'finetune_datasets', 'model_class',\n",
        "                                            'max_seq_length' , 'asciify_emojis','username_filler', 'replace_urls',\n",
        "                                            'url_filler', 'replace_usernames','replace_multiple_usernames',\n",
        "                                            'replace_multiple_urls','remove_unicode_symbols','standardize_punctuation',\n",
        "                                            'remove_accented_characters'])\n"
      ],
      "execution_count": 160,
      "outputs": []
    },
    {
      "cell_type": "code",
      "metadata": {
        "id": "DAf_XQgYHPJM"
      },
      "source": [
        "args= arguments('test_run', [\"crowdbreaks\"], \"covid-twitter-bert-2\",\n",
        "                 96,True,\"twitteruser\",True,\n",
        "                \"twitterurl\",True, True,True,True,True,True)"
      ],
      "execution_count": 161,
      "outputs": []
    },
    {
      "cell_type": "code",
      "metadata": {
        "colab": {
          "base_uri": "https://localhost:8080/"
        },
        "id": "9yeHRO-_Hcyk",
        "outputId": "336004e6-0433-4c5d-cf88-0135d3582ef1"
      },
      "source": [
        "args"
      ],
      "execution_count": 128,
      "outputs": [
        {
          "output_type": "execute_result",
          "data": {
            "text/plain": [
              "args(run_prefix='test_run', finetune_datasets=['crowdbreaks'], model_class='covid-twitter-bert-2', max_seq_length=96, asciify_emojis=True, username_filler='twitteruser', replace_urls=True, url_filler='twitterurl', replace_usernames=True, replace_multiple_usernames=True, replace_multiple_urls=True, remove_unicode_symbols=True)"
            ]
          },
          "metadata": {},
          "execution_count": 128
        }
      ]
    },
    {
      "cell_type": "code",
      "metadata": {
        "id": "YFJx97gV7Ej3"
      },
      "source": [
        "REQUIRED_COLUMNS = ['id', 'label', 'text']\n",
        "DATA_DIR = os.path.join('data')\n",
        "VOCAB_PATH = os.path.join('vocabs')\n"
      ],
      "execution_count": 95,
      "outputs": []
    },
    {
      "cell_type": "code",
      "metadata": {
        "id": "VYKnOS8iwa18"
      },
      "source": [
        "import datetime\n",
        "def get_run_name(args):\n",
        "    # Use timestamp to generate a unique run name\n",
        "    ts = datetime.datetime.now().strftime('%Y-%m-%d_%H-%M-%S_%f')\n",
        "    if args.run_prefix:\n",
        "        run_name = f'run_{ts}_{args.run_prefix}'\n",
        "    else:\n",
        "        run_name = f'run_{ts}'\n",
        "    return run_name"
      ],
      "execution_count": 96,
      "outputs": []
    },
    {
      "cell_type": "code",
      "metadata": {
        "colab": {
          "base_uri": "https://localhost:8080/",
          "height": 35
        },
        "id": "QCH78nBC8DqB",
        "outputId": "d746c32e-b37a-4683-d226-92c16fd883ea"
      },
      "source": [
        "run_name = get_run_name(args)\n",
        "run_name"
      ],
      "execution_count": 97,
      "outputs": [
        {
          "output_type": "execute_result",
          "data": {
            "application/vnd.google.colaboratory.intrinsic+json": {
              "type": "string"
            },
            "text/plain": [
              "'run_2021-11-17_18-22-36_216853_test_run'"
            ]
          },
          "metadata": {},
          "execution_count": 97
        }
      ]
    },
    {
      "cell_type": "code",
      "metadata": {
        "colab": {
          "base_uri": "https://localhost:8080/",
          "height": 35
        },
        "id": "DHTAYs4_8Eo_",
        "outputId": "ffccac50-c799-4d71-edb3-51ec4103562a"
      },
      "source": [
        "run_dir = os.path.join(DATA_DIR, 'finetune', run_name)\n",
        "run_dir"
      ],
      "execution_count": 98,
      "outputs": [
        {
          "output_type": "execute_result",
          "data": {
            "application/vnd.google.colaboratory.intrinsic+json": {
              "type": "string"
            },
            "text/plain": [
              "'data/finetune/run_2021-11-17_18-22-36_216853_test_run'"
            ]
          },
          "metadata": {},
          "execution_count": 98
        }
      ]
    },
    {
      "cell_type": "code",
      "metadata": {
        "id": "M4ZxTT_g9GCE"
      },
      "source": [
        "if not os.path.isdir(run_dir):\n",
        "  os.makedirs(run_dir)"
      ],
      "execution_count": 99,
      "outputs": []
    },
    {
      "cell_type": "code",
      "metadata": {
        "colab": {
          "base_uri": "https://localhost:8080/",
          "height": 35
        },
        "id": "6KTfKzqF9KWD",
        "outputId": "0703599e-07af-4dea-8bb2-e8035c86b58e"
      },
      "source": [
        "# find input data\n",
        "originals_dir = os.path.join(DATA_DIR, 'finetune', 'originals')\n",
        "originals_dir   "
      ],
      "execution_count": 100,
      "outputs": [
        {
          "output_type": "execute_result",
          "data": {
            "application/vnd.google.colaboratory.intrinsic+json": {
              "type": "string"
            },
            "text/plain": [
              "'data/finetune/originals'"
            ]
          },
          "metadata": {},
          "execution_count": 100
        }
      ]
    },
    {
      "cell_type": "code",
      "metadata": {
        "colab": {
          "base_uri": "https://localhost:8080/"
        },
        "id": "7NvQczFf9UBB",
        "outputId": "64e8c77b-4fb3-4026-de7c-ed4b7b2562b9"
      },
      "source": [
        "if args.finetune_datasets is None or len(args.finetune_datasets) == 0:\n",
        "    finetune_datasets = os.listdir(originals_dir)\n",
        "else:\n",
        "    finetune_datasets = args.finetune_datasets\n",
        "finetune_datasets"
      ],
      "execution_count": 101,
      "outputs": [
        {
          "output_type": "execute_result",
          "data": {
            "text/plain": [
              "['crowdbreaks']"
            ]
          },
          "metadata": {},
          "execution_count": 101
        }
      ]
    },
    {
      "cell_type": "code",
      "metadata": {
        "id": "YFMpfHpc_O_F"
      },
      "source": [
        "# Pretrained models configuration, add model configuration here\n",
        "\n",
        "PRETRAINED_MODELS = {\n",
        "        'bert_large_uncased': {\n",
        "            'bucket_location': 'pretrained_models/bert/keras_bert/uncased_L-24_H-1024_A-16',\n",
        "            'hub_url': 'tensorflow/bert_en_uncased_L-24_H-1024_A-16/2',\n",
        "            'config': 'bert_config_large_uncased.json',\n",
        "            'is_tfhub_model': True,\n",
        "            'vocab_file': 'bert-large-uncased-vocab.txt',\n",
        "            'lower_case': True,\n",
        "            'do_whole_word_masking': False\n",
        "            },\n",
        "        'bert_multi_cased': {\n",
        "            'bucket_location': 'pretrained_models/bert/keras_bert/multi_cased_L-12_H-768_A-12',\n",
        "            'hub_url': 'tensorflow/bert_multi_cased_L-12_H-768_A-12/2',\n",
        "            'config': 'bert_config_multi_cased.json',\n",
        "            'is_tfhub_model': True,\n",
        "            'vocab_file': 'bert-multi-cased-vocab.txt',\n",
        "            'lower_case': False,\n",
        "            'do_whole_word_masking': False\n",
        "            },\n",
        "        'bert_large_uncased_wwm': {\n",
        "            'bucket_location': 'pretrained_models/bert/keras_bert/wwm_uncased_L-24_H-1024_A-16',\n",
        "            'hub_url': 'tensorflow/bert_en_wwm_uncased_L-24_H-1024_A-16/2',\n",
        "            'config': 'bert_config_large_uncased_wwm.json',\n",
        "            'is_tfhub_model': True,\n",
        "            'vocab_file': 'bert-large-uncased-whole-word-masking-vocab.txt',\n",
        "            'lower_case': True,\n",
        "            'do_whole_word_masking': True\n",
        "            },\n",
        "        'covid-twitter-bert': {\n",
        "            'hub_url': 'digitalepidemiologylab/covid-twitter-bert/1',\n",
        "            'is_tfhub_model': True,\n",
        "            'config': 'bert_config_covid_twitter_bert.json',\n",
        "            'vocab_file': 'bert-large-uncased-whole-word-masking-vocab.txt',\n",
        "            'lower_case': True,\n",
        "            'do_whole_word_masking': True\n",
        "            },\n",
        "        'covid-twitter-bert-2': {\n",
        "            'hub_url': 'digitalepidemiologylab/covid-twitter-bert/2',\n",
        "            'is_tfhub_model': True,\n",
        "            'config': 'bert_config_covid_twitter_bert.json',\n",
        "            'vocab_file': 'bert-large-uncased-whole-word-masking-vocab.txt',\n",
        "            'lower_case': True,\n",
        "            'do_whole_word_masking': True\n",
        "            }\n",
        "        }"
      ],
      "execution_count": 102,
      "outputs": []
    },
    {
      "cell_type": "code",
      "metadata": {
        "id": "LjjWFVOb_yIW"
      },
      "source": [
        "# https://tfhub.dev/digitalepidemiologylab/covid-twitter-bert/2\n",
        "\n",
        "\n"
      ],
      "execution_count": 103,
      "outputs": []
    },
    {
      "cell_type": "code",
      "metadata": {
        "colab": {
          "base_uri": "https://localhost:8080/"
        },
        "id": "vzdUiWRa9hXt",
        "outputId": "faeb4b08-b620-402d-8a3b-2ef9e29e7f9b"
      },
      "source": [
        "do_lower_case = PRETRAINED_MODELS[args.model_class]['lower_case']\n",
        "do_lower_case\n"
      ],
      "execution_count": 104,
      "outputs": [
        {
          "output_type": "execute_result",
          "data": {
            "text/plain": [
              "True"
            ]
          },
          "metadata": {},
          "execution_count": 104
        }
      ]
    },
    {
      "cell_type": "code",
      "metadata": {
        "colab": {
          "base_uri": "https://localhost:8080/"
        },
        "id": "A9Ijr6_--2lJ",
        "outputId": "fe725b7a-40fd-49fe-eefb-12bf7e95cf45"
      },
      "source": [
        "import logging\n",
        "logger = logging.getLogger(__name__)\n",
        "logging.basicConfig(level=logging.INFO, format='%(asctime)s [%(levelname)-5.5s] [%(name)-12.12s]: %(message)s')\n",
        "\n",
        "for dataset in finetune_datasets:\n",
        "      logger.info(f'Processing dataset {dataset}...')\n",
        "      preprocessed_folder = os.path.join(run_dir, dataset, 'preprocessed')\n",
        "      if not os.path.isdir(preprocessed_folder):\n",
        "          os.makedirs(preprocessed_folder)\n"
      ],
      "execution_count": 105,
      "outputs": [
        {
          "output_type": "stream",
          "name": "stderr",
          "text": [
            "2021-11-17 18:22:45,359 [INFO ] [__main__    ]: Processing dataset crowdbreaks...\n"
          ]
        }
      ]
    },
    {
      "cell_type": "code",
      "metadata": {
        "id": "GTiP_gbIE4Mx"
      },
      "source": [
        "# compile regexes\n",
        "import re\n",
        "username_regex = re.compile(r'(^|[^@\\w])@(\\w{1,15})\\b')\n",
        "url_regex = re.compile(r'((www\\.[^\\s]+)|(https?://[^\\s]+)|(http?://[^\\s]+))')\n",
        "control_char_regex = re.compile(r'[\\r\\n\\t]+')\n",
        "# translate table for punctuation\n",
        "transl_table = dict([(ord(x), ord(y)) for x, y in zip(u\"‘’´“”–-\",  u\"'''\\\"\\\"--\")])\n",
        "# HTML parser\n",
        "html_parser = HTMLParser()"
      ],
      "execution_count": 106,
      "outputs": []
    },
    {
      "cell_type": "code",
      "metadata": {
        "id": "ApHemBTYEYfV"
      },
      "source": [
        "import unicodedata\n",
        "def standardize_text(text):\n",
        "    \"\"\"\n",
        "    1) Escape HTML\n",
        "    2) Replaces some non-standard punctuation with standard versions. \n",
        "    3) Replace \\r, \\n and \\t with white spaces\n",
        "    4) Removes all other control characters and the NULL byte\n",
        "    5) Removes duplicate white spaces\n",
        "    \"\"\"\n",
        "    html_parser = HTMLParser()\n",
        "\n",
        "    # escape HTML symbols\n",
        "    text = html_parser.unescape(text)\n",
        "    # standardize punctuation\n",
        "    text = text.translate(transl_table)\n",
        "    text = text.replace('…', '...')\n",
        "    # replace \\t, \\n and \\r characters by a whitespace\n",
        "    text = re.sub(control_char_regex, ' ', text)\n",
        "    # remove all remaining control characters\n",
        "    text = ''.join(ch for ch in text if unicodedata.category(ch)[0] != 'C')\n",
        "    # replace multiple spaces with single space\n",
        "    text = ' '.join(text.split())\n",
        "    return text.strip()"
      ],
      "execution_count": 107,
      "outputs": []
    },
    {
      "cell_type": "code",
      "metadata": {
        "id": "d0kFBzObJH3j"
      },
      "source": [
        "\n",
        "def replace_usernames(text, filler='user'):\n",
        "    # @<user> is a marker used internally. use filler instead\n",
        "    text = text.replace('@<user>', f'{filler}')\n",
        "    # replace other user handles by filler\n",
        "    text = re.sub(username_regex, filler, text)\n",
        "    # add spaces between, and remove double spaces again\n",
        "    text = text.replace(filler, f' {filler} ')\n",
        "    text = ' '.join(text.split())\n",
        "    return text\n"
      ],
      "execution_count": 114,
      "outputs": []
    },
    {
      "cell_type": "code",
      "metadata": {
        "id": "wHCA-apqJM9Q"
      },
      "source": [
        "def replace_urls(text, filler='url'):\n",
        "    # <url> is a marker used internally. use filler instead\n",
        "    text = text.replace('<url>', filler)\n",
        "    # replace other urls by filler\n",
        "    text = re.sub(url_regex, filler, text)\n",
        "    # add spaces between, and remove double spaces again\n",
        "    text = text.replace(filler, f' {filler} ')\n",
        "    text = ' '.join(text.split())\n",
        "    return text"
      ],
      "execution_count": 118,
      "outputs": []
    },
    {
      "cell_type": "code",
      "metadata": {
        "colab": {
          "base_uri": "https://localhost:8080/"
        },
        "id": "V7CwKM3sJucl",
        "outputId": "735330e6-14ac-41bc-8cf8-e8506d1f601f"
      },
      "source": [
        "!pip install emoji\n",
        "import emoji\n",
        "def asciify_emojis(text):\n",
        "    \"\"\"\n",
        "    Converts emojis into text aliases. E.g. 👍 becomes :thumbs_up:\n",
        "    For a full list of text aliases see: https://www.webfx.com/tools/emoji-cheat-sheet/\n",
        "    \"\"\"\n",
        "    text = emoji.demojize(text)\n",
        "    return text"
      ],
      "execution_count": 135,
      "outputs": [
        {
          "output_type": "stream",
          "name": "stdout",
          "text": [
            "Collecting emoji\n",
            "  Downloading emoji-1.6.1.tar.gz (170 kB)\n",
            "\u001b[?25l\r\u001b[K     |██                              | 10 kB 22.5 MB/s eta 0:00:01\r\u001b[K     |███▉                            | 20 kB 25.1 MB/s eta 0:00:01\r\u001b[K     |█████▉                          | 30 kB 16.8 MB/s eta 0:00:01\r\u001b[K     |███████▊                        | 40 kB 14.6 MB/s eta 0:00:01\r\u001b[K     |█████████▋                      | 51 kB 5.7 MB/s eta 0:00:01\r\u001b[K     |███████████▋                    | 61 kB 6.0 MB/s eta 0:00:01\r\u001b[K     |█████████████▌                  | 71 kB 5.4 MB/s eta 0:00:01\r\u001b[K     |███████████████▍                | 81 kB 6.1 MB/s eta 0:00:01\r\u001b[K     |█████████████████▍              | 92 kB 6.4 MB/s eta 0:00:01\r\u001b[K     |███████████████████▎            | 102 kB 5.4 MB/s eta 0:00:01\r\u001b[K     |█████████████████████▏          | 112 kB 5.4 MB/s eta 0:00:01\r\u001b[K     |███████████████████████▏        | 122 kB 5.4 MB/s eta 0:00:01\r\u001b[K     |█████████████████████████       | 133 kB 5.4 MB/s eta 0:00:01\r\u001b[K     |███████████████████████████     | 143 kB 5.4 MB/s eta 0:00:01\r\u001b[K     |█████████████████████████████   | 153 kB 5.4 MB/s eta 0:00:01\r\u001b[K     |██████████████████████████████▉ | 163 kB 5.4 MB/s eta 0:00:01\r\u001b[K     |████████████████████████████████| 170 kB 5.4 MB/s \n",
            "\u001b[?25hBuilding wheels for collected packages: emoji\n",
            "  Building wheel for emoji (setup.py) ... \u001b[?25l\u001b[?25hdone\n",
            "  Created wheel for emoji: filename=emoji-1.6.1-py3-none-any.whl size=169314 sha256=0a6a0db04d933ea514af833c0d5aa7dd2de4cd9b7daada35a8659a34084f49a8\n",
            "  Stored in directory: /root/.cache/pip/wheels/ea/5f/d3/03d313ddb3c2a1a427bb4690f1621eea60fe6f2a30cc95940f\n",
            "Successfully built emoji\n",
            "Installing collected packages: emoji\n",
            "Successfully installed emoji-1.6.1\n"
          ]
        }
      ]
    },
    {
      "cell_type": "code",
      "metadata": {
        "colab": {
          "base_uri": "https://localhost:8080/"
        },
        "id": "VotiJrf4KR-M",
        "outputId": "cc262796-d9a4-4f68-a7d8-6c97c056becf"
      },
      "source": [
        "!pip install unidecode\n",
        "import unidecode\n",
        "def standardize_punctuation(text):\n",
        "    return ''.join([unidecode.unidecode(t) if unicodedata.category(t)[0] == 'P' else t for t in text])\n"
      ],
      "execution_count": 147,
      "outputs": [
        {
          "output_type": "stream",
          "name": "stdout",
          "text": [
            "Collecting unidecode\n",
            "  Downloading Unidecode-1.3.2-py3-none-any.whl (235 kB)\n",
            "\u001b[?25l\r\u001b[K     |█▍                              | 10 kB 22.4 MB/s eta 0:00:01\r\u001b[K     |██▉                             | 20 kB 20.9 MB/s eta 0:00:01\r\u001b[K     |████▏                           | 30 kB 10.9 MB/s eta 0:00:01\r\u001b[K     |█████▋                          | 40 kB 8.8 MB/s eta 0:00:01\r\u001b[K     |███████                         | 51 kB 4.9 MB/s eta 0:00:01\r\u001b[K     |████████▍                       | 61 kB 5.3 MB/s eta 0:00:01\r\u001b[K     |█████████▊                      | 71 kB 5.7 MB/s eta 0:00:01\r\u001b[K     |███████████▏                    | 81 kB 6.4 MB/s eta 0:00:01\r\u001b[K     |████████████▌                   | 92 kB 6.6 MB/s eta 0:00:01\r\u001b[K     |██████████████                  | 102 kB 5.2 MB/s eta 0:00:01\r\u001b[K     |███████████████▎                | 112 kB 5.2 MB/s eta 0:00:01\r\u001b[K     |████████████████▊               | 122 kB 5.2 MB/s eta 0:00:01\r\u001b[K     |██████████████████              | 133 kB 5.2 MB/s eta 0:00:01\r\u001b[K     |███████████████████▌            | 143 kB 5.2 MB/s eta 0:00:01\r\u001b[K     |████████████████████▉           | 153 kB 5.2 MB/s eta 0:00:01\r\u001b[K     |██████████████████████▎         | 163 kB 5.2 MB/s eta 0:00:01\r\u001b[K     |███████████████████████▋        | 174 kB 5.2 MB/s eta 0:00:01\r\u001b[K     |█████████████████████████       | 184 kB 5.2 MB/s eta 0:00:01\r\u001b[K     |██████████████████████████▍     | 194 kB 5.2 MB/s eta 0:00:01\r\u001b[K     |███████████████████████████▉    | 204 kB 5.2 MB/s eta 0:00:01\r\u001b[K     |█████████████████████████████▏  | 215 kB 5.2 MB/s eta 0:00:01\r\u001b[K     |██████████████████████████████▋ | 225 kB 5.2 MB/s eta 0:00:01\r\u001b[K     |████████████████████████████████| 235 kB 5.2 MB/s eta 0:00:01\r\u001b[K     |████████████████████████████████| 235 kB 5.2 MB/s \n",
            "\u001b[?25hInstalling collected packages: unidecode\n",
            "Successfully installed unidecode-1.3.2\n"
          ]
        }
      ]
    },
    {
      "cell_type": "code",
      "metadata": {
        "id": "6X8hY6rvKRyc"
      },
      "source": [
        "def replace_multi_occurrences(text, filler):\n",
        "    \"\"\"Replaces multiple occurrences of filler with n filler\"\"\"\n",
        "    # only run if we have multiple occurrences of filler\n",
        "    if text.count(filler) <= 1:\n",
        "        return text\n",
        "    # pad fillers with whitespace\n",
        "    text = text.replace(f'{filler}', f' {filler} ')\n",
        "    # remove introduced duplicate whitespaces\n",
        "    text = ' '.join(text.split())\n",
        "    # find indices of occurrences\n",
        "    indices = []\n",
        "    for m in re.finditer(r'{}'.format(filler), text):\n",
        "        index = m.start()\n",
        "        indices.append(index)\n",
        "    # collect merge list\n",
        "    merge_list = []\n",
        "    for i, index in enumerate(indices):\n",
        "        if i > 0 and index - old_index == len(filler) + 1:\n",
        "            # found two consecutive fillers\n",
        "            if len(merge_list) > 0 and merge_list[-1][1] == old_index:\n",
        "                # extend previous item\n",
        "                merge_list[-1][1] = index\n",
        "                merge_list[-1][2] += 1\n",
        "            else:\n",
        "                # create new item\n",
        "                merge_list.append([old_index, index, 2])\n",
        "        old_index = index\n",
        "    # merge occurrences\n",
        "    if len(merge_list) > 0:\n",
        "        new_text = ''\n",
        "        pos = 0\n",
        "        for (start, end, count) in merge_list:\n",
        "            new_text += text[pos:start]\n",
        "            new_text += f'{count} {filler}'\n",
        "            pos = end + len(filler)\n",
        "        new_text += text[pos:]\n",
        "        text = new_text\n",
        "    return text"
      ],
      "execution_count": 151,
      "outputs": []
    },
    {
      "cell_type": "code",
      "metadata": {
        "id": "6dP7cA0SKxIc"
      },
      "source": [
        "def remove_unicode_symbols(text):\n",
        "    text = ''.join(ch for ch in text if unicodedata.category(ch)[0] != 'So')\n",
        "    return text"
      ],
      "execution_count": 155,
      "outputs": []
    },
    {
      "cell_type": "code",
      "metadata": {
        "id": "uwID1sp4K9Oq"
      },
      "source": [
        "def remove_accented_characters(text):\n",
        "    text = unidecode.unidecode(text)\n",
        "    return text\n"
      ],
      "execution_count": 162,
      "outputs": []
    },
    {
      "cell_type": "code",
      "metadata": {
        "id": "ET0IQcqtEB8c"
      },
      "source": [
        "def preprocess_bert(text, args, do_lower_case=True):\n",
        "    \"\"\"Preprocesses tweet for BERT\"\"\"\n",
        "    # standardize\n",
        "    text = standardize_text(text)\n",
        "    # replace usernames/urls\n",
        "    if args.replace_usernames:\n",
        "        text = replace_usernames(text, filler=args.username_filler)\n",
        "    if args.replace_urls:\n",
        "        text = replace_urls(text, filler=args.url_filler)\n",
        "    if args.asciify_emojis:\n",
        "        text = asciify_emojis(text)\n",
        "    if args.standardize_punctuation:\n",
        "        text = standardize_punctuation(text)\n",
        "    if do_lower_case:\n",
        "        text = text.lower()\n",
        "    if args.replace_multiple_usernames:\n",
        "        text = replace_multi_occurrences(text, args.username_filler)\n",
        "    if args.replace_multiple_urls:\n",
        "        text = replace_multi_occurrences(text, args.url_filler)\n",
        "    if args.remove_unicode_symbols:\n",
        "        text = remove_unicode_symbols(text)\n",
        "    if args.remove_accented_characters:\n",
        "        text = remove_accented_characters(text)\n",
        "    return text"
      ],
      "execution_count": 163,
      "outputs": []
    },
    {
      "cell_type": "code",
      "metadata": {
        "id": "5itQVdfnMMbb"
      },
      "source": [
        "import tensorflow as tf"
      ],
      "execution_count": 1,
      "outputs": []
    },
    {
      "cell_type": "code",
      "metadata": {
        "colab": {
          "base_uri": "https://localhost:8080/"
        },
        "id": "ppaDJxR-MHOz",
        "outputId": "aca13667-9f99-486c-8ed6-fa0c3c442de3"
      },
      "source": [
        "#https://github.com/tensorflow/models/tree/93490036e00f37ecbe6693b9ff4ae488bb8e9270/official\n",
        "!git clone -b master https://github.com/tensorflow/models.git --depth=1\n"
      ],
      "execution_count": 2,
      "outputs": [
        {
          "output_type": "stream",
          "name": "stdout",
          "text": [
            "Cloning into 'models'...\n",
            "remote: Enumerating objects: 3089, done.\u001b[K\n",
            "remote: Counting objects: 100% (3089/3089), done.\u001b[K\n",
            "remote: Compressing objects: 100% (2614/2614), done.\u001b[K\n",
            "remote: Total 3089 (delta 775), reused 1383 (delta 434), pack-reused 0\u001b[K\n",
            "Receiving objects: 100% (3089/3089), 33.34 MiB | 20.37 MiB/s, done.\n",
            "Resolving deltas: 100% (775/775), done.\n"
          ]
        }
      ]
    },
    {
      "cell_type": "code",
      "metadata": {
        "id": "ZaTsABxlNws_"
      },
      "source": [
        "import sys\n",
        "sys.path.insert(0,'models')"
      ],
      "execution_count": 3,
      "outputs": []
    },
    {
      "cell_type": "code",
      "metadata": {
        "colab": {
          "base_uri": "https://localhost:8080/"
        },
        "id": "WMZdBFsYN19I",
        "outputId": "07352717-4461-4dd7-922b-d7a68ef37b47"
      },
      "source": [
        "!pip install sentencepiece\n",
        "from official.nlp.bert import tokenization\n",
        "from official.nlp.data.classifier_data_lib import DataProcessor, generate_tf_record_from_data_file, InputExample"
      ],
      "execution_count": 5,
      "outputs": [
        {
          "output_type": "stream",
          "name": "stdout",
          "text": [
            "Collecting sentencepiece\n",
            "  Downloading sentencepiece-0.1.96-cp37-cp37m-manylinux_2_17_x86_64.manylinux2014_x86_64.whl (1.2 MB)\n",
            "\u001b[K     |████████████████████████████████| 1.2 MB 3.1 MB/s \n",
            "\u001b[?25hInstalling collected packages: sentencepiece\n",
            "Successfully installed sentencepiece-0.1.96\n"
          ]
        }
      ]
    },
    {
      "cell_type": "code",
      "metadata": {
        "id": "HihC5T1XLiZ8"
      },
      "source": [
        "def generate_tfrecords(args, dataset_dir, labels):\n",
        "    \"\"\"Generates tfrecords from generated tsv files\"\"\"\n",
        "    processor = TextClassificationProcessor(labels)\n",
        "    # save label mapping\n",
        "    processor.save_label_mapping(dataset_dir)\n",
        "    # get tokenizer\n",
        "    tokenizer = get_tokenizer(args.model_class)\n",
        "    processor_text_fn = tokenization.convert_to_unicode\n",
        "    # generate tfrecords\n",
        "    input_dir = os.path.join(dataset_dir, 'preprocessed')\n",
        "    output_dir = os.path.join(dataset_dir, 'tfrecords')\n",
        "    if not os.path.isdir(output_dir):\n",
        "        os.makedirs(output_dir)\n",
        "    input_meta_data = generate_tf_record_from_data_file(\n",
        "        processor,\n",
        "        input_dir,\n",
        "        tokenizer,\n",
        "        train_data_output_path=os.path.join(output_dir, 'train.tfrecords'),\n",
        "        eval_data_output_path=os.path.join(output_dir, 'dev.tfrecords'),\n",
        "        max_seq_length=args.max_seq_length)\n",
        "    with tf.io.gfile.GFile(os.path.join(dataset_dir, 'meta.json'), 'w') as writer:\n",
        "        writer.write(json.dumps(input_meta_data, indent=4) + '\\n')\n",
        "    logger.info(f'Sucessfully wrote tfrecord files to {output_dir}')\n"
      ],
      "execution_count": 6,
      "outputs": []
    },
    {
      "cell_type": "code",
      "metadata": {
        "colab": {
          "base_uri": "https://localhost:8080/",
          "height": 236
        },
        "id": "asl5fyWtAp4n",
        "outputId": "4a01a82e-d8f2-4f36-dee1-40f51ef0c664"
      },
      "source": [
        "labels = set()\n",
        "for _type in ['train', 'dev']:\n",
        "    f_name = f'{_type}.tsv'\n",
        "    logger.info(f'Reading data for for type {_type}...')\n",
        "    f_path = os.path.join(originals_dir, dataset, f_name)\n",
        "    if not os.path.isfile(f_path):\n",
        "        logger.info(f'Could not find file {f_path}. Skipping.')\n",
        "        continue\n",
        "        df = pd.read_csv(f_path, usecols=REQUIRED_COLUMNS, sep='\\t')\n",
        "        logger.info('Creating preprocessed files...')\n",
        "        df.loc[:, 'text'] = df.text.apply(preprocess_bert, args=(args, do_lower_case))\n",
        "        df.to_csv(os.path.join(preprocessed_folder, f_name), columns=REQUIRED_COLUMNS, header=False, index=False, sep='\\t')\n",
        "        # add labels\n",
        "        labels.update(df.label.unique().tolist())\n",
        "    logger.info('Creating tfrecords files...')\n",
        "    # we sort the labels alphabetically in order to maintain consistent label ids\n",
        "    labels = sorted(list(labels))\n",
        "    dataset_dir = os.path.join(run_dir, dataset)\n",
        "    generate_tfrecords(args, dataset_dir, labels)\n",
        "    # saving config\n",
        "f_path_config = os.path.join(run_dir, 'create_finetune_config.json')\n",
        "logger.info(f'Saving config to {f_path_config}')\n",
        "save_to_json(vars(args), f_path_config)"
      ],
      "execution_count": 7,
      "outputs": [
        {
          "output_type": "error",
          "ename": "NameError",
          "evalue": "ignored",
          "traceback": [
            "\u001b[0;31m---------------------------------------------------------------------------\u001b[0m",
            "\u001b[0;31mNameError\u001b[0m                                 Traceback (most recent call last)",
            "\u001b[0;32m<ipython-input-7-4819d20cf7a0>\u001b[0m in \u001b[0;36m<module>\u001b[0;34m()\u001b[0m\n\u001b[1;32m      2\u001b[0m \u001b[0;32mfor\u001b[0m \u001b[0m_type\u001b[0m \u001b[0;32min\u001b[0m \u001b[0;34m[\u001b[0m\u001b[0;34m'train'\u001b[0m\u001b[0;34m,\u001b[0m \u001b[0;34m'dev'\u001b[0m\u001b[0;34m]\u001b[0m\u001b[0;34m:\u001b[0m\u001b[0;34m\u001b[0m\u001b[0;34m\u001b[0m\u001b[0m\n\u001b[1;32m      3\u001b[0m     \u001b[0mf_name\u001b[0m \u001b[0;34m=\u001b[0m \u001b[0;34mf'{_type}.tsv'\u001b[0m\u001b[0;34m\u001b[0m\u001b[0;34m\u001b[0m\u001b[0m\n\u001b[0;32m----> 4\u001b[0;31m     \u001b[0mlogger\u001b[0m\u001b[0;34m.\u001b[0m\u001b[0minfo\u001b[0m\u001b[0;34m(\u001b[0m\u001b[0;34mf'Reading data for for type {_type}...'\u001b[0m\u001b[0;34m)\u001b[0m\u001b[0;34m\u001b[0m\u001b[0;34m\u001b[0m\u001b[0m\n\u001b[0m\u001b[1;32m      5\u001b[0m     \u001b[0mf_path\u001b[0m \u001b[0;34m=\u001b[0m \u001b[0mos\u001b[0m\u001b[0;34m.\u001b[0m\u001b[0mpath\u001b[0m\u001b[0;34m.\u001b[0m\u001b[0mjoin\u001b[0m\u001b[0;34m(\u001b[0m\u001b[0moriginals_dir\u001b[0m\u001b[0;34m,\u001b[0m \u001b[0mdataset\u001b[0m\u001b[0;34m,\u001b[0m \u001b[0mf_name\u001b[0m\u001b[0;34m)\u001b[0m\u001b[0;34m\u001b[0m\u001b[0;34m\u001b[0m\u001b[0m\n\u001b[1;32m      6\u001b[0m     \u001b[0;32mif\u001b[0m \u001b[0;32mnot\u001b[0m \u001b[0mos\u001b[0m\u001b[0;34m.\u001b[0m\u001b[0mpath\u001b[0m\u001b[0;34m.\u001b[0m\u001b[0misfile\u001b[0m\u001b[0;34m(\u001b[0m\u001b[0mf_path\u001b[0m\u001b[0;34m)\u001b[0m\u001b[0;34m:\u001b[0m\u001b[0;34m\u001b[0m\u001b[0;34m\u001b[0m\u001b[0m\n",
            "\u001b[0;31mNameError\u001b[0m: name 'logger' is not defined"
          ]
        }
      ]
    },
    {
      "cell_type": "code",
      "metadata": {
        "colab": {
          "base_uri": "https://localhost:8080/"
        },
        "id": "kIp0izYpBgqF",
        "outputId": "1950fa2c-e00d-4805-a3bc-9ebe6644f16e"
      },
      "source": [
        "df.text.apply(preprocess_bert, args=(args, do_lower_case))"
      ],
      "execution_count": 165,
      "outputs": [
        {
          "output_type": "stream",
          "name": "stderr",
          "text": [
            "/usr/local/lib/python3.7/dist-packages/ipykernel_launcher.py:13: DeprecationWarning: The unescape method is deprecated and will be removed in 3.5, use html.unescape() instead.\n",
            "  del sys.path[0]\n"
          ]
        },
        {
          "output_type": "execute_result",
          "data": {
            "text/plain": [
              "0       disneyland is spreading measles 121 cases in 1...\n",
              "1       california measles outbreak: 123 cases, latest...\n",
              "2       why isn't the news talking about how measles w...\n",
              "3       no link to autism from vaccines, says expert: ...\n",
              "4       we need a twitteruser assembly at my kids' sch...\n",
              "                              ...                        \n",
              "8995    ((elb)) combo vaccine causes autism: my son el...\n",
              "8996    ((silvito el libre)) combo vaccine causes auti...\n",
              "8997                  vaccinate your kids for prevention!\n",
              "8998    twitteruser yeah. i think they're leaning towa...\n",
              "8999    guns don't kill people. vaccinations for deadl...\n",
              "Name: text, Length: 9000, dtype: object"
            ]
          },
          "metadata": {},
          "execution_count": 165
        }
      ]
    },
    {
      "cell_type": "code",
      "metadata": {
        "id": "77EOvwn0DqVf"
      },
      "source": [
        ""
      ],
      "execution_count": null,
      "outputs": []
    }
  ]
}