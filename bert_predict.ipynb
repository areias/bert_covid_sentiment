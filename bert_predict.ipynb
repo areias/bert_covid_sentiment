{
  "nbformat": 4,
  "nbformat_minor": 0,
  "metadata": {
    "colab": {
      "name": "predict.ipynb",
      "provenance": [],
      "include_colab_link": true
    },
    "kernelspec": {
      "name": "python3",
      "display_name": "Python 3"
    },
    "language_info": {
      "name": "python"
    }
  },
  "cells": [
    {
      "cell_type": "markdown",
      "metadata": {
        "id": "view-in-github",
        "colab_type": "text"
      },
      "source": [
        "<a href=\"https://colab.research.google.com/github/areias/bert_covid_sentiment/blob/main/bert_predict.ipynb\" target=\"_parent\"><img src=\"https://colab.research.google.com/assets/colab-badge.svg\" alt=\"Open In Colab\"/></a>"
      ]
    },
    {
      "cell_type": "code",
      "metadata": {
        "id": "jlPE42ttlCt9",
        "colab": {
          "base_uri": "https://localhost:8080/"
        },
        "outputId": "a48fba26-b298-4cb1-8815-12dbe04d5579"
      },
      "source": [
        "from google.colab import drive\n",
        "drive.mount('/content/drive')"
      ],
      "execution_count": 1,
      "outputs": [
        {
          "output_type": "stream",
          "name": "stdout",
          "text": [
            "Mounted at /content/drive\n"
          ]
        }
      ]
    },
    {
      "cell_type": "code",
      "metadata": {
        "id": "B390h8SYMKwG",
        "outputId": "b1f9fc37-6932-4639-b206-64e2fbe0f589",
        "colab": {
          "base_uri": "https://localhost:8080/",
          "height": 1000
        }
      },
      "source": [
        "!pip install tensorflow==2.2.0"
      ],
      "execution_count": 5,
      "outputs": [
        {
          "output_type": "stream",
          "name": "stdout",
          "text": [
            "Collecting tensorflow==2.2.0\n",
            "  Downloading tensorflow-2.2.0-cp37-cp37m-manylinux2010_x86_64.whl (516.2 MB)\n",
            "\u001b[K     |████████████████████████████████| 516.2 MB 3.9 kB/s \n",
            "\u001b[?25hRequirement already satisfied: grpcio>=1.8.6 in /usr/local/lib/python3.7/dist-packages (from tensorflow==2.2.0) (1.42.0)\n",
            "Collecting tensorboard<2.3.0,>=2.2.0\n",
            "  Downloading tensorboard-2.2.2-py3-none-any.whl (3.0 MB)\n",
            "\u001b[K     |████████████████████████████████| 3.0 MB 31.8 MB/s \n",
            "\u001b[?25hCollecting gast==0.3.3\n",
            "  Downloading gast-0.3.3-py2.py3-none-any.whl (9.7 kB)\n",
            "Requirement already satisfied: absl-py>=0.7.0 in /usr/local/lib/python3.7/dist-packages (from tensorflow==2.2.0) (0.12.0)\n",
            "Requirement already satisfied: google-pasta>=0.1.8 in /usr/local/lib/python3.7/dist-packages (from tensorflow==2.2.0) (0.2.0)\n",
            "Requirement already satisfied: opt-einsum>=2.3.2 in /usr/local/lib/python3.7/dist-packages (from tensorflow==2.2.0) (3.3.0)\n",
            "Collecting h5py<2.11.0,>=2.10.0\n",
            "  Downloading h5py-2.10.0-cp37-cp37m-manylinux1_x86_64.whl (2.9 MB)\n",
            "\u001b[K     |████████████████████████████████| 2.9 MB 47.5 MB/s \n",
            "\u001b[?25hRequirement already satisfied: six>=1.12.0 in /usr/local/lib/python3.7/dist-packages (from tensorflow==2.2.0) (1.15.0)\n",
            "Requirement already satisfied: numpy<2.0,>=1.16.0 in /usr/local/lib/python3.7/dist-packages (from tensorflow==2.2.0) (1.19.5)\n",
            "Collecting tensorflow-estimator<2.3.0,>=2.2.0\n",
            "  Downloading tensorflow_estimator-2.2.0-py2.py3-none-any.whl (454 kB)\n",
            "\u001b[K     |████████████████████████████████| 454 kB 82.1 MB/s \n",
            "\u001b[?25hRequirement already satisfied: wrapt>=1.11.1 in /usr/local/lib/python3.7/dist-packages (from tensorflow==2.2.0) (1.13.3)\n",
            "Requirement already satisfied: keras-preprocessing>=1.1.0 in /usr/local/lib/python3.7/dist-packages (from tensorflow==2.2.0) (1.1.2)\n",
            "Requirement already satisfied: scipy==1.4.1 in /usr/local/lib/python3.7/dist-packages (from tensorflow==2.2.0) (1.4.1)\n",
            "Requirement already satisfied: protobuf>=3.8.0 in /usr/local/lib/python3.7/dist-packages (from tensorflow==2.2.0) (3.17.3)\n",
            "Requirement already satisfied: termcolor>=1.1.0 in /usr/local/lib/python3.7/dist-packages (from tensorflow==2.2.0) (1.1.0)\n",
            "Requirement already satisfied: astunparse==1.6.3 in /usr/local/lib/python3.7/dist-packages (from tensorflow==2.2.0) (1.6.3)\n",
            "Requirement already satisfied: wheel>=0.26 in /usr/local/lib/python3.7/dist-packages (from tensorflow==2.2.0) (0.37.0)\n",
            "Requirement already satisfied: requests<3,>=2.21.0 in /usr/local/lib/python3.7/dist-packages (from tensorboard<2.3.0,>=2.2.0->tensorflow==2.2.0) (2.23.0)\n",
            "Requirement already satisfied: setuptools>=41.0.0 in /usr/local/lib/python3.7/dist-packages (from tensorboard<2.3.0,>=2.2.0->tensorflow==2.2.0) (57.4.0)\n",
            "Requirement already satisfied: werkzeug>=0.11.15 in /usr/local/lib/python3.7/dist-packages (from tensorboard<2.3.0,>=2.2.0->tensorflow==2.2.0) (1.0.1)\n",
            "Requirement already satisfied: markdown>=2.6.8 in /usr/local/lib/python3.7/dist-packages (from tensorboard<2.3.0,>=2.2.0->tensorflow==2.2.0) (3.3.6)\n",
            "Requirement already satisfied: tensorboard-plugin-wit>=1.6.0 in /usr/local/lib/python3.7/dist-packages (from tensorboard<2.3.0,>=2.2.0->tensorflow==2.2.0) (1.8.0)\n",
            "Requirement already satisfied: google-auth-oauthlib<0.5,>=0.4.1 in /usr/local/lib/python3.7/dist-packages (from tensorboard<2.3.0,>=2.2.0->tensorflow==2.2.0) (0.4.6)\n",
            "Requirement already satisfied: google-auth<2,>=1.6.3 in /usr/local/lib/python3.7/dist-packages (from tensorboard<2.3.0,>=2.2.0->tensorflow==2.2.0) (1.35.0)\n",
            "Requirement already satisfied: rsa<5,>=3.1.4 in /usr/local/lib/python3.7/dist-packages (from google-auth<2,>=1.6.3->tensorboard<2.3.0,>=2.2.0->tensorflow==2.2.0) (4.7.2)\n",
            "Requirement already satisfied: pyasn1-modules>=0.2.1 in /usr/local/lib/python3.7/dist-packages (from google-auth<2,>=1.6.3->tensorboard<2.3.0,>=2.2.0->tensorflow==2.2.0) (0.2.8)\n",
            "Requirement already satisfied: cachetools<5.0,>=2.0.0 in /usr/local/lib/python3.7/dist-packages (from google-auth<2,>=1.6.3->tensorboard<2.3.0,>=2.2.0->tensorflow==2.2.0) (4.2.4)\n",
            "Requirement already satisfied: requests-oauthlib>=0.7.0 in /usr/local/lib/python3.7/dist-packages (from google-auth-oauthlib<0.5,>=0.4.1->tensorboard<2.3.0,>=2.2.0->tensorflow==2.2.0) (1.3.0)\n",
            "Requirement already satisfied: importlib-metadata>=4.4 in /usr/local/lib/python3.7/dist-packages (from markdown>=2.6.8->tensorboard<2.3.0,>=2.2.0->tensorflow==2.2.0) (4.8.2)\n",
            "Requirement already satisfied: typing-extensions>=3.6.4 in /usr/local/lib/python3.7/dist-packages (from importlib-metadata>=4.4->markdown>=2.6.8->tensorboard<2.3.0,>=2.2.0->tensorflow==2.2.0) (3.10.0.2)\n",
            "Requirement already satisfied: zipp>=0.5 in /usr/local/lib/python3.7/dist-packages (from importlib-metadata>=4.4->markdown>=2.6.8->tensorboard<2.3.0,>=2.2.0->tensorflow==2.2.0) (3.6.0)\n",
            "Requirement already satisfied: pyasn1<0.5.0,>=0.4.6 in /usr/local/lib/python3.7/dist-packages (from pyasn1-modules>=0.2.1->google-auth<2,>=1.6.3->tensorboard<2.3.0,>=2.2.0->tensorflow==2.2.0) (0.4.8)\n",
            "Requirement already satisfied: idna<3,>=2.5 in /usr/local/lib/python3.7/dist-packages (from requests<3,>=2.21.0->tensorboard<2.3.0,>=2.2.0->tensorflow==2.2.0) (2.10)\n",
            "Requirement already satisfied: chardet<4,>=3.0.2 in /usr/local/lib/python3.7/dist-packages (from requests<3,>=2.21.0->tensorboard<2.3.0,>=2.2.0->tensorflow==2.2.0) (3.0.4)\n",
            "Requirement already satisfied: urllib3!=1.25.0,!=1.25.1,<1.26,>=1.21.1 in /usr/local/lib/python3.7/dist-packages (from requests<3,>=2.21.0->tensorboard<2.3.0,>=2.2.0->tensorflow==2.2.0) (1.24.3)\n",
            "Requirement already satisfied: certifi>=2017.4.17 in /usr/local/lib/python3.7/dist-packages (from requests<3,>=2.21.0->tensorboard<2.3.0,>=2.2.0->tensorflow==2.2.0) (2021.10.8)\n",
            "Requirement already satisfied: oauthlib>=3.0.0 in /usr/local/lib/python3.7/dist-packages (from requests-oauthlib>=0.7.0->google-auth-oauthlib<0.5,>=0.4.1->tensorboard<2.3.0,>=2.2.0->tensorflow==2.2.0) (3.1.1)\n",
            "Installing collected packages: tensorflow-estimator, tensorboard, h5py, gast, tensorflow\n",
            "  Attempting uninstall: tensorflow-estimator\n",
            "    Found existing installation: tensorflow-estimator 2.7.0\n",
            "    Uninstalling tensorflow-estimator-2.7.0:\n",
            "      Successfully uninstalled tensorflow-estimator-2.7.0\n",
            "  Attempting uninstall: tensorboard\n",
            "    Found existing installation: tensorboard 2.7.0\n",
            "    Uninstalling tensorboard-2.7.0:\n",
            "      Successfully uninstalled tensorboard-2.7.0\n",
            "  Attempting uninstall: h5py\n",
            "    Found existing installation: h5py 3.1.0\n",
            "    Uninstalling h5py-3.1.0:\n",
            "      Successfully uninstalled h5py-3.1.0\n",
            "  Attempting uninstall: gast\n",
            "    Found existing installation: gast 0.4.0\n",
            "    Uninstalling gast-0.4.0:\n",
            "      Successfully uninstalled gast-0.4.0\n",
            "  Attempting uninstall: tensorflow\n",
            "    Found existing installation: tensorflow 2.7.0\n",
            "    Uninstalling tensorflow-2.7.0:\n",
            "      Successfully uninstalled tensorflow-2.7.0\n",
            "Successfully installed gast-0.3.3 h5py-2.10.0 tensorboard-2.2.2 tensorflow-2.2.0 tensorflow-estimator-2.2.0\n"
          ]
        },
        {
          "output_type": "display_data",
          "data": {
            "application/vnd.colab-display-data+json": {
              "pip_warning": {
                "packages": [
                  "gast",
                  "h5py",
                  "tensorboard",
                  "tensorflow",
                  "tensorflow_estimator"
                ]
              }
            }
          },
          "metadata": {}
        }
      ]
    },
    {
      "cell_type": "code",
      "metadata": {
        "id": "yhNS6o6wMPqQ",
        "outputId": "7cc6df1c-6b94-4392-a0e8-d62e6a801a4b",
        "colab": {
          "base_uri": "https://localhost:8080/"
        }
      },
      "source": [
        "!pip install  tensorflow_addons==0.11.2\n"
      ],
      "execution_count": 6,
      "outputs": [
        {
          "output_type": "stream",
          "name": "stdout",
          "text": [
            "Collecting tensorflow_addons==0.11.2\n",
            "  Downloading tensorflow_addons-0.11.2-cp37-cp37m-manylinux2010_x86_64.whl (1.1 MB)\n",
            "\u001b[K     |████████████████████████████████| 1.1 MB 7.7 MB/s \n",
            "\u001b[?25hRequirement already satisfied: typeguard>=2.7 in /usr/local/lib/python3.7/dist-packages (from tensorflow_addons==0.11.2) (2.7.1)\n",
            "Installing collected packages: tensorflow-addons\n",
            "Successfully installed tensorflow-addons-0.11.2\n"
          ]
        }
      ]
    },
    {
      "cell_type": "code",
      "metadata": {
        "id": "TX_f0AEaMSTT",
        "outputId": "9e6a51a9-cc82-4f37-d007-724f838bd4d9",
        "colab": {
          "base_uri": "https://localhost:8080/"
        }
      },
      "source": [
        "import tensorflow\n",
        "print(tensorflow.__version__)"
      ],
      "execution_count": 1,
      "outputs": [
        {
          "output_type": "stream",
          "name": "stdout",
          "text": [
            "2.2.0\n"
          ]
        }
      ]
    },
    {
      "cell_type": "code",
      "metadata": {
        "id": "_KF3wJFDMUcL",
        "outputId": "17fc3236-f9d8-4cfb-9bfa-b005f4669bca",
        "colab": {
          "base_uri": "https://localhost:8080/"
        }
      },
      "source": [
        "import tensorflow_addons\n",
        "print(tensorflow_addons.__version__)"
      ],
      "execution_count": 2,
      "outputs": [
        {
          "output_type": "stream",
          "name": "stdout",
          "text": [
            "0.11.2\n"
          ]
        }
      ]
    },
    {
      "cell_type": "code",
      "metadata": {
        "id": "g5BH6mI_LyUJ"
      },
      "source": [
        "import sys\n",
        "sys.path.append('drive/MyDrive/ct-bert')\n",
        "sys.path.append('drive/MyDrive/ct-bert/tensorflow_models')\n"
      ],
      "execution_count": 8,
      "outputs": []
    },
    {
      "cell_type": "code",
      "metadata": {
        "id": "tCTym6TVM9xF",
        "outputId": "9e13af2b-0f94-435a-c440-f7d38ea08358",
        "colab": {
          "base_uri": "https://localhost:8080/"
        }
      },
      "source": [
        "!pip install sentencepiece"
      ],
      "execution_count": 6,
      "outputs": [
        {
          "output_type": "stream",
          "name": "stdout",
          "text": [
            "Collecting sentencepiece\n",
            "  Downloading sentencepiece-0.1.96-cp37-cp37m-manylinux_2_17_x86_64.manylinux2014_x86_64.whl (1.2 MB)\n",
            "\u001b[?25l\r\u001b[K     |▎                               | 10 kB 29.5 MB/s eta 0:00:01\r\u001b[K     |▌                               | 20 kB 19.7 MB/s eta 0:00:01\r\u001b[K     |▉                               | 30 kB 15.9 MB/s eta 0:00:01\r\u001b[K     |█                               | 40 kB 10.5 MB/s eta 0:00:01\r\u001b[K     |█▍                              | 51 kB 6.7 MB/s eta 0:00:01\r\u001b[K     |█▋                              | 61 kB 5.6 MB/s eta 0:00:01\r\u001b[K     |██                              | 71 kB 6.3 MB/s eta 0:00:01\r\u001b[K     |██▏                             | 81 kB 7.1 MB/s eta 0:00:01\r\u001b[K     |██▍                             | 92 kB 7.8 MB/s eta 0:00:01\r\u001b[K     |██▊                             | 102 kB 6.9 MB/s eta 0:00:01\r\u001b[K     |███                             | 112 kB 6.9 MB/s eta 0:00:01\r\u001b[K     |███▎                            | 122 kB 6.9 MB/s eta 0:00:01\r\u001b[K     |███▌                            | 133 kB 6.9 MB/s eta 0:00:01\r\u001b[K     |███▉                            | 143 kB 6.9 MB/s eta 0:00:01\r\u001b[K     |████                            | 153 kB 6.9 MB/s eta 0:00:01\r\u001b[K     |████▎                           | 163 kB 6.9 MB/s eta 0:00:01\r\u001b[K     |████▋                           | 174 kB 6.9 MB/s eta 0:00:01\r\u001b[K     |████▉                           | 184 kB 6.9 MB/s eta 0:00:01\r\u001b[K     |█████▏                          | 194 kB 6.9 MB/s eta 0:00:01\r\u001b[K     |█████▍                          | 204 kB 6.9 MB/s eta 0:00:01\r\u001b[K     |█████▊                          | 215 kB 6.9 MB/s eta 0:00:01\r\u001b[K     |██████                          | 225 kB 6.9 MB/s eta 0:00:01\r\u001b[K     |██████▏                         | 235 kB 6.9 MB/s eta 0:00:01\r\u001b[K     |██████▌                         | 245 kB 6.9 MB/s eta 0:00:01\r\u001b[K     |██████▊                         | 256 kB 6.9 MB/s eta 0:00:01\r\u001b[K     |███████                         | 266 kB 6.9 MB/s eta 0:00:01\r\u001b[K     |███████▎                        | 276 kB 6.9 MB/s eta 0:00:01\r\u001b[K     |███████▋                        | 286 kB 6.9 MB/s eta 0:00:01\r\u001b[K     |███████▉                        | 296 kB 6.9 MB/s eta 0:00:01\r\u001b[K     |████████                        | 307 kB 6.9 MB/s eta 0:00:01\r\u001b[K     |████████▍                       | 317 kB 6.9 MB/s eta 0:00:01\r\u001b[K     |████████▋                       | 327 kB 6.9 MB/s eta 0:00:01\r\u001b[K     |█████████                       | 337 kB 6.9 MB/s eta 0:00:01\r\u001b[K     |█████████▏                      | 348 kB 6.9 MB/s eta 0:00:01\r\u001b[K     |█████████▌                      | 358 kB 6.9 MB/s eta 0:00:01\r\u001b[K     |█████████▊                      | 368 kB 6.9 MB/s eta 0:00:01\r\u001b[K     |██████████                      | 378 kB 6.9 MB/s eta 0:00:01\r\u001b[K     |██████████▎                     | 389 kB 6.9 MB/s eta 0:00:01\r\u001b[K     |██████████▌                     | 399 kB 6.9 MB/s eta 0:00:01\r\u001b[K     |██████████▉                     | 409 kB 6.9 MB/s eta 0:00:01\r\u001b[K     |███████████                     | 419 kB 6.9 MB/s eta 0:00:01\r\u001b[K     |███████████▍                    | 430 kB 6.9 MB/s eta 0:00:01\r\u001b[K     |███████████▋                    | 440 kB 6.9 MB/s eta 0:00:01\r\u001b[K     |███████████▉                    | 450 kB 6.9 MB/s eta 0:00:01\r\u001b[K     |████████████▏                   | 460 kB 6.9 MB/s eta 0:00:01\r\u001b[K     |████████████▍                   | 471 kB 6.9 MB/s eta 0:00:01\r\u001b[K     |████████████▊                   | 481 kB 6.9 MB/s eta 0:00:01\r\u001b[K     |█████████████                   | 491 kB 6.9 MB/s eta 0:00:01\r\u001b[K     |█████████████▎                  | 501 kB 6.9 MB/s eta 0:00:01\r\u001b[K     |█████████████▌                  | 512 kB 6.9 MB/s eta 0:00:01\r\u001b[K     |█████████████▊                  | 522 kB 6.9 MB/s eta 0:00:01\r\u001b[K     |██████████████                  | 532 kB 6.9 MB/s eta 0:00:01\r\u001b[K     |██████████████▎                 | 542 kB 6.9 MB/s eta 0:00:01\r\u001b[K     |██████████████▋                 | 552 kB 6.9 MB/s eta 0:00:01\r\u001b[K     |██████████████▉                 | 563 kB 6.9 MB/s eta 0:00:01\r\u001b[K     |███████████████▏                | 573 kB 6.9 MB/s eta 0:00:01\r\u001b[K     |███████████████▍                | 583 kB 6.9 MB/s eta 0:00:01\r\u001b[K     |███████████████▋                | 593 kB 6.9 MB/s eta 0:00:01\r\u001b[K     |████████████████                | 604 kB 6.9 MB/s eta 0:00:01\r\u001b[K     |████████████████▏               | 614 kB 6.9 MB/s eta 0:00:01\r\u001b[K     |████████████████▌               | 624 kB 6.9 MB/s eta 0:00:01\r\u001b[K     |████████████████▊               | 634 kB 6.9 MB/s eta 0:00:01\r\u001b[K     |█████████████████               | 645 kB 6.9 MB/s eta 0:00:01\r\u001b[K     |█████████████████▎              | 655 kB 6.9 MB/s eta 0:00:01\r\u001b[K     |█████████████████▌              | 665 kB 6.9 MB/s eta 0:00:01\r\u001b[K     |█████████████████▉              | 675 kB 6.9 MB/s eta 0:00:01\r\u001b[K     |██████████████████              | 686 kB 6.9 MB/s eta 0:00:01\r\u001b[K     |██████████████████▍             | 696 kB 6.9 MB/s eta 0:00:01\r\u001b[K     |██████████████████▋             | 706 kB 6.9 MB/s eta 0:00:01\r\u001b[K     |███████████████████             | 716 kB 6.9 MB/s eta 0:00:01\r\u001b[K     |███████████████████▏            | 727 kB 6.9 MB/s eta 0:00:01\r\u001b[K     |███████████████████▍            | 737 kB 6.9 MB/s eta 0:00:01\r\u001b[K     |███████████████████▊            | 747 kB 6.9 MB/s eta 0:00:01\r\u001b[K     |████████████████████            | 757 kB 6.9 MB/s eta 0:00:01\r\u001b[K     |████████████████████▎           | 768 kB 6.9 MB/s eta 0:00:01\r\u001b[K     |████████████████████▌           | 778 kB 6.9 MB/s eta 0:00:01\r\u001b[K     |████████████████████▉           | 788 kB 6.9 MB/s eta 0:00:01\r\u001b[K     |█████████████████████           | 798 kB 6.9 MB/s eta 0:00:01\r\u001b[K     |█████████████████████▎          | 808 kB 6.9 MB/s eta 0:00:01\r\u001b[K     |█████████████████████▋          | 819 kB 6.9 MB/s eta 0:00:01\r\u001b[K     |█████████████████████▉          | 829 kB 6.9 MB/s eta 0:00:01\r\u001b[K     |██████████████████████▏         | 839 kB 6.9 MB/s eta 0:00:01\r\u001b[K     |██████████████████████▍         | 849 kB 6.9 MB/s eta 0:00:01\r\u001b[K     |██████████████████████▊         | 860 kB 6.9 MB/s eta 0:00:01\r\u001b[K     |███████████████████████         | 870 kB 6.9 MB/s eta 0:00:01\r\u001b[K     |███████████████████████▏        | 880 kB 6.9 MB/s eta 0:00:01\r\u001b[K     |███████████████████████▌        | 890 kB 6.9 MB/s eta 0:00:01\r\u001b[K     |███████████████████████▊        | 901 kB 6.9 MB/s eta 0:00:01\r\u001b[K     |████████████████████████        | 911 kB 6.9 MB/s eta 0:00:01\r\u001b[K     |████████████████████████▎       | 921 kB 6.9 MB/s eta 0:00:01\r\u001b[K     |████████████████████████▋       | 931 kB 6.9 MB/s eta 0:00:01\r\u001b[K     |████████████████████████▉       | 942 kB 6.9 MB/s eta 0:00:01\r\u001b[K     |█████████████████████████       | 952 kB 6.9 MB/s eta 0:00:01\r\u001b[K     |█████████████████████████▍      | 962 kB 6.9 MB/s eta 0:00:01\r\u001b[K     |█████████████████████████▋      | 972 kB 6.9 MB/s eta 0:00:01\r\u001b[K     |██████████████████████████      | 983 kB 6.9 MB/s eta 0:00:01\r\u001b[K     |██████████████████████████▏     | 993 kB 6.9 MB/s eta 0:00:01\r\u001b[K     |██████████████████████████▌     | 1.0 MB 6.9 MB/s eta 0:00:01\r\u001b[K     |██████████████████████████▊     | 1.0 MB 6.9 MB/s eta 0:00:01\r\u001b[K     |███████████████████████████     | 1.0 MB 6.9 MB/s eta 0:00:01\r\u001b[K     |███████████████████████████▎    | 1.0 MB 6.9 MB/s eta 0:00:01\r\u001b[K     |███████████████████████████▌    | 1.0 MB 6.9 MB/s eta 0:00:01\r\u001b[K     |███████████████████████████▉    | 1.1 MB 6.9 MB/s eta 0:00:01\r\u001b[K     |████████████████████████████    | 1.1 MB 6.9 MB/s eta 0:00:01\r\u001b[K     |████████████████████████████▍   | 1.1 MB 6.9 MB/s eta 0:00:01\r\u001b[K     |████████████████████████████▋   | 1.1 MB 6.9 MB/s eta 0:00:01\r\u001b[K     |████████████████████████████▉   | 1.1 MB 6.9 MB/s eta 0:00:01\r\u001b[K     |█████████████████████████████▏  | 1.1 MB 6.9 MB/s eta 0:00:01\r\u001b[K     |█████████████████████████████▍  | 1.1 MB 6.9 MB/s eta 0:00:01\r\u001b[K     |█████████████████████████████▊  | 1.1 MB 6.9 MB/s eta 0:00:01\r\u001b[K     |██████████████████████████████  | 1.1 MB 6.9 MB/s eta 0:00:01\r\u001b[K     |██████████████████████████████▎ | 1.1 MB 6.9 MB/s eta 0:00:01\r\u001b[K     |██████████████████████████████▌ | 1.2 MB 6.9 MB/s eta 0:00:01\r\u001b[K     |██████████████████████████████▊ | 1.2 MB 6.9 MB/s eta 0:00:01\r\u001b[K     |███████████████████████████████ | 1.2 MB 6.9 MB/s eta 0:00:01\r\u001b[K     |███████████████████████████████▎| 1.2 MB 6.9 MB/s eta 0:00:01\r\u001b[K     |███████████████████████████████▋| 1.2 MB 6.9 MB/s eta 0:00:01\r\u001b[K     |███████████████████████████████▉| 1.2 MB 6.9 MB/s eta 0:00:01\r\u001b[K     |████████████████████████████████| 1.2 MB 6.9 MB/s \n",
            "\u001b[?25hInstalling collected packages: sentencepiece\n",
            "Successfully installed sentencepiece-0.1.96\n"
          ]
        }
      ]
    },
    {
      "cell_type": "code",
      "metadata": {
        "id": "JgrQ5jg2L0Ss"
      },
      "source": [
        "from official.utils.misc import distribution_utils\n",
        "from official.nlp.bert import bert_models\n",
        "from official.nlp.bert import configs as bert_configs\n",
        "from official.nlp.bert import tokenization\n",
        "from official.nlp.bert.input_pipeline import single_file_dataset\n",
        "\n",
        "import os\n",
        "import datetime\n",
        "import time\n",
        "import argparse\n",
        "import logging\n",
        "from tqdm import tqdm\n",
        "import json\n",
        "import tensorflow as tf\n",
        "from utils.misc import ArgParseDefault, add_bool_arg, save_to_json\n",
        "from config import PRETRAINED_MODELS\n",
        "import collections\n",
        "import pandas as pd"
      ],
      "execution_count": 9,
      "outputs": []
    },
    {
      "cell_type": "code",
      "metadata": {
        "id": "CeAubW0nNICE"
      },
      "source": [
        "VOCAB_PATH = 'vocabs'"
      ],
      "execution_count": null,
      "outputs": []
    },
    {
      "cell_type": "code",
      "metadata": {
        "id": "pf_hQq7fNXGl"
      },
      "source": [
        "# start time\n",
        "s_time = time.time()\n"
      ],
      "execution_count": null,
      "outputs": []
    },
    {
      "cell_type": "code",
      "metadata": {
        "id": "KgsoP9pANis3",
        "outputId": "549b62d6-a23c-43b2-83a3-32bef43e5f0b",
        "colab": {
          "base_uri": "https://localhost:8080/"
        }
      },
      "source": [
        "from collections import namedtuple\n",
        "arguments = namedtuple('arguments', ['run_name'])\n",
        "\n",
        "args = arguments('run_2021-11-24_08-24-14_193220_test_run')\n",
        "args"
      ],
      "execution_count": 10,
      "outputs": [
        {
          "output_type": "execute_result",
          "data": {
            "text/plain": [
              "arguments(run_name='run_2021-11-24_08-24-14_193220_test_run')"
            ]
          },
          "metadata": {},
          "execution_count": 10
        }
      ]
    },
    {
      "cell_type": "code",
      "metadata": {
        "id": "wJ3d7XrqNaCN"
      },
      "source": [
        "# paths\n",
        "run_dir = os.path.join('drive/MyDrive/ct-bert/data/finetune/',args.run_name,'crowdbreaks')\n",
        "ts = datetime.datetime.now().strftime('%Y-%m-%d_%H-%M-%S_%f')\n",
        "output_folder = os.path.join('drive/MyDrive/ct-bert/data/finetune/', args.run_name,'crowdbreaks', 'predictions', f'predictions_{ts}')\n",
        "predictions_output_folder = os.path.join('drive/MyDrive/ct-bert/data/finetune/', args.run_name,'crowdbreaks','predictions', f'predictions_{ts}', 'predictions')"
      ],
      "execution_count": 29,
      "outputs": []
    },
    {
      "cell_type": "code",
      "metadata": {
        "id": "cdTTg1OvN3ne",
        "outputId": "70577d5d-62e5-43de-ec3d-d574177967bd",
        "colab": {
          "base_uri": "https://localhost:8080/"
        }
      },
      "source": [
        "print(run_dir)\n",
        "print(output_folder)\n",
        "print(predictions_output_folder)"
      ],
      "execution_count": 30,
      "outputs": [
        {
          "output_type": "stream",
          "name": "stdout",
          "text": [
            "drive/MyDrive/ct-bert/data/finetune/run_2021-11-24_08-24-14_193220_test_run/crowdbreaks\n",
            "drive/MyDrive/ct-bert/data/finetune/run_2021-11-24_08-24-14_193220_test_run/crowdbreaks/predictions/predictions_2021-11-24_13-57-04_869872\n",
            "drive/MyDrive/ct-bert/data/finetune/run_2021-11-24_08-24-14_193220_test_run/crowdbreaks/predictions/predictions_2021-11-24_13-57-04_869872/predictions\n"
          ]
        }
      ]
    },
    {
      "cell_type": "code",
      "metadata": {
        "id": "X3BUE2scN4xW"
      },
      "source": [
        "if not os.path.isdir(predictions_output_folder):\n",
        "    os.makedirs(predictions_output_folder)"
      ],
      "execution_count": 32,
      "outputs": []
    },
    {
      "cell_type": "code",
      "metadata": {
        "id": "ayxTaAH7PT83"
      },
      "source": [
        "def read_run_log(run_dir):\n",
        "    with tf.io.gfile.GFile(os.path.join(run_dir, 'run_logs.json'), 'rb') as reader:\n",
        "        run_log = json.loads(reader.read().decode('utf-8'))\n",
        "    return run_log"
      ],
      "execution_count": 34,
      "outputs": []
    },
    {
      "cell_type": "code",
      "metadata": {
        "id": "xwYX1r8zPUcE"
      },
      "source": [
        ""
      ],
      "execution_count": null,
      "outputs": []
    },
    {
      "cell_type": "code",
      "metadata": {
        "id": "-cml9EvOPVS_"
      },
      "source": [
        ""
      ],
      "execution_count": null,
      "outputs": []
    },
    {
      "cell_type": "code",
      "metadata": {
        "id": "39INCVxOOyva",
        "outputId": "9eaf6d63-0ce5-4486-9a2f-5058493ce218",
        "colab": {
          "base_uri": "https://localhost:8080/",
          "height": 399
        }
      },
      "source": [
        "# read configs\n",
        "#logger.info(f'Reading run configs...')\n",
        "run_log = read_run_log(run_dir)\n",
        "pretrained_model_config_path = get_model_config_path(args)\n",
        "model_config = get_model_config(pretrained_model_config_path)\n",
        "max_seq_length = run_log['max_seq_length']\n",
        "label_mapping = run_log['label_mapping']\n",
        "num_labels = len(label_mapping)"
      ],
      "execution_count": 35,
      "outputs": [
        {
          "output_type": "error",
          "ename": "NotFoundError",
          "evalue": "ignored",
          "traceback": [
            "\u001b[0;31m---------------------------------------------------------------------------\u001b[0m",
            "\u001b[0;31mNotFoundError\u001b[0m                             Traceback (most recent call last)",
            "\u001b[0;32m<ipython-input-35-26b8f3898ad5>\u001b[0m in \u001b[0;36m<module>\u001b[0;34m()\u001b[0m\n\u001b[1;32m      1\u001b[0m \u001b[0;31m# read configs\u001b[0m\u001b[0;34m\u001b[0m\u001b[0;34m\u001b[0m\u001b[0;34m\u001b[0m\u001b[0m\n\u001b[1;32m      2\u001b[0m \u001b[0;31m#logger.info(f'Reading run configs...')\u001b[0m\u001b[0;34m\u001b[0m\u001b[0;34m\u001b[0m\u001b[0;34m\u001b[0m\u001b[0m\n\u001b[0;32m----> 3\u001b[0;31m \u001b[0mrun_log\u001b[0m \u001b[0;34m=\u001b[0m \u001b[0mread_run_log\u001b[0m\u001b[0;34m(\u001b[0m\u001b[0mrun_dir\u001b[0m\u001b[0;34m)\u001b[0m\u001b[0;34m\u001b[0m\u001b[0;34m\u001b[0m\u001b[0m\n\u001b[0m\u001b[1;32m      4\u001b[0m \u001b[0mpretrained_model_config_path\u001b[0m \u001b[0;34m=\u001b[0m \u001b[0mget_model_config_path\u001b[0m\u001b[0;34m(\u001b[0m\u001b[0margs\u001b[0m\u001b[0;34m)\u001b[0m\u001b[0;34m\u001b[0m\u001b[0;34m\u001b[0m\u001b[0m\n\u001b[1;32m      5\u001b[0m \u001b[0mmodel_config\u001b[0m \u001b[0;34m=\u001b[0m \u001b[0mget_model_config\u001b[0m\u001b[0;34m(\u001b[0m\u001b[0mpretrained_model_config_path\u001b[0m\u001b[0;34m)\u001b[0m\u001b[0;34m\u001b[0m\u001b[0;34m\u001b[0m\u001b[0m\n",
            "\u001b[0;32m<ipython-input-34-c412f66b1b4a>\u001b[0m in \u001b[0;36mread_run_log\u001b[0;34m(run_dir)\u001b[0m\n\u001b[1;32m      1\u001b[0m \u001b[0;32mdef\u001b[0m \u001b[0mread_run_log\u001b[0m\u001b[0;34m(\u001b[0m\u001b[0mrun_dir\u001b[0m\u001b[0;34m)\u001b[0m\u001b[0;34m:\u001b[0m\u001b[0;34m\u001b[0m\u001b[0;34m\u001b[0m\u001b[0m\n\u001b[1;32m      2\u001b[0m     \u001b[0;32mwith\u001b[0m \u001b[0mtf\u001b[0m\u001b[0;34m.\u001b[0m\u001b[0mio\u001b[0m\u001b[0;34m.\u001b[0m\u001b[0mgfile\u001b[0m\u001b[0;34m.\u001b[0m\u001b[0mGFile\u001b[0m\u001b[0;34m(\u001b[0m\u001b[0mos\u001b[0m\u001b[0;34m.\u001b[0m\u001b[0mpath\u001b[0m\u001b[0;34m.\u001b[0m\u001b[0mjoin\u001b[0m\u001b[0;34m(\u001b[0m\u001b[0mrun_dir\u001b[0m\u001b[0;34m,\u001b[0m \u001b[0;34m'run_logs.json'\u001b[0m\u001b[0;34m)\u001b[0m\u001b[0;34m,\u001b[0m \u001b[0;34m'rb'\u001b[0m\u001b[0;34m)\u001b[0m \u001b[0;32mas\u001b[0m \u001b[0mreader\u001b[0m\u001b[0;34m:\u001b[0m\u001b[0;34m\u001b[0m\u001b[0;34m\u001b[0m\u001b[0m\n\u001b[0;32m----> 3\u001b[0;31m         \u001b[0mrun_log\u001b[0m \u001b[0;34m=\u001b[0m \u001b[0mjson\u001b[0m\u001b[0;34m.\u001b[0m\u001b[0mloads\u001b[0m\u001b[0;34m(\u001b[0m\u001b[0mreader\u001b[0m\u001b[0;34m.\u001b[0m\u001b[0mread\u001b[0m\u001b[0;34m(\u001b[0m\u001b[0;34m)\u001b[0m\u001b[0;34m.\u001b[0m\u001b[0mdecode\u001b[0m\u001b[0;34m(\u001b[0m\u001b[0;34m'utf-8'\u001b[0m\u001b[0;34m)\u001b[0m\u001b[0;34m)\u001b[0m\u001b[0;34m\u001b[0m\u001b[0;34m\u001b[0m\u001b[0m\n\u001b[0m\u001b[1;32m      4\u001b[0m     \u001b[0;32mreturn\u001b[0m \u001b[0mrun_log\u001b[0m\u001b[0;34m\u001b[0m\u001b[0;34m\u001b[0m\u001b[0m\n",
            "\u001b[0;32m/usr/local/lib/python3.7/dist-packages/tensorflow/python/lib/io/file_io.py\u001b[0m in \u001b[0;36mread\u001b[0;34m(self, n)\u001b[0m\n\u001b[1;32m    114\u001b[0m       \u001b[0mstring\u001b[0m \u001b[0;32mif\u001b[0m \u001b[0;32min\u001b[0m \u001b[0mstring\u001b[0m \u001b[0;34m(\u001b[0m\u001b[0mregular\u001b[0m\u001b[0;34m)\u001b[0m \u001b[0mmode\u001b[0m\u001b[0;34m.\u001b[0m\u001b[0;34m\u001b[0m\u001b[0;34m\u001b[0m\u001b[0m\n\u001b[1;32m    115\u001b[0m     \"\"\"\n\u001b[0;32m--> 116\u001b[0;31m     \u001b[0mself\u001b[0m\u001b[0;34m.\u001b[0m\u001b[0m_preread_check\u001b[0m\u001b[0;34m(\u001b[0m\u001b[0;34m)\u001b[0m\u001b[0;34m\u001b[0m\u001b[0;34m\u001b[0m\u001b[0m\n\u001b[0m\u001b[1;32m    117\u001b[0m     \u001b[0;32mif\u001b[0m \u001b[0mn\u001b[0m \u001b[0;34m==\u001b[0m \u001b[0;34m-\u001b[0m\u001b[0;36m1\u001b[0m\u001b[0;34m:\u001b[0m\u001b[0;34m\u001b[0m\u001b[0;34m\u001b[0m\u001b[0m\n\u001b[1;32m    118\u001b[0m       \u001b[0mlength\u001b[0m \u001b[0;34m=\u001b[0m \u001b[0mself\u001b[0m\u001b[0;34m.\u001b[0m\u001b[0msize\u001b[0m\u001b[0;34m(\u001b[0m\u001b[0;34m)\u001b[0m \u001b[0;34m-\u001b[0m \u001b[0mself\u001b[0m\u001b[0;34m.\u001b[0m\u001b[0mtell\u001b[0m\u001b[0;34m(\u001b[0m\u001b[0;34m)\u001b[0m\u001b[0;34m\u001b[0m\u001b[0;34m\u001b[0m\u001b[0m\n",
            "\u001b[0;32m/usr/local/lib/python3.7/dist-packages/tensorflow/python/lib/io/file_io.py\u001b[0m in \u001b[0;36m_preread_check\u001b[0;34m(self)\u001b[0m\n\u001b[1;32m     77\u001b[0m                                            \"File isn't open for reading\")\n\u001b[1;32m     78\u001b[0m       self._read_buf = _pywrap_file_io.BufferedInputStream(\n\u001b[0;32m---> 79\u001b[0;31m           self.__name, 1024 * 512)\n\u001b[0m\u001b[1;32m     80\u001b[0m \u001b[0;34m\u001b[0m\u001b[0m\n\u001b[1;32m     81\u001b[0m   \u001b[0;32mdef\u001b[0m \u001b[0m_prewrite_check\u001b[0m\u001b[0;34m(\u001b[0m\u001b[0mself\u001b[0m\u001b[0;34m)\u001b[0m\u001b[0;34m:\u001b[0m\u001b[0;34m\u001b[0m\u001b[0;34m\u001b[0m\u001b[0m\n",
            "\u001b[0;31mNotFoundError\u001b[0m: drive/MyDrive/ct-bert/data/finetune/run_2021-11-24_08-24-14_193220_test_run/crowdbreaks/run_logs.json; No such file or directory"
          ]
        }
      ]
    },
    {
      "cell_type": "code",
      "metadata": {
        "id": "2QnVzUnQPSfD"
      },
      "source": [
        ""
      ],
      "execution_count": null,
      "outputs": []
    }
  ]
}