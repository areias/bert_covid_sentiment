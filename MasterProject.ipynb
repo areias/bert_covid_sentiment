{
  "nbformat": 4,
  "nbformat_minor": 0,
  "metadata": {
    "accelerator": "GPU",
    "colab": {
      "name": "MasterProject.ipynb",
      "provenance": [],
      "collapsed_sections": [],
      "machine_shape": "hm",
      "include_colab_link": true
    },
    "kernelspec": {
      "display_name": "Python 3",
      "name": "python3"
    },
    "language_info": {
      "name": "python"
    },
    "widgets": {
      "application/vnd.jupyter.widget-state+json": {
        "0dcf34dd397f4b979b56d48dce0833d1": {
          "model_module": "@jupyter-widgets/controls",
          "model_name": "VBoxModel",
          "model_module_version": "1.5.0",
          "state": {
            "_view_name": "VBoxView",
            "_dom_classes": [],
            "_model_name": "VBoxModel",
            "_view_module": "@jupyter-widgets/controls",
            "_model_module_version": "1.5.0",
            "_view_count": null,
            "_view_module_version": "1.5.0",
            "box_style": "",
            "layout": "IPY_MODEL_264ab4ae82ba4836a2d8b8056c87b3f7",
            "_model_module": "@jupyter-widgets/controls",
            "children": [
              "IPY_MODEL_79599a08bdc9470cbb607c0eb5bf42bd",
              "IPY_MODEL_2e0ab2bed93a444596307401e1b6bd45"
            ]
          }
        },
        "264ab4ae82ba4836a2d8b8056c87b3f7": {
          "model_module": "@jupyter-widgets/base",
          "model_name": "LayoutModel",
          "model_module_version": "1.2.0",
          "state": {
            "_view_name": "LayoutView",
            "grid_template_rows": null,
            "right": null,
            "justify_content": null,
            "_view_module": "@jupyter-widgets/base",
            "overflow": null,
            "_model_module_version": "1.2.0",
            "_view_count": null,
            "flex_flow": null,
            "width": null,
            "min_width": null,
            "border": null,
            "align_items": null,
            "bottom": null,
            "_model_module": "@jupyter-widgets/base",
            "top": null,
            "grid_column": null,
            "overflow_y": null,
            "overflow_x": null,
            "grid_auto_flow": null,
            "grid_area": null,
            "grid_template_columns": null,
            "flex": null,
            "_model_name": "LayoutModel",
            "justify_items": null,
            "grid_row": null,
            "max_height": null,
            "align_content": null,
            "visibility": null,
            "align_self": null,
            "height": null,
            "min_height": null,
            "padding": null,
            "grid_auto_rows": null,
            "grid_gap": null,
            "max_width": null,
            "order": null,
            "_view_module_version": "1.2.0",
            "grid_template_areas": null,
            "object_position": null,
            "object_fit": null,
            "grid_auto_columns": null,
            "margin": null,
            "display": null,
            "left": null
          }
        },
        "79599a08bdc9470cbb607c0eb5bf42bd": {
          "model_module": "@jupyter-widgets/controls",
          "model_name": "LabelModel",
          "model_module_version": "1.5.0",
          "state": {
            "_view_name": "LabelView",
            "style": "IPY_MODEL_bfa2ca9e796045b0a511cc490e11a926",
            "_dom_classes": [],
            "description": "",
            "_model_name": "LabelModel",
            "placeholder": "​",
            "_view_module": "@jupyter-widgets/controls",
            "_model_module_version": "1.5.0",
            "value": " 0.01MB of 0.01MB uploaded (0.00MB deduped)\r",
            "_view_count": null,
            "_view_module_version": "1.5.0",
            "description_tooltip": null,
            "_model_module": "@jupyter-widgets/controls",
            "layout": "IPY_MODEL_47ee1a17d9204f7ab2d58610f3b083ac"
          }
        },
        "2e0ab2bed93a444596307401e1b6bd45": {
          "model_module": "@jupyter-widgets/controls",
          "model_name": "FloatProgressModel",
          "model_module_version": "1.5.0",
          "state": {
            "_view_name": "ProgressView",
            "style": "IPY_MODEL_07fab218498242b7ba34de176ef300a6",
            "_dom_classes": [],
            "description": "",
            "_model_name": "FloatProgressModel",
            "bar_style": "",
            "max": 1,
            "_view_module": "@jupyter-widgets/controls",
            "_model_module_version": "1.5.0",
            "value": 1,
            "_view_count": null,
            "_view_module_version": "1.5.0",
            "orientation": "horizontal",
            "min": 0,
            "description_tooltip": null,
            "_model_module": "@jupyter-widgets/controls",
            "layout": "IPY_MODEL_3416da26c5354bb1a356386e09117f2c"
          }
        },
        "bfa2ca9e796045b0a511cc490e11a926": {
          "model_module": "@jupyter-widgets/controls",
          "model_name": "DescriptionStyleModel",
          "model_module_version": "1.5.0",
          "state": {
            "_view_name": "StyleView",
            "_model_name": "DescriptionStyleModel",
            "description_width": "",
            "_view_module": "@jupyter-widgets/base",
            "_model_module_version": "1.5.0",
            "_view_count": null,
            "_view_module_version": "1.2.0",
            "_model_module": "@jupyter-widgets/controls"
          }
        },
        "47ee1a17d9204f7ab2d58610f3b083ac": {
          "model_module": "@jupyter-widgets/base",
          "model_name": "LayoutModel",
          "model_module_version": "1.2.0",
          "state": {
            "_view_name": "LayoutView",
            "grid_template_rows": null,
            "right": null,
            "justify_content": null,
            "_view_module": "@jupyter-widgets/base",
            "overflow": null,
            "_model_module_version": "1.2.0",
            "_view_count": null,
            "flex_flow": null,
            "width": null,
            "min_width": null,
            "border": null,
            "align_items": null,
            "bottom": null,
            "_model_module": "@jupyter-widgets/base",
            "top": null,
            "grid_column": null,
            "overflow_y": null,
            "overflow_x": null,
            "grid_auto_flow": null,
            "grid_area": null,
            "grid_template_columns": null,
            "flex": null,
            "_model_name": "LayoutModel",
            "justify_items": null,
            "grid_row": null,
            "max_height": null,
            "align_content": null,
            "visibility": null,
            "align_self": null,
            "height": null,
            "min_height": null,
            "padding": null,
            "grid_auto_rows": null,
            "grid_gap": null,
            "max_width": null,
            "order": null,
            "_view_module_version": "1.2.0",
            "grid_template_areas": null,
            "object_position": null,
            "object_fit": null,
            "grid_auto_columns": null,
            "margin": null,
            "display": null,
            "left": null
          }
        },
        "07fab218498242b7ba34de176ef300a6": {
          "model_module": "@jupyter-widgets/controls",
          "model_name": "ProgressStyleModel",
          "model_module_version": "1.5.0",
          "state": {
            "_view_name": "StyleView",
            "_model_name": "ProgressStyleModel",
            "description_width": "",
            "_view_module": "@jupyter-widgets/base",
            "_model_module_version": "1.5.0",
            "_view_count": null,
            "_view_module_version": "1.2.0",
            "bar_color": null,
            "_model_module": "@jupyter-widgets/controls"
          }
        },
        "3416da26c5354bb1a356386e09117f2c": {
          "model_module": "@jupyter-widgets/base",
          "model_name": "LayoutModel",
          "model_module_version": "1.2.0",
          "state": {
            "_view_name": "LayoutView",
            "grid_template_rows": null,
            "right": null,
            "justify_content": null,
            "_view_module": "@jupyter-widgets/base",
            "overflow": null,
            "_model_module_version": "1.2.0",
            "_view_count": null,
            "flex_flow": null,
            "width": null,
            "min_width": null,
            "border": null,
            "align_items": null,
            "bottom": null,
            "_model_module": "@jupyter-widgets/base",
            "top": null,
            "grid_column": null,
            "overflow_y": null,
            "overflow_x": null,
            "grid_auto_flow": null,
            "grid_area": null,
            "grid_template_columns": null,
            "flex": null,
            "_model_name": "LayoutModel",
            "justify_items": null,
            "grid_row": null,
            "max_height": null,
            "align_content": null,
            "visibility": null,
            "align_self": null,
            "height": null,
            "min_height": null,
            "padding": null,
            "grid_auto_rows": null,
            "grid_gap": null,
            "max_width": null,
            "order": null,
            "_view_module_version": "1.2.0",
            "grid_template_areas": null,
            "object_position": null,
            "object_fit": null,
            "grid_auto_columns": null,
            "margin": null,
            "display": null,
            "left": null
          }
        },
        "96d92d3e1fbd4a369b981251d552103e": {
          "model_module": "@jupyter-widgets/controls",
          "model_name": "VBoxModel",
          "model_module_version": "1.5.0",
          "state": {
            "_dom_classes": [],
            "_model_module": "@jupyter-widgets/controls",
            "_model_module_version": "1.5.0",
            "_model_name": "VBoxModel",
            "_view_count": null,
            "_view_module": "@jupyter-widgets/controls",
            "_view_module_version": "1.5.0",
            "_view_name": "VBoxView",
            "box_style": "",
            "children": [
              "IPY_MODEL_03ae37f240af4a1aa40f3fa945b833ca",
              "IPY_MODEL_87558eb700de4921ae8445e43ef54a1f"
            ],
            "layout": "IPY_MODEL_d8bbe9daea0c4f1484e2351a3e6eb2a9"
          }
        },
        "03ae37f240af4a1aa40f3fa945b833ca": {
          "model_module": "@jupyter-widgets/controls",
          "model_name": "LabelModel",
          "model_module_version": "1.5.0",
          "state": {
            "_dom_classes": [],
            "_model_module": "@jupyter-widgets/controls",
            "_model_module_version": "1.5.0",
            "_model_name": "LabelModel",
            "_view_count": null,
            "_view_module": "@jupyter-widgets/controls",
            "_view_module_version": "1.5.0",
            "_view_name": "LabelView",
            "description": "",
            "description_tooltip": null,
            "layout": "IPY_MODEL_0c59a1b91a734d959aa845f267c81944",
            "placeholder": "​",
            "style": "IPY_MODEL_30a94657f10a46c5864b6bde48945602",
            "value": " 0.01MB of 0.01MB uploaded (0.00MB deduped)\r"
          }
        },
        "87558eb700de4921ae8445e43ef54a1f": {
          "model_module": "@jupyter-widgets/controls",
          "model_name": "FloatProgressModel",
          "model_module_version": "1.5.0",
          "state": {
            "_dom_classes": [],
            "_model_module": "@jupyter-widgets/controls",
            "_model_module_version": "1.5.0",
            "_model_name": "FloatProgressModel",
            "_view_count": null,
            "_view_module": "@jupyter-widgets/controls",
            "_view_module_version": "1.5.0",
            "_view_name": "ProgressView",
            "bar_style": "",
            "description": "",
            "description_tooltip": null,
            "layout": "IPY_MODEL_13ae2cdd79834ea7839b9d419dc1d76d",
            "max": 1,
            "min": 0,
            "orientation": "horizontal",
            "style": "IPY_MODEL_33387770239549daa49e5954b5bcc93b",
            "value": 1
          }
        },
        "d8bbe9daea0c4f1484e2351a3e6eb2a9": {
          "model_module": "@jupyter-widgets/base",
          "model_name": "LayoutModel",
          "model_module_version": "1.2.0",
          "state": {
            "_model_module": "@jupyter-widgets/base",
            "_model_module_version": "1.2.0",
            "_model_name": "LayoutModel",
            "_view_count": null,
            "_view_module": "@jupyter-widgets/base",
            "_view_module_version": "1.2.0",
            "_view_name": "LayoutView",
            "align_content": null,
            "align_items": null,
            "align_self": null,
            "border": null,
            "bottom": null,
            "display": null,
            "flex": null,
            "flex_flow": null,
            "grid_area": null,
            "grid_auto_columns": null,
            "grid_auto_flow": null,
            "grid_auto_rows": null,
            "grid_column": null,
            "grid_gap": null,
            "grid_row": null,
            "grid_template_areas": null,
            "grid_template_columns": null,
            "grid_template_rows": null,
            "height": null,
            "justify_content": null,
            "justify_items": null,
            "left": null,
            "margin": null,
            "max_height": null,
            "max_width": null,
            "min_height": null,
            "min_width": null,
            "object_fit": null,
            "object_position": null,
            "order": null,
            "overflow": null,
            "overflow_x": null,
            "overflow_y": null,
            "padding": null,
            "right": null,
            "top": null,
            "visibility": null,
            "width": null
          }
        },
        "0c59a1b91a734d959aa845f267c81944": {
          "model_module": "@jupyter-widgets/base",
          "model_name": "LayoutModel",
          "model_module_version": "1.2.0",
          "state": {
            "_model_module": "@jupyter-widgets/base",
            "_model_module_version": "1.2.0",
            "_model_name": "LayoutModel",
            "_view_count": null,
            "_view_module": "@jupyter-widgets/base",
            "_view_module_version": "1.2.0",
            "_view_name": "LayoutView",
            "align_content": null,
            "align_items": null,
            "align_self": null,
            "border": null,
            "bottom": null,
            "display": null,
            "flex": null,
            "flex_flow": null,
            "grid_area": null,
            "grid_auto_columns": null,
            "grid_auto_flow": null,
            "grid_auto_rows": null,
            "grid_column": null,
            "grid_gap": null,
            "grid_row": null,
            "grid_template_areas": null,
            "grid_template_columns": null,
            "grid_template_rows": null,
            "height": null,
            "justify_content": null,
            "justify_items": null,
            "left": null,
            "margin": null,
            "max_height": null,
            "max_width": null,
            "min_height": null,
            "min_width": null,
            "object_fit": null,
            "object_position": null,
            "order": null,
            "overflow": null,
            "overflow_x": null,
            "overflow_y": null,
            "padding": null,
            "right": null,
            "top": null,
            "visibility": null,
            "width": null
          }
        },
        "30a94657f10a46c5864b6bde48945602": {
          "model_module": "@jupyter-widgets/controls",
          "model_name": "DescriptionStyleModel",
          "model_module_version": "1.5.0",
          "state": {
            "_model_module": "@jupyter-widgets/controls",
            "_model_module_version": "1.5.0",
            "_model_name": "DescriptionStyleModel",
            "_view_count": null,
            "_view_module": "@jupyter-widgets/base",
            "_view_module_version": "1.2.0",
            "_view_name": "StyleView",
            "description_width": ""
          }
        },
        "13ae2cdd79834ea7839b9d419dc1d76d": {
          "model_module": "@jupyter-widgets/base",
          "model_name": "LayoutModel",
          "model_module_version": "1.2.0",
          "state": {
            "_model_module": "@jupyter-widgets/base",
            "_model_module_version": "1.2.0",
            "_model_name": "LayoutModel",
            "_view_count": null,
            "_view_module": "@jupyter-widgets/base",
            "_view_module_version": "1.2.0",
            "_view_name": "LayoutView",
            "align_content": null,
            "align_items": null,
            "align_self": null,
            "border": null,
            "bottom": null,
            "display": null,
            "flex": null,
            "flex_flow": null,
            "grid_area": null,
            "grid_auto_columns": null,
            "grid_auto_flow": null,
            "grid_auto_rows": null,
            "grid_column": null,
            "grid_gap": null,
            "grid_row": null,
            "grid_template_areas": null,
            "grid_template_columns": null,
            "grid_template_rows": null,
            "height": null,
            "justify_content": null,
            "justify_items": null,
            "left": null,
            "margin": null,
            "max_height": null,
            "max_width": null,
            "min_height": null,
            "min_width": null,
            "object_fit": null,
            "object_position": null,
            "order": null,
            "overflow": null,
            "overflow_x": null,
            "overflow_y": null,
            "padding": null,
            "right": null,
            "top": null,
            "visibility": null,
            "width": null
          }
        },
        "33387770239549daa49e5954b5bcc93b": {
          "model_module": "@jupyter-widgets/controls",
          "model_name": "ProgressStyleModel",
          "model_module_version": "1.5.0",
          "state": {
            "_model_module": "@jupyter-widgets/controls",
            "_model_module_version": "1.5.0",
            "_model_name": "ProgressStyleModel",
            "_view_count": null,
            "_view_module": "@jupyter-widgets/base",
            "_view_module_version": "1.2.0",
            "_view_name": "StyleView",
            "bar_color": null,
            "description_width": ""
          }
        }
      }
    }
  },
  "cells": [
    {
      "cell_type": "markdown",
      "metadata": {
        "id": "view-in-github",
        "colab_type": "text"
      },
      "source": [
        "<a href=\"https://colab.research.google.com/github/areias/bert_covid_sentiment/blob/main/MasterProject.ipynb\" target=\"_parent\"><img src=\"https://colab.research.google.com/assets/colab-badge.svg\" alt=\"Open In Colab\"/></a>"
      ]
    },
    {
      "cell_type": "markdown",
      "metadata": {
        "id": "hD7OlPx3qbUs"
      },
      "source": [
        "Import packages"
      ]
    },
    {
      "cell_type": "code",
      "metadata": {
        "id": "03ErcOaAqTmM"
      },
      "source": [
        "from IPython.display import clear_output\n",
        "\n",
        "!pip install transformers\n",
        "!pip install wandb\n",
        "\n",
        "clear_output()"
      ],
      "execution_count": null,
      "outputs": []
    },
    {
      "cell_type": "code",
      "metadata": {
        "id": "awmo5gEcqTUB"
      },
      "source": [
        "from datetime import datetime\n",
        "import wandb\n",
        "import numpy as np\n",
        "import pandas as pd\n",
        "import torch\n",
        "from sklearn.model_selection import train_test_split\n",
        "from tensorflow.keras.preprocessing.sequence import pad_sequences\n",
        "from transformers import (\n",
        "    AutoConfig,\n",
        "    AutoTokenizer,\n",
        "    TFAutoModelForSequenceClassification,\n",
        "    AdamW,\n",
        "    glue_convert_examples_to_features\n",
        ")\n",
        "import tensorflow as tf\n",
        "import json"
      ],
      "execution_count": null,
      "outputs": []
    },
    {
      "cell_type": "code",
      "metadata": {
        "id": "Solvr4iXR9vs"
      },
      "source": [
        "class Training:\n",
        "\n",
        "    def __init__(self, name, project_name, folder_name, learning_rate):\n",
        "        self.model_name = 'digitalepidemiologylab/covid-twitter-bert-v2'\n",
        "        self.wandb = wandb \n",
        "        self.wandb.init(name=name, project=project_name)\n",
        "        self.folder_name = folder_name\n",
        "        self.learning_rate = learning_rate\n",
        "        self.set_model()\n",
        "\n",
        "    def set_model(self):\n",
        "        # Grab config & model\n",
        "        config = AutoConfig.from_pretrained(self.model_name, num_labels=3)\n",
        "        self.model = TFAutoModelForSequenceClassification.from_pretrained(self.model_name, config=config)\n",
        "\n",
        "        # Optimizer and loss\n",
        "        optimizer = tf.keras.optimizers.Adam(\n",
        "                                             init_lr=3e-5,\n",
        "                                          num_train_steps=17010,\n",
        "                                          num_warmup_steps=int(17010*0.1),)\n",
        "        loss = tf.keras.losses.SparseCategoricalCrossentropy(from_logits=True)\n",
        "\n",
        "        # Metrics and callbacks\n",
        "        metrics = [tf.keras.metrics.SparseCategoricalAccuracy('accuracy', dtype=tf.float32)]\n",
        "        checkpoint_path = './checkpoints/checkpoint.{epoch:02d}'\n",
        "        callbacks = [tf.keras.callbacks.ModelCheckpoint(checkpoint_path, save_weights_only=True)]\n",
        "\n",
        "        # Compile model\n",
        "        self.model.compile(optimizer=optimizer, loss=loss, metrics=metrics)\n",
        "\n",
        "\n",
        "    def tokenize(self, data):\n",
        "        tokenizer = AutoTokenizer.from_pretrained(self.model_name, normalization=True)\n",
        "        tokens = []\n",
        "        for t in data['text']:\n",
        "            tokens.append(tokenizer.encode(t))\n",
        "\n",
        "        tokens_padded = pad_sequences(tokens)\n",
        "        return np.array(tokens_padded)\n",
        "    \n",
        "    def get_labels(self, data):\n",
        "        labels = []\n",
        "        for l in data['label']:\n",
        "            if (l == -1):\n",
        "                labels.append(0)\n",
        "            elif (l == 0):\n",
        "                labels.append(1)\n",
        "            elif (l == 1):\n",
        "                labels.append(2)\n",
        "        return np.array(labels)\n",
        "\n",
        "    def preprocess(self, data):\n",
        "        tokenizer = AutoTokenizer.from_pretrained(self.model_name, normalization=True)\n",
        "        tokens = []\n",
        "        for t in data['text']:\n",
        "            tokens.append(tokenizer.encode(t))\n",
        "\n",
        "        tokens_padded = pad_sequences(tokens)\n",
        "        labels = []\n",
        "        for l in data['label']:\n",
        "            if (l == -1):\n",
        "                labels.append(0)\n",
        "            elif (l == 0):\n",
        "                labels.append(1)\n",
        "            elif (l == 1):\n",
        "                labels.append(2)\n",
        "        X = np.array(tokens_padded)\n",
        "        Y = np.array(labels)\n",
        "\n",
        "        return X, Y\n",
        "\n",
        "    def save_model(self):\n",
        "        self.model.save_pretrained(self.folder_name)\n",
        "        self.tokenizer.save_pretrained(self.folder_name)\n",
        "\n",
        "    def predict(self, data):\n",
        "        X = self.tokenize(data)\n",
        "\n",
        "        hyp = self.model.predict(X)\n",
        "        l1 = tf.nn.softmax(hyp.logits, axis=0)\n",
        "        l2 = tf.nn.softmax(hyp.logits, axis=1)\n",
        "        rs = tf.reduce_sum([l1, l2], 0)\n",
        "        preds = []\n",
        "        for r in rs:\n",
        "          preds.append(np.argmax(r))\n",
        "\n",
        "        return preds\n",
        "\n",
        "    def train_model(self, data, num_epochs, bs):\n",
        "\n",
        "        X = self.tokenize(data)\n",
        "        Y = self.get_labels(data)\n",
        "        self.num_epochs = num_epochs\n",
        "\n",
        "        # Train the model\n",
        "        history = self.model.fit(init_lr=init_lr, x=X, y=Y, epochs=num_epochs, batch_size=bs)\n",
        "\n",
        "        for each in range(len(history.history[\"loss\"])):\n",
        "          wandb.log({\n",
        "          \"Epoch\": each+1,\n",
        "          \"Optimizer\":\"Adam\",\n",
        "          \"loss\": \"SparseCategoricalCrossentropy\",\n",
        "          \"Train Acc\": history.history[\"accuracy\"][each],\n",
        "          \"Valid Loss\": history.history[\"loss\"][each],})\n",
        "\n",
        "        return history"
      ],
      "execution_count": null,
      "outputs": []
    },
    {
      "cell_type": "code",
      "metadata": {
        "colab": {
          "base_uri": "https://localhost:8080/",
          "height": 1000,
          "referenced_widgets": [
            "0dcf34dd397f4b979b56d48dce0833d1",
            "264ab4ae82ba4836a2d8b8056c87b3f7",
            "79599a08bdc9470cbb607c0eb5bf42bd",
            "2e0ab2bed93a444596307401e1b6bd45",
            "bfa2ca9e796045b0a511cc490e11a926",
            "47ee1a17d9204f7ab2d58610f3b083ac",
            "07fab218498242b7ba34de176ef300a6",
            "3416da26c5354bb1a356386e09117f2c"
          ]
        },
        "id": "zR2tD7bjqRyO",
        "outputId": "c8b5c291-48dc-46d7-dc7b-8ae6710aac3a"
      },
      "source": [
        "!wandb login\n",
        "\n",
        "data = pd.read_csv('train.csv', lineterminator='\\n')\n",
        "\n",
        "# input data split\n",
        "data.groupby(['label']).size().plot(kind = 'bar')\n",
        "\n",
        "data = data[['text', 'label']]\n",
        "t = data\n",
        "\n",
        "train_x, test_x, train_y, test_y = train_test_split(data[['text']], data[['label']], test_size=0.2, random_state=42)\n",
        "\n",
        "train_x[\"label\"] = train_y[\"label\"]\n",
        "train = train_x\n",
        "test_x[\"label\"] = test_y[\"label\"]\n",
        "test = test_x\n",
        "bs1 = 8\n",
        "lr = 0.01\n",
        "a = Training(name=\"MastersProject-Adadelta-LR-\"+str(lr), project_name=\"covid-analysis\", folder_name=\"./saved_model\", learning_rate=lr)\n",
        "x = a.train_model(data=train,\n",
        "                  num_epochs=5,\n",
        "                  bs=bs1)\n",
        "lr = 0.001\n",
        "a = Training(name=\"MastersProject-Adadelta-LR-\"+str(lr), project_name=\"covid-analysis\", folder_name=\"./saved_model\", learning_rate=lr)\n",
        "x = a.train_model(data=train,\n",
        "                  num_epochs=5,\n",
        "                  bs=bs1)\n",
        "lr = 0.02\n",
        "a = Training(name=\"MastersProject-Adadelta-LR-\"+str(lr), project_name=\"covid-analysis\", folder_name=\"./saved_model\", learning_rate=lr)\n",
        "x = a.train_model(data=train,\n",
        "                  num_epochs=5,\n",
        "                  bs=bs1)\n",
        "lr = 0.002\n",
        "a = Training(name=\"MastersProject-Adadelta-LR-\"+str(lr), project_name=\"covid-analysis\", folder_name=\"./saved_model\", learning_rate=lr)\n",
        "x = a.train_model(data=train,\n",
        "                  num_epochs=5,\n",
        "                  bs=bs1)\n",
        "lr = 0.03\n",
        "a = Training(name=\"MastersProject-Adadelta-LR-\"+str(lr), project_name=\"covid-analysis\", folder_name=\"./saved_model\", learning_rate=lr)\n",
        "x = a.train_model(data=train,\n",
        "                  num_epochs=5,\n",
        "                  bs=bs1)\n",
        "lr = 0.003\n",
        "a = Training(name=\"MastersProject-Adadelta-LR-\"+str(lr), project_name=\"covid-analysis\", folder_name=\"./saved_model\", learning_rate=lr)\n",
        "x = a.train_model(data=train,\n",
        "                  num_epochs=5,\n",
        "                  bs=bs1)\n",
        "\n",
        "lr = 0.1\n",
        "a = Training(name=\"MastersProject-Adadelta-LR-\"+str(lr), project_name=\"covid-analysis\", folder_name=\"./saved_model\", learning_rate=lr)\n",
        "x = a.train_model(data=train,\n",
        "                  num_epochs=5,\n",
        "                  bs=bs1)\n",
        "lr = 0.05\n",
        "a = Training(name=\"MastersProject-Adadelta-LR-\"+str(lr), project_name=\"covid-analysis\", folder_name=\"./saved_model\", learning_rate=lr)\n",
        "x = a.train_model(data=train,\n",
        "                  num_epochs=5,\n",
        "                  bs=bs1)"
      ],
      "execution_count": null,
      "outputs": [
        {
          "output_type": "stream",
          "name": "stdout",
          "text": [
            "\u001b[34m\u001b[1mwandb\u001b[0m: Currently logged in as: \u001b[33mkuul-guy\u001b[0m (use `wandb login --relogin` to force relogin)\n"
          ]
        },
        {
          "output_type": "display_data",
          "data": {
            "text/html": [
              "Finishing last run (ID:opfc6ysa) before initializing another..."
            ],
            "text/plain": [
              "<IPython.core.display.HTML object>"
            ]
          },
          "metadata": {}
        },
        {
          "output_type": "display_data",
          "data": {
            "text/html": [
              "<br/>Waiting for W&B process to finish, PID 739... <strong style=\"color:green\">(success).</strong>"
            ],
            "text/plain": [
              "<IPython.core.display.HTML object>"
            ]
          },
          "metadata": {}
        },
        {
          "output_type": "display_data",
          "data": {
            "application/vnd.jupyter.widget-view+json": {
              "model_id": "0dcf34dd397f4b979b56d48dce0833d1",
              "version_minor": 0,
              "version_major": 2
            },
            "text/plain": [
              "VBox(children=(Label(value=' 0.00MB of 0.00MB uploaded (0.00MB deduped)\\r'), FloatProgress(value=1.0, max=1.0)…"
            ]
          },
          "metadata": {}
        },
        {
          "output_type": "display_data",
          "data": {
            "text/html": [
              "<style>\n",
              "    table.wandb td:nth-child(1) { padding: 0 10px; text-align: right }\n",
              "    .wandb-row { display: flex; flex-direction: row; flex-wrap: wrap; width: 100% }\n",
              "    .wandb-col { display: flex; flex-direction: column; flex-basis: 100%; flex: 1; padding: 10px; }\n",
              "    </style>\n",
              "<div class=\"wandb-row\"><div class=\"wandb-col\">\n",
              "<h3>Run history:</h3><br/><table class=\"wandb\"><tr><td>Epoch</td><td>▁▃▅▆█</td></tr><tr><td>Train Acc</td><td>▆█▁▄▆</td></tr><tr><td>Valid Loss</td><td>▄▇▆█▁</td></tr></table><br/></div><div class=\"wandb-col\">\n",
              "<h3>Run summary:</h3><br/><table class=\"wandb\"><tr><td>Epoch</td><td>5</td></tr><tr><td>Optimizer</td><td>Adam</td></tr><tr><td>Train Acc</td><td>0.33333</td></tr><tr><td>Valid Loss</td><td>9.03234</td></tr><tr><td>loss</td><td>SparseCategoricalCro...</td></tr></table>\n",
              "</div></div>\n",
              "Synced 5 W&B file(s), 0 media file(s), 0 artifact file(s) and 0 other file(s)\n",
              "<br/>Synced <strong style=\"color:#cdcd00\">MastersProject-Adadelta-LR-0.05</strong>: <a href=\"https://wandb.ai/kuul-guy/covid-analysis/runs/opfc6ysa\" target=\"_blank\">https://wandb.ai/kuul-guy/covid-analysis/runs/opfc6ysa</a><br/>\n",
              "Find logs at: <code>./wandb/run-20211115_235735-opfc6ysa/logs</code><br/>\n"
            ],
            "text/plain": [
              "<IPython.core.display.HTML object>"
            ]
          },
          "metadata": {}
        },
        {
          "output_type": "display_data",
          "data": {
            "text/html": [
              "Successfully finished last run (ID:opfc6ysa). Initializing new run:<br/>"
            ],
            "text/plain": [
              "<IPython.core.display.HTML object>"
            ]
          },
          "metadata": {}
        },
        {
          "output_type": "display_data",
          "data": {
            "text/html": [
              "\n",
              "                    Syncing run <strong><a href=\"https://wandb.ai/kuul-guy/covid-analysis/runs/ui5rfoyi\" target=\"_blank\">MastersProject-Adadelta-LR-0.01</a></strong> to <a href=\"https://wandb.ai/kuul-guy/covid-analysis\" target=\"_blank\">Weights & Biases</a> (<a href=\"https://docs.wandb.com/integrations/jupyter.html\" target=\"_blank\">docs</a>).<br/>\n",
              "\n",
              "                "
            ],
            "text/plain": [
              "<IPython.core.display.HTML object>"
            ]
          },
          "metadata": {}
        },
        {
          "output_type": "stream",
          "name": "stderr",
          "text": [
            "All model checkpoint layers were used when initializing TFBertForSequenceClassification.\n",
            "\n",
            "Some layers of TFBertForSequenceClassification were not initialized from the model checkpoint at digitalepidemiologylab/covid-twitter-bert-v2 and are newly initialized: ['classifier']\n",
            "You should probably TRAIN this model on a down-stream task to be able to use it for predictions and inference.\n"
          ]
        },
        {
          "output_type": "error",
          "ename": "TypeError",
          "evalue": "ignored",
          "traceback": [
            "\u001b[0;31m---------------------------------------------------------------------------\u001b[0m",
            "\u001b[0;31mTypeError\u001b[0m                                 Traceback (most recent call last)",
            "\u001b[0;32m<ipython-input-15-0eb5ae4fc4b0>\u001b[0m in \u001b[0;36m<module>\u001b[0;34m()\u001b[0m\n\u001b[1;32m     17\u001b[0m \u001b[0mbs1\u001b[0m \u001b[0;34m=\u001b[0m \u001b[0;36m8\u001b[0m\u001b[0;34m\u001b[0m\u001b[0;34m\u001b[0m\u001b[0m\n\u001b[1;32m     18\u001b[0m \u001b[0mlr\u001b[0m \u001b[0;34m=\u001b[0m \u001b[0;36m0.01\u001b[0m\u001b[0;34m\u001b[0m\u001b[0;34m\u001b[0m\u001b[0m\n\u001b[0;32m---> 19\u001b[0;31m \u001b[0ma\u001b[0m \u001b[0;34m=\u001b[0m \u001b[0mTraining\u001b[0m\u001b[0;34m(\u001b[0m\u001b[0mname\u001b[0m\u001b[0;34m=\u001b[0m\u001b[0;34m\"MastersProject-Adadelta-LR-\"\u001b[0m\u001b[0;34m+\u001b[0m\u001b[0mstr\u001b[0m\u001b[0;34m(\u001b[0m\u001b[0mlr\u001b[0m\u001b[0;34m)\u001b[0m\u001b[0;34m,\u001b[0m \u001b[0mproject_name\u001b[0m\u001b[0;34m=\u001b[0m\u001b[0;34m\"covid-analysis\"\u001b[0m\u001b[0;34m,\u001b[0m \u001b[0mfolder_name\u001b[0m\u001b[0;34m=\u001b[0m\u001b[0;34m\"./saved_model\"\u001b[0m\u001b[0;34m,\u001b[0m \u001b[0mlearning_rate\u001b[0m\u001b[0;34m=\u001b[0m\u001b[0mlr\u001b[0m\u001b[0;34m)\u001b[0m\u001b[0;34m\u001b[0m\u001b[0;34m\u001b[0m\u001b[0m\n\u001b[0m\u001b[1;32m     20\u001b[0m x = a.train_model(data=train,\n\u001b[1;32m     21\u001b[0m                   \u001b[0mnum_epochs\u001b[0m\u001b[0;34m=\u001b[0m\u001b[0;36m5\u001b[0m\u001b[0;34m,\u001b[0m\u001b[0;34m\u001b[0m\u001b[0;34m\u001b[0m\u001b[0m\n",
            "\u001b[0;32m<ipython-input-14-c38a1591a35b>\u001b[0m in \u001b[0;36m__init__\u001b[0;34m(self, name, project_name, folder_name, learning_rate)\u001b[0m\n\u001b[1;32m      7\u001b[0m         \u001b[0mself\u001b[0m\u001b[0;34m.\u001b[0m\u001b[0mfolder_name\u001b[0m \u001b[0;34m=\u001b[0m \u001b[0mfolder_name\u001b[0m\u001b[0;34m\u001b[0m\u001b[0;34m\u001b[0m\u001b[0m\n\u001b[1;32m      8\u001b[0m         \u001b[0mself\u001b[0m\u001b[0;34m.\u001b[0m\u001b[0mlearning_rate\u001b[0m \u001b[0;34m=\u001b[0m \u001b[0mlearning_rate\u001b[0m\u001b[0;34m\u001b[0m\u001b[0;34m\u001b[0m\u001b[0m\n\u001b[0;32m----> 9\u001b[0;31m         \u001b[0mself\u001b[0m\u001b[0;34m.\u001b[0m\u001b[0mset_model\u001b[0m\u001b[0;34m(\u001b[0m\u001b[0;34m)\u001b[0m\u001b[0;34m\u001b[0m\u001b[0;34m\u001b[0m\u001b[0m\n\u001b[0m\u001b[1;32m     10\u001b[0m \u001b[0;34m\u001b[0m\u001b[0m\n\u001b[1;32m     11\u001b[0m     \u001b[0;32mdef\u001b[0m \u001b[0mset_model\u001b[0m\u001b[0;34m(\u001b[0m\u001b[0mself\u001b[0m\u001b[0;34m)\u001b[0m\u001b[0;34m:\u001b[0m\u001b[0;34m\u001b[0m\u001b[0;34m\u001b[0m\u001b[0m\n",
            "\u001b[0;32m<ipython-input-14-c38a1591a35b>\u001b[0m in \u001b[0;36mset_model\u001b[0;34m(self)\u001b[0m\n\u001b[1;32m     18\u001b[0m                                              \u001b[0minit_lr\u001b[0m\u001b[0;34m=\u001b[0m\u001b[0;36m3e-5\u001b[0m\u001b[0;34m,\u001b[0m\u001b[0;34m\u001b[0m\u001b[0;34m\u001b[0m\u001b[0m\n\u001b[1;32m     19\u001b[0m                                           \u001b[0mnum_train_steps\u001b[0m\u001b[0;34m=\u001b[0m\u001b[0;36m17010\u001b[0m\u001b[0;34m,\u001b[0m\u001b[0;34m\u001b[0m\u001b[0;34m\u001b[0m\u001b[0m\n\u001b[0;32m---> 20\u001b[0;31m                                           num_warmup_steps=int(17010*0.1),)\n\u001b[0m\u001b[1;32m     21\u001b[0m         \u001b[0mloss\u001b[0m \u001b[0;34m=\u001b[0m \u001b[0mtf\u001b[0m\u001b[0;34m.\u001b[0m\u001b[0mkeras\u001b[0m\u001b[0;34m.\u001b[0m\u001b[0mlosses\u001b[0m\u001b[0;34m.\u001b[0m\u001b[0mSparseCategoricalCrossentropy\u001b[0m\u001b[0;34m(\u001b[0m\u001b[0mfrom_logits\u001b[0m\u001b[0;34m=\u001b[0m\u001b[0;32mTrue\u001b[0m\u001b[0;34m)\u001b[0m\u001b[0;34m\u001b[0m\u001b[0;34m\u001b[0m\u001b[0m\n\u001b[1;32m     22\u001b[0m \u001b[0;34m\u001b[0m\u001b[0m\n",
            "\u001b[0;32m/usr/local/lib/python3.7/dist-packages/keras/optimizer_v2/adam.py\u001b[0m in \u001b[0;36m__init__\u001b[0;34m(self, learning_rate, beta_1, beta_2, epsilon, amsgrad, name, **kwargs)\u001b[0m\n\u001b[1;32m    103\u001b[0m                \u001b[0mname\u001b[0m\u001b[0;34m=\u001b[0m\u001b[0;34m'Adam'\u001b[0m\u001b[0;34m,\u001b[0m\u001b[0;34m\u001b[0m\u001b[0;34m\u001b[0m\u001b[0m\n\u001b[1;32m    104\u001b[0m                **kwargs):\n\u001b[0;32m--> 105\u001b[0;31m     \u001b[0msuper\u001b[0m\u001b[0;34m(\u001b[0m\u001b[0mAdam\u001b[0m\u001b[0;34m,\u001b[0m \u001b[0mself\u001b[0m\u001b[0;34m)\u001b[0m\u001b[0;34m.\u001b[0m\u001b[0m__init__\u001b[0m\u001b[0;34m(\u001b[0m\u001b[0mname\u001b[0m\u001b[0;34m,\u001b[0m \u001b[0;34m**\u001b[0m\u001b[0mkwargs\u001b[0m\u001b[0;34m)\u001b[0m\u001b[0;34m\u001b[0m\u001b[0;34m\u001b[0m\u001b[0m\n\u001b[0m\u001b[1;32m    106\u001b[0m     \u001b[0mself\u001b[0m\u001b[0;34m.\u001b[0m\u001b[0m_set_hyper\u001b[0m\u001b[0;34m(\u001b[0m\u001b[0;34m'learning_rate'\u001b[0m\u001b[0;34m,\u001b[0m \u001b[0mkwargs\u001b[0m\u001b[0;34m.\u001b[0m\u001b[0mget\u001b[0m\u001b[0;34m(\u001b[0m\u001b[0;34m'lr'\u001b[0m\u001b[0;34m,\u001b[0m \u001b[0mlearning_rate\u001b[0m\u001b[0;34m)\u001b[0m\u001b[0;34m)\u001b[0m\u001b[0;34m\u001b[0m\u001b[0;34m\u001b[0m\u001b[0m\n\u001b[1;32m    107\u001b[0m     \u001b[0mself\u001b[0m\u001b[0;34m.\u001b[0m\u001b[0m_set_hyper\u001b[0m\u001b[0;34m(\u001b[0m\u001b[0;34m'decay'\u001b[0m\u001b[0;34m,\u001b[0m \u001b[0mself\u001b[0m\u001b[0;34m.\u001b[0m\u001b[0m_initial_decay\u001b[0m\u001b[0;34m)\u001b[0m\u001b[0;34m\u001b[0m\u001b[0;34m\u001b[0m\u001b[0m\n",
            "\u001b[0;32m/usr/local/lib/python3.7/dist-packages/keras/optimizer_v2/optimizer_v2.py\u001b[0m in \u001b[0;36m__init__\u001b[0;34m(self, name, gradient_aggregator, gradient_transformers, **kwargs)\u001b[0m\n\u001b[1;32m    347\u001b[0m     \u001b[0;32mfor\u001b[0m \u001b[0mk\u001b[0m \u001b[0;32min\u001b[0m \u001b[0mkwargs\u001b[0m\u001b[0;34m:\u001b[0m\u001b[0;34m\u001b[0m\u001b[0;34m\u001b[0m\u001b[0m\n\u001b[1;32m    348\u001b[0m       \u001b[0;32mif\u001b[0m \u001b[0mk\u001b[0m \u001b[0;32mnot\u001b[0m \u001b[0;32min\u001b[0m \u001b[0mallowed_kwargs\u001b[0m\u001b[0;34m:\u001b[0m\u001b[0;34m\u001b[0m\u001b[0;34m\u001b[0m\u001b[0m\n\u001b[0;32m--> 349\u001b[0;31m         raise TypeError(\"Unexpected keyword argument \"\n\u001b[0m\u001b[1;32m    350\u001b[0m                         \u001b[0;34mf\"passed to optimizer: {str(k)}. Allowed kwargs are \"\u001b[0m\u001b[0;34m\u001b[0m\u001b[0;34m\u001b[0m\u001b[0m\n\u001b[1;32m    351\u001b[0m                         f\"{allowed_kwargs}.\")\n",
            "\u001b[0;31mTypeError\u001b[0m: Unexpected keyword argument passed to optimizer: init_lr. Allowed kwargs are {'clipvalue', 'global_clipnorm', 'decay', 'clipnorm', 'lr'}."
          ]
        },
        {
          "output_type": "display_data",
          "data": {
            "image/png": "[encoded data removed]",
            "text/plain": [
              "<Figure size 432x288 with 1 Axes>"
            ]
          },
          "metadata": {
            "needs_background": "light"
          }
        }
      ]
    },
    {
      "cell_type": "code",
      "metadata": {
        "colab": {
          "base_uri": "https://localhost:8080/",
          "height": 261,
          "referenced_widgets": [
            "96d92d3e1fbd4a369b981251d552103e",
            "03ae37f240af4a1aa40f3fa945b833ca",
            "87558eb700de4921ae8445e43ef54a1f",
            "d8bbe9daea0c4f1484e2351a3e6eb2a9",
            "0c59a1b91a734d959aa845f267c81944",
            "30a94657f10a46c5864b6bde48945602",
            "13ae2cdd79834ea7839b9d419dc1d76d",
            "33387770239549daa49e5954b5bcc93b"
          ]
        },
        "id": "h7FkyqCQhHyq",
        "outputId": "b5ae9071-a9a9-4427-931b-ba2bbd4ae39e"
      },
      "source": [
        "a1 = Training(name=\"MastersProject1\", project_name=\"covid-analysis\", folder_name=\"./saved_model\", learning_rate=0.01)\n",
        "qw = a1.predict(train[[\"text\"]])"
      ],
      "execution_count": null,
      "outputs": [
        {
          "data": {
            "text/html": [
              "Finishing last run (ID:1gcvpws5) before initializing another..."
            ],
            "text/plain": [
              "<IPython.core.display.HTML object>"
            ]
          },
          "metadata": {},
          "output_type": "display_data"
        },
        {
          "data": {
            "text/html": [
              "<br/>Waiting for W&B process to finish, PID 1508... <strong style=\"color:green\">(success).</strong>"
            ],
            "text/plain": [
              "<IPython.core.display.HTML object>"
            ]
          },
          "metadata": {},
          "output_type": "display_data"
        },
        {
          "data": {
            "application/vnd.jupyter.widget-view+json": {
              "model_id": "96d92d3e1fbd4a369b981251d552103e",
              "version_major": 2,
              "version_minor": 0
            },
            "text/plain": [
              "VBox(children=(Label(value=' 0.00MB of 0.00MB uploaded (0.00MB deduped)\\r'), FloatProgress(value=1.0, max=1.0)…"
            ]
          },
          "metadata": {},
          "output_type": "display_data"
        },
        {
          "data": {
            "text/html": [
              "<style>\n",
              "    table.wandb td:nth-child(1) { padding: 0 10px; text-align: right }\n",
              "    .wandb-row { display: flex; flex-direction: row; flex-wrap: wrap; width: 100% }\n",
              "    .wandb-col { display: flex; flex-direction: column; flex-basis: 100%; flex: 1; padding: 10px; }\n",
              "    </style>\n",
              "<div class=\"wandb-row\"><div class=\"wandb-col\">\n",
              "</div><div class=\"wandb-col\">\n",
              "</div></div>\n",
              "Synced 5 W&B file(s), 0 media file(s), 0 artifact file(s) and 0 other file(s)\n",
              "<br/>Synced <strong style=\"color:#cdcd00\">MastersProject1</strong>: <a href=\"https://wandb.ai/kuul-guy/covid-analysis/runs/1gcvpws5\" target=\"_blank\">https://wandb.ai/kuul-guy/covid-analysis/runs/1gcvpws5</a><br/>\n",
              "Find logs at: <code>./wandb/run-20211115_073618-1gcvpws5/logs</code><br/>\n"
            ],
            "text/plain": [
              "<IPython.core.display.HTML object>"
            ]
          },
          "metadata": {},
          "output_type": "display_data"
        },
        {
          "data": {
            "text/html": [
              "Successfully finished last run (ID:1gcvpws5). Initializing new run:<br/>"
            ],
            "text/plain": [
              "<IPython.core.display.HTML object>"
            ]
          },
          "metadata": {},
          "output_type": "display_data"
        },
        {
          "data": {
            "text/html": [
              "\n",
              "                    Syncing run <strong><a href=\"https://wandb.ai/kuul-guy/covid-analysis/runs/2esutu5w\" target=\"_blank\">MastersProject1</a></strong> to <a href=\"https://wandb.ai/kuul-guy/covid-analysis\" target=\"_blank\">Weights & Biases</a> (<a href=\"https://docs.wandb.com/integrations/jupyter.html\" target=\"_blank\">docs</a>).<br/>\n",
              "\n",
              "                "
            ],
            "text/plain": [
              "<IPython.core.display.HTML object>"
            ]
          },
          "metadata": {},
          "output_type": "display_data"
        },
        {
          "name": "stderr",
          "output_type": "stream",
          "text": [
            "All model checkpoint layers were used when initializing TFBertForSequenceClassification.\n",
            "\n",
            "Some layers of TFBertForSequenceClassification were not initialized from the model checkpoint at digitalepidemiologylab/covid-twitter-bert-v2 and are newly initialized: ['classifier']\n",
            "You should probably TRAIN this model on a down-stream task to be able to use it for predictions and inference.\n"
          ]
        }
      ]
    },
    {
      "cell_type": "code",
      "metadata": {
        "colab": {
          "base_uri": "https://localhost:8080/",
          "height": 296
        },
        "id": "p-Zg7br1mXYO",
        "outputId": "f560840a-9686-46ef-a35b-a8d43c5fbfe6"
      },
      "source": [
        "data = pd.read_csv('train.csv', lineterminator='\\n')\n",
        "\n",
        "# input data split\n",
        "data.groupby(['label']).size().plot(kind = 'bar')\n"
      ],
      "execution_count": null,
      "outputs": [
        {
          "data": {
            "text/plain": [
              "<matplotlib.axes._subplots.AxesSubplot at 0x7ff32b402490>"
            ]
          },
          "execution_count": 36,
          "metadata": {},
          "output_type": "execute_result"
        },
        {
          "data": {
            "image/png": "[encoded data removed]",
            "text/plain": [
              "<Figure size 432x288 with 1 Axes>"
            ]
          },
          "metadata": {},
          "output_type": "display_data"
        }
      ]
    },
    {
      "cell_type": "code",
      "metadata": {
        "id": "b4ToMInChP0A"
      },
      "source": [
        "qw1 = a1.get_labels(train[[\"label\"]])"
      ],
      "execution_count": null,
      "outputs": []
    },
    {
      "cell_type": "code",
      "metadata": {
        "id": "cOTb5Q-8qR90"
      },
      "source": [
        "y = a.predict(train[[\"text\"]])"
      ],
      "execution_count": null,
      "outputs": []
    },
    {
      "cell_type": "code",
      "metadata": {
        "colab": {
          "base_uri": "https://localhost:8080/"
        },
        "id": "8hU_UPySbRvK",
        "outputId": "957bf199-e466-48d4-de82-4ed8fa0b07ca"
      },
      "source": [
        "from sklearn.metrics import confusion_matrix\n",
        "\n",
        "confusion_matrix(a.get_labels(train[[\"label\"]]), y)"
      ],
      "execution_count": null,
      "outputs": [
        {
          "data": {
            "text/plain": [
              "array([[744,   0,   0],\n",
              "       [752,   0,   0],\n",
              "       [745,   0,   0]])"
            ]
          },
          "execution_count": 56,
          "metadata": {},
          "output_type": "execute_result"
        }
      ]
    },
    {
      "cell_type": "code",
      "metadata": {
        "colab": {
          "base_uri": "https://localhost:8080/"
        },
        "id": "dw5v_ZlMpf5J",
        "outputId": "b36f7d00-8b83-4d0f-f2d3-09c4f09073a8"
      },
      "source": [
        "set(y)"
      ],
      "execution_count": null,
      "outputs": [
        {
          "data": {
            "text/plain": [
              "{0}"
            ]
          },
          "execution_count": 55,
          "metadata": {},
          "output_type": "execute_result"
        }
      ]
    },
    {
      "cell_type": "code",
      "metadata": {
        "id": "Keyy-bNbpiX8"
      },
      "source": [
        "w = pd.read_csv('train-2.csv', lineterminator='\\n')"
      ],
      "execution_count": null,
      "outputs": []
    },
    {
      "cell_type": "code",
      "metadata": {
        "colab": {
          "base_uri": "https://localhost:8080/"
        },
        "id": "hF8HNfdilGoj",
        "outputId": "867fb49c-000c-48bf-d082-1967e907f51a"
      },
      "source": [
        "w.groupby(['label']).size()"
      ],
      "execution_count": null,
      "outputs": [
        {
          "output_type": "execute_result",
          "data": {
            "text/plain": [
              "label\n",
              "-1    1134\n",
              " 0    6467\n",
              " 1    4464\n",
              "dtype: int64"
            ]
          },
          "metadata": {},
          "execution_count": 5
        }
      ]
    },
    {
      "cell_type": "code",
      "metadata": {
        "id": "J9uljLcElHDK"
      },
      "source": [
        "a = w[w[\"label\"] == 0].sample(1134)\n",
        "b = w[w[\"label\"] == 1].sample(1134)\n",
        "c = w[w[\"label\"] == -1].sample(1134)\n"
      ],
      "execution_count": null,
      "outputs": []
    },
    {
      "cell_type": "code",
      "metadata": {
        "colab": {
          "base_uri": "https://localhost:8080/",
          "height": 419
        },
        "id": "J8eoPVh7lUbX",
        "outputId": "50e62827-280b-41b9-ad0b-eeb7a1a9b688"
      },
      "source": [
        "a"
      ],
      "execution_count": null,
      "outputs": [
        {
          "data": {
            "text/html": [
              "<div>\n",
              "<style scoped>\n",
              "    .dataframe tbody tr th:only-of-type {\n",
              "        vertical-align: middle;\n",
              "    }\n",
              "\n",
              "    .dataframe tbody tr th {\n",
              "        vertical-align: top;\n",
              "    }\n",
              "\n",
              "    .dataframe thead th {\n",
              "        text-align: right;\n",
              "    }\n",
              "</style>\n",
              "<table border=\"1\" class=\"dataframe\">\n",
              "  <thead>\n",
              "    <tr style=\"text-align: right;\">\n",
              "      <th></th>\n",
              "      <th>Unnamed: 0</th>\n",
              "      <th>tweet_id</th>\n",
              "      <th>text</th>\n",
              "      <th>label</th>\n",
              "    </tr>\n",
              "  </thead>\n",
              "  <tbody>\n",
              "    <tr>\n",
              "      <th>678</th>\n",
              "      <td>678</td>\n",
              "      <td>588567851256061953</td>\n",
              "      <td>@jesse_holbrook of course it's @ap.. measles '...</td>\n",
              "      <td>0</td>\n",
              "    </tr>\n",
              "    <tr>\n",
              "      <th>594</th>\n",
              "      <td>594</td>\n",
              "      <td>562433759283122177</td>\n",
              "      <td>@Mad_Science_Guy recall the X Files ep where t...</td>\n",
              "      <td>0</td>\n",
              "    </tr>\n",
              "    <tr>\n",
              "      <th>11692</th>\n",
              "      <td>11692</td>\n",
              "      <td>430056573713797120</td>\n",
              "      <td>Herd Immunity people #science RT @timesunion: ...</td>\n",
              "      <td>0</td>\n",
              "    </tr>\n",
              "    <tr>\n",
              "      <th>11444</th>\n",
              "      <td>11444</td>\n",
              "      <td>365436743429791745</td>\n",
              "      <td>Officials: Michigan's vaccination rates are dr...</td>\n",
              "      <td>0</td>\n",
              "    </tr>\n",
              "    <tr>\n",
              "      <th>2499</th>\n",
              "      <td>2499</td>\n",
              "      <td>680153818508693504</td>\n",
              "      <td>Bring it on typhoid fever !! And all the other...</td>\n",
              "      <td>0</td>\n",
              "    </tr>\n",
              "    <tr>\n",
              "      <th>...</th>\n",
              "      <td>...</td>\n",
              "      <td>...</td>\n",
              "      <td>...</td>\n",
              "      <td>...</td>\n",
              "    </tr>\n",
              "    <tr>\n",
              "      <th>7926</th>\n",
              "      <td>7926</td>\n",
              "      <td>472435251793260544</td>\n",
              "      <td>New vaccinations required for Maryland student...</td>\n",
              "      <td>0</td>\n",
              "    </tr>\n",
              "    <tr>\n",
              "      <th>597</th>\n",
              "      <td>597</td>\n",
              "      <td>562436750786977792</td>\n",
              "      <td>@allinwithchris   Measles McCarthy and now Rub...</td>\n",
              "      <td>0</td>\n",
              "    </tr>\n",
              "    <tr>\n",
              "      <th>4142</th>\n",
              "      <td>4142</td>\n",
              "      <td>747479571688087552</td>\n",
              "      <td>AIDS N : Could mimicking infants' immune respo...</td>\n",
              "      <td>0</td>\n",
              "    </tr>\n",
              "    <tr>\n",
              "      <th>3146</th>\n",
              "      <td>3146</td>\n",
              "      <td>132675523972308992</td>\n",
              "      <td>go right through you like Brandreth's pills, r...</td>\n",
              "      <td>0</td>\n",
              "    </tr>\n",
              "    <tr>\n",
              "      <th>5286</th>\n",
              "      <td>5286</td>\n",
              "      <td>563870783047360513</td>\n",
              "      <td>Nevada health officials update legislators on ...</td>\n",
              "      <td>0</td>\n",
              "    </tr>\n",
              "  </tbody>\n",
              "</table>\n",
              "<p>1134 rows × 4 columns</p>\n",
              "</div>"
            ],
            "text/plain": [
              "       Unnamed: 0  ...  label\n",
              "678           678  ...      0\n",
              "594           594  ...      0\n",
              "11692       11692  ...      0\n",
              "11444       11444  ...      0\n",
              "2499         2499  ...      0\n",
              "...           ...  ...    ...\n",
              "7926         7926  ...      0\n",
              "597           597  ...      0\n",
              "4142         4142  ...      0\n",
              "3146         3146  ...      0\n",
              "5286         5286  ...      0\n",
              "\n",
              "[1134 rows x 4 columns]"
            ]
          },
          "execution_count": 17,
          "metadata": {},
          "output_type": "execute_result"
        }
      ]
    },
    {
      "cell_type": "code",
      "metadata": {
        "id": "ngIwzAAGmN9L"
      },
      "source": [
        "d = pd.concat([a, b, c], ignore_index=True)[[\"tweet_id\", \"text\", \"label\"]]"
      ],
      "execution_count": null,
      "outputs": []
    },
    {
      "cell_type": "code",
      "metadata": {
        "id": "MOjBSlF8nOpx"
      },
      "source": [
        "d.to_csv(\"train.csv\")"
      ],
      "execution_count": null,
      "outputs": []
    },
    {
      "cell_type": "code",
      "metadata": {
        "colab": {
          "base_uri": "https://localhost:8080/",
          "height": 419
        },
        "id": "pNpVl0Aenhl4",
        "outputId": "124f2bee-66ba-422f-f7ce-62022781c8e8"
      },
      "source": [
        "pd.read_csv(\"train.csv\" , lineterminator='\\n')"
      ],
      "execution_count": null,
      "outputs": [
        {
          "output_type": "execute_result",
          "data": {
            "text/html": [
              "<div>\n",
              "<style scoped>\n",
              "    .dataframe tbody tr th:only-of-type {\n",
              "        vertical-align: middle;\n",
              "    }\n",
              "\n",
              "    .dataframe tbody tr th {\n",
              "        vertical-align: top;\n",
              "    }\n",
              "\n",
              "    .dataframe thead th {\n",
              "        text-align: right;\n",
              "    }\n",
              "</style>\n",
              "<table border=\"1\" class=\"dataframe\">\n",
              "  <thead>\n",
              "    <tr style=\"text-align: right;\">\n",
              "      <th></th>\n",
              "      <th>Unnamed: 0</th>\n",
              "      <th>tweet_id</th>\n",
              "      <th>text</th>\n",
              "      <th>label</th>\n",
              "    </tr>\n",
              "  </thead>\n",
              "  <tbody>\n",
              "    <tr>\n",
              "      <th>0</th>\n",
              "      <td>0</td>\n",
              "      <td>563451548471005184</td>\n",
              "      <td>Businesses forced to deal with measles as it m...</td>\n",
              "      <td>0</td>\n",
              "    </tr>\n",
              "    <tr>\n",
              "      <th>1</th>\n",
              "      <td>1</td>\n",
              "      <td>676899944708579329</td>\n",
              "      <td>Have you ever wondered what's really in a vacc...</td>\n",
              "      <td>0</td>\n",
              "    </tr>\n",
              "    <tr>\n",
              "      <th>2</th>\n",
              "      <td>2</td>\n",
              "      <td>231600872134672384</td>\n",
              "      <td>Autism researcher Wakefield cana t sue UK jour...</td>\n",
              "      <td>0</td>\n",
              "    </tr>\n",
              "    <tr>\n",
              "      <th>3</th>\n",
              "      <td>3</td>\n",
              "      <td>463400252100198400</td>\n",
              "      <td>“@HuffingtonPost: The spread of polio is offic...</td>\n",
              "      <td>0</td>\n",
              "    </tr>\n",
              "    <tr>\n",
              "      <th>4</th>\n",
              "      <td>4</td>\n",
              "      <td>350414898389467137</td>\n",
              "      <td>I don't get why when I ask. My mom if i can  g...</td>\n",
              "      <td>0</td>\n",
              "    </tr>\n",
              "    <tr>\n",
              "      <th>...</th>\n",
              "      <td>...</td>\n",
              "      <td>...</td>\n",
              "      <td>...</td>\n",
              "      <td>...</td>\n",
              "    </tr>\n",
              "    <tr>\n",
              "      <th>3397</th>\n",
              "      <td>3397</td>\n",
              "      <td>543200653825556480</td>\n",
              "      <td>#autism # vaccine # family # FAITH WE NEED YOU...</td>\n",
              "      <td>-1</td>\n",
              "    </tr>\n",
              "    <tr>\n",
              "      <th>3398</th>\n",
              "      <td>3398</td>\n",
              "      <td>295083865968627713</td>\n",
              "      <td>My baby got a painful lump on her back leg fro...</td>\n",
              "      <td>-1</td>\n",
              "    </tr>\n",
              "    <tr>\n",
              "      <th>3399</th>\n",
              "      <td>3399</td>\n",
              "      <td>373629025182580736</td>\n",
              "      <td>7. Protect the Children - Don't Vaccinate, Med...</td>\n",
              "      <td>-1</td>\n",
              "    </tr>\n",
              "    <tr>\n",
              "      <th>3400</th>\n",
              "      <td>3400</td>\n",
              "      <td>563132764271038464</td>\n",
              "      <td>@mission2heal Do the statistics back up the cl...</td>\n",
              "      <td>-1</td>\n",
              "    </tr>\n",
              "    <tr>\n",
              "      <th>3401</th>\n",
              "      <td>3401</td>\n",
              "      <td>572101059750981632</td>\n",
              "      <td>@CoolCzech1 @dhrxsol1234 @BreitbartNews I know...</td>\n",
              "      <td>-1</td>\n",
              "    </tr>\n",
              "  </tbody>\n",
              "</table>\n",
              "<p>3402 rows × 4 columns</p>\n",
              "</div>"
            ],
            "text/plain": [
              "      Unnamed: 0  ...  label\n",
              "0              0  ...      0\n",
              "1              1  ...      0\n",
              "2              2  ...      0\n",
              "3              3  ...      0\n",
              "4              4  ...      0\n",
              "...          ...  ...    ...\n",
              "3397        3397  ...     -1\n",
              "3398        3398  ...     -1\n",
              "3399        3399  ...     -1\n",
              "3400        3400  ...     -1\n",
              "3401        3401  ...     -1\n",
              "\n",
              "[3402 rows x 4 columns]"
            ]
          },
          "metadata": {},
          "execution_count": 9
        }
      ]
    },
    {
      "cell_type": "code",
      "metadata": {
        "id": "ENR_7VZnoCDI"
      },
      "source": [
        ""
      ],
      "execution_count": null,
      "outputs": []
    }
  ]
}